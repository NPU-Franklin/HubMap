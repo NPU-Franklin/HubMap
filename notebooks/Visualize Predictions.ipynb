{
 "cells": [
  {
   "cell_type": "code",
   "execution_count": null,
   "metadata": {},
   "outputs": [],
   "source": [
    "# %load_ext nb_black\n",
    "%load_ext autoreload\n",
    "%autoreload 2"
   ]
  },
  {
   "cell_type": "markdown",
   "metadata": {},
   "source": [
    "## Initialization"
   ]
  },
  {
   "cell_type": "markdown",
   "metadata": {},
   "source": [
    "### Imports"
   ]
  },
  {
   "cell_type": "code",
   "execution_count": null,
   "metadata": {},
   "outputs": [],
   "source": [
    "import os\n",
    "import sys\n",
    "import cv2\n",
    "import json\n",
    "import glob\n",
    "import torch\n",
    "import numpy as np\n",
    "import pandas as pd\n",
    "import seaborn as sns\n",
    "import plotly.express as px\n",
    "\n",
    "from tqdm.notebook import tqdm\n",
    "from collections import Counter\n",
    "from matplotlib import pyplot as plt\n",
    "\n",
    "sys.path.append(\"../code/\")"
   ]
  },
  {
   "cell_type": "code",
   "execution_count": null,
   "metadata": {},
   "outputs": [],
   "source": [
    "from params import *\n",
    "from utils.rle import *\n",
    "\n",
    "from data.dataset import load_image\n",
    "\n",
    "from utils.metrics import dice_scores_img\n",
    "from utils.plots import plot_heatmap_preds, plot_contours_preds"
   ]
  },
  {
   "cell_type": "markdown",
   "metadata": {},
   "source": [
    "### Load"
   ]
  },
  {
   "cell_type": "code",
   "execution_count": null,
   "metadata": {},
   "outputs": [],
   "source": [
    "df_info = pd.read_csv(DATA_PATH + f\"HuBMAP-20-dataset_information.csv\")\n",
    "df_mask = pd.read_csv(DATA_PATH + \"train_4.csv\")\n",
    "# df = pd.read_csv(OUT_PATH + \"df_images.csv\")"
   ]
  },
  {
   "cell_type": "markdown",
   "metadata": {},
   "source": [
    "### Data"
   ]
  },
  {
   "cell_type": "code",
   "execution_count": null,
   "metadata": {},
   "outputs": [],
   "source": [
    "root = TIFF_PATH_4\n",
    "rle_path = DATA_PATH + \"train_4.csv\"\n",
    "reduce_factor = 1\n",
    "rles = pd.read_csv(rle_path)"
   ]
  },
  {
   "cell_type": "markdown",
   "metadata": {},
   "source": [
    "### Experiment"
   ]
  },
  {
   "cell_type": "code",
   "execution_count": null,
   "metadata": {},
   "outputs": [],
   "source": [
    "log_folder = \"../logs/2021-04-05/4/\"  # b1"
   ]
  },
  {
   "cell_type": "code",
   "execution_count": null,
   "metadata": {},
   "outputs": [],
   "source": [
    "class Config:\n",
    "    def __init__(self, **entries):\n",
    "        self.__dict__.update(entries)\n",
    "\n",
    "config = json.load(open(log_folder + 'config.json', 'r'))\n",
    "config = Config(**config)"
   ]
  },
  {
   "cell_type": "code",
   "execution_count": null,
   "metadata": {},
   "outputs": [],
   "source": [
    "global_threshold = 0.4"
   ]
  },
  {
   "cell_type": "code",
   "execution_count": null,
   "metadata": {},
   "outputs": [],
   "source": [
    "preds = glob.glob(log_folder + \"pred_*.npy\")"
   ]
  },
  {
   "cell_type": "code",
   "execution_count": null,
   "metadata": {},
   "outputs": [],
   "source": [
    "preds"
   ]
  },
  {
   "cell_type": "markdown",
   "metadata": {},
   "source": [
    "## Train viz"
   ]
  },
  {
   "cell_type": "code",
   "execution_count": null,
   "metadata": {},
   "outputs": [],
   "source": [
    "THRESHOLD = 0.4"
   ]
  },
  {
   "cell_type": "code",
   "execution_count": null,
   "metadata": {},
   "outputs": [],
   "source": [
    "NAMES = [\n",
    "    \"b9a3865fc\",\n",
    "    \"aaa6a05cc\",\n",
    "    \"e79de561c\",\n",
    "    \"8242609fa\",\n",
    "    \"2f6ecfcdf\",\n",
    "    \"0486052bb\",\n",
    "    \"26dc41664\",\n",
    "    \"afa5e8098\",\n",
    "    \"54f2eec69\",\n",
    "    \"cb2d976f4\",\n",
    "    \"4ef6695ce\",\n",
    "    \"095bf7a1f\",\n",
    "    \"1e2425f28\",\n",
    "    \"c68fe75ea\",\n",
    "    \"b2dc8411c\",\n",
    "]"
   ]
  },
  {
   "cell_type": "code",
   "execution_count": null,
   "metadata": {},
   "outputs": [],
   "source": [
    "mask_name = \"aaa6a05cc\"\n",
    "\n",
    "idx = [i for i, path in enumerate(preds) if mask_name in path][0]"
   ]
  },
  {
   "cell_type": "code",
   "execution_count": null,
   "metadata": {},
   "outputs": [],
   "source": [
    "probs = np.load(preds[idx]).astype(np.float32)\n",
    "pred = (probs > THRESHOLD).astype(np.uint8)"
   ]
  },
  {
   "cell_type": "code",
   "execution_count": null,
   "metadata": {},
   "outputs": [],
   "source": [
    "img = load_image(os.path.join(TIFF_PATH_4, mask_name + \".tiff\"), full_size=False)"
   ]
  },
  {
   "cell_type": "code",
   "execution_count": null,
   "metadata": {},
   "outputs": [],
   "source": [
    "rle = df_mask[df_mask['id'] == mask_name]['encoding']\n",
    "mask = enc2mask(rle, (img.shape[1], img.shape[0]))"
   ]
  },
  {
   "cell_type": "code",
   "execution_count": null,
   "metadata": {},
   "outputs": [],
   "source": [
    "mask.shape, img.shape, pred.shape"
   ]
  },
  {
   "cell_type": "code",
   "execution_count": null,
   "metadata": {},
   "outputs": [],
   "source": [
    "score = dice_scores_img(pred , mask)\n",
    "print(f'Score for downscaled image is {score:.4f}')"
   ]
  },
  {
   "cell_type": "markdown",
   "metadata": {},
   "source": [
    "### Plot"
   ]
  },
  {
   "cell_type": "code",
   "execution_count": null,
   "metadata": {},
   "outputs": [],
   "source": [
    "w = 1000\n",
    "h = int(w *  mask.shape[0] / mask.shape[1])"
   ]
  },
  {
   "cell_type": "code",
   "execution_count": null,
   "metadata": {
    "scrolled": false
   },
   "outputs": [],
   "source": [
    "fig = plot_contours_preds(img, pred, mask, w=2, downsize=2)\n",
    "\n",
    "fig.update_layout(\n",
    "    autosize=False,\n",
    "    width=w,\n",
    "    height=h,\n",
    ")\n",
    "\n",
    "fig.show()"
   ]
  },
  {
   "cell_type": "code",
   "execution_count": null,
   "metadata": {
    "scrolled": false
   },
   "outputs": [],
   "source": [
    "# fig = plot_heatmap_preds(img, probs, mask, w=1, downsize=2)\n",
    "\n",
    "# fig.update_layout(\n",
    "#     autosize=False,\n",
    "#     width=w,\n",
    "#     height=h,\n",
    "# )\n",
    "\n",
    "# fig.show()"
   ]
  },
  {
   "cell_type": "markdown",
   "metadata": {},
   "source": [
    "## Test viz"
   ]
  },
  {
   "cell_type": "markdown",
   "metadata": {},
   "source": [
    "### Load image"
   ]
  },
  {
   "cell_type": "code",
   "execution_count": null,
   "metadata": {},
   "outputs": [],
   "source": [
    "df_test = pd.read_csv(DATA_PATH + \"sample_submission.csv\")\n",
    "\n",
    "list(df_test['id'])"
   ]
  },
  {
   "cell_type": "code",
   "execution_count": null,
   "metadata": {},
   "outputs": [],
   "source": [
    "name = '57512b7f1'\n",
    "fold = 0\n",
    "\n",
    "img = load_image(f'{DATA_PATH}/test_4/{name}.tiff', full_size=False)"
   ]
  },
  {
   "cell_type": "code",
   "execution_count": null,
   "metadata": {},
   "outputs": [],
   "source": [
    "probs = np.load(log_folder + f'pred_{name}_{fold}.npy').astype(np.float32)\n",
    "pred = (probs > THRESHOLD).astype(np.uint8)"
   ]
  },
  {
   "cell_type": "markdown",
   "metadata": {},
   "source": [
    "## From sub"
   ]
  },
  {
   "cell_type": "code",
   "execution_count": null,
   "metadata": {},
   "outputs": [],
   "source": [
    "sub = pd.read_csv(OUT_PATH + \"submission_930.csv\")\n",
    "sub2 = pd.read_csv(OUT_PATH + \"submission_0929.csv\")\n",
    "\n",
    "for id_ in list(df_test['id']):\n",
    "    shape = df_info[df_info['image_file'] == id_ + '.tiff'][['width_pixels', 'height_pixels']].values[0]\n",
    "    \n",
    "    rle = sub[sub['id'] == id_]['predicted'].values\n",
    "    sub_mask = enc2mask(rle, shape)\n",
    "    \n",
    "    rle_2 = sub2[sub2['id'] == id_]['predicted'].values\n",
    "    sub_mask_2 = enc2mask(rle_2, shape)\n",
    "    \n",
    "    print(id_, dice_scores_img(sub_mask, sub_mask_2))"
   ]
  },
  {
   "cell_type": "code",
   "execution_count": null,
   "metadata": {
    "scrolled": true
   },
   "outputs": [],
   "source": [
    "shape = df_info[df_info['image_file'] == name + '.tiff'][['width_pixels', 'height_pixels']].values[0]"
   ]
  },
  {
   "cell_type": "code",
   "execution_count": null,
   "metadata": {},
   "outputs": [],
   "source": [
    "sub = pd.read_csv(OUT_PATH + \"submission_930.csv\")\n",
    "rle = sub[sub['id'] == name]['predicted'].values\n",
    "\n",
    "sub_mask = enc2mask(rle, shape)\n",
    "\n",
    "sub_mask = cv2.resize(\n",
    "    sub_mask,\n",
    "    tuple(list(shape // 4)),\n",
    "    interpolation=cv2.INTER_NEAREST,\n",
    ")"
   ]
  },
  {
   "cell_type": "code",
   "execution_count": null,
   "metadata": {},
   "outputs": [],
   "source": [
    "sub = pd.read_csv(OUT_PATH + \"submission_0929.csv\")\n",
    "rle = sub[sub['id'] == name]['predicted'].values\n",
    "\n",
    "sub_mask2 = enc2mask(rle, shape)\n",
    "\n",
    "sub_mask2 = cv2.resize(\n",
    "    sub_mask2,\n",
    "    tuple(list(shape // 4)),\n",
    "    interpolation=cv2.INTER_NEAREST,\n",
    ")"
   ]
  },
  {
   "cell_type": "markdown",
   "metadata": {},
   "source": [
    "### Plot"
   ]
  },
  {
   "cell_type": "code",
   "execution_count": null,
   "metadata": {},
   "outputs": [],
   "source": [
    "w = 1000\n",
    "h = int(w * pred.shape[0] / pred.shape[1])"
   ]
  },
  {
   "cell_type": "code",
   "execution_count": null,
   "metadata": {},
   "outputs": [],
   "source": [
    "# fig = plot_contours_preds(img, pred, mask=None, w=2, downsize=4)\n",
    "fig = plot_contours_preds(img, sub_mask, mask=sub_mask2, w=2, downsize=2)\n",
    "\n",
    "fig.update_layout(\n",
    "    autosize=False,\n",
    "    width=w,\n",
    "    height=h,\n",
    ")\n",
    "\n",
    "fig.show()"
   ]
  },
  {
   "cell_type": "markdown",
   "metadata": {},
   "source": [
    "# Post-processing"
   ]
  },
  {
   "cell_type": "code",
   "execution_count": null,
   "metadata": {},
   "outputs": [],
   "source": [
    "def post_process_mask(probs, threshold_max=0.5, threshold_prob=0.4, threshold_comp=0.3, plot=True):\n",
    "    \n",
    "    mask = (probs > threshold_comp).astype(np.uint8)\n",
    "    num_component, components = cv2.connectedComponents(mask, connectivity=8)\n",
    "    \n",
    "    processed_mask = np.zeros(mask.shape, np.uint8)\n",
    "\n",
    "    maxs = []\n",
    "    removed = 0\n",
    "    for c in tqdm(range(1, num_component)):\n",
    "        component = (components == c)\n",
    "        \n",
    "        component_prob = probs[component]\n",
    "        max_prob = component_prob.max()\n",
    "        \n",
    "        maxs.append(max_prob)\n",
    "\n",
    "        if max_prob > threshold_max:  # accept component\n",
    "            processed_mask[component] = component_prob > threshold_prob\n",
    "        else:\n",
    "            removed += 1\n",
    "    \n",
    "    print(f'Removed {removed} components.')\n",
    "\n",
    "    if plot:\n",
    "        plt.figure(figsize=(15, 5))\n",
    "        sns.histplot(maxs, bins=50)\n",
    "        plt.axvline(threshold_max, color=\"salmon\")\n",
    "        plt.show()\n",
    "\n",
    "    return processed_mask"
   ]
  },
  {
   "cell_type": "code",
   "execution_count": null,
   "metadata": {},
   "outputs": [],
   "source": [
    "THRESHOLD_MAX = 0.9\n",
    "THRESHOLD_COMP = 0.4\n",
    "THRESHOLD_PROB = 0.2\n",
    "\n",
    "PLOT = False"
   ]
  },
  {
   "cell_type": "code",
   "execution_count": null,
   "metadata": {
    "scrolled": true
   },
   "outputs": [],
   "source": [
    "# scores_before = []\n",
    "# scores_after = []\n",
    "\n",
    "# for idx, pred in enumerate(preds):\n",
    "#     mask_name = pred.split('/')[-1].split('_')[1][:-4]\n",
    "#     print(f'\\n  -> Mask {mask_name}')\n",
    "    \n",
    "#     rle = df_mask[df_mask['id'] == mask_name]['encoding']\n",
    "#     img = load_image(os.path.join(TIFF_PATH_4, mask_name + \".tiff\"), full_size=False)\n",
    "#     mask = enc2mask(rle, (img.shape[1], img.shape[0]))\n",
    "    \n",
    "#     probs = np.load(pred)\n",
    "#     pred_mask = (probs > 0.4).astype(np.uint8)\n",
    "\n",
    "#     pred_pp = post_process_mask(\n",
    "#         probs, \n",
    "#         threshold_comp=THRESHOLD_COMP, \n",
    "#         threshold_max=THRESHOLD_MAX, \n",
    "#         threshold_prob=THRESHOLD_PROB,\n",
    "#         plot=PLOT,\n",
    "#     )\n",
    "    \n",
    "#     scores_before.append(dice_scores_img(pred_mask, mask))\n",
    "#     scores_after.append(dice_scores_img(pred_pp, mask))\n",
    "    \n",
    "#     print(f'Score before PP : {scores_before[-1] :.4f}')\n",
    "#     print(f'Score after PP :  {scores_after[-1] :.4f}')"
   ]
  },
  {
   "cell_type": "code",
   "execution_count": null,
   "metadata": {},
   "outputs": [],
   "source": [
    "# print(f'CV before PP : {np.mean(scores_before) :.4f}')\n",
    "# print(f'CV after PP :  {np.mean(scores_after) :.4f}')"
   ]
  },
  {
   "cell_type": "markdown",
   "metadata": {},
   "source": [
    "# Glomeruli vote blend"
   ]
  },
  {
   "cell_type": "code",
   "execution_count": null,
   "metadata": {},
   "outputs": [],
   "source": [
    "def get_disjoined_components(mask, k=3, iterations=10):\n",
    "    if iterations:\n",
    "        mask = cv2.erode(mask, kernel=np.ones((k, k), np.uint8), iterations=iterations)\n",
    "        \n",
    "    num_components, components = cv2.connectedComponents(mask, connectivity=8)\n",
    "    \n",
    "    if iterations:\n",
    "        components = cv2.dilate(components.astype(np.uint16), kernel=np.ones((k, k), np.uint8), iterations=iterations)\n",
    "    return num_components, components"
   ]
  },
  {
   "cell_type": "code",
   "execution_count": null,
   "metadata": {},
   "outputs": [],
   "source": [
    "def get_disjoined_components_2(mask, k=3, iterations=10):\n",
    "    mask = cv2.erode(mask, kernel=np.ones((k, k), np.uint8), iterations=iterations)\n",
    "    num_components, components = cv2.connectedComponents(mask, connectivity=8)\n",
    "    components = cv2.dilate(components.astype(np.uint16), kernel=np.ones((k, k), np.uint8), iterations=iterations)\n",
    "    \n",
    "    x_coords = np.arange(mask.shape[0])\n",
    "    y_coords = np.arange(mask.shape[1])\n",
    "    \n",
    "    current_idx = num_components\n",
    "    for c in tqdm(range(1, num_components)):\n",
    "        component = (components == c) \n",
    "        \n",
    "        if component.sum() > 50 ** 2:  # too big!\n",
    "            x_comp = x_coords[component.sum(1) > 0][[0, -1]]\n",
    "            y_comp = y_coords[component.sum(0) > 0][[0, -1]]\n",
    "            box = (x_comp[0] - 10, x_comp[1] + 10, y_comp[0] - 10, y_comp[1] + 10)\n",
    "            \n",
    "            component = cv2.erode(\n",
    "                component.astype(np.uint8), \n",
    "                kernel=np.ones((k, k), np.uint8), \n",
    "                iterations=iterations + 5\n",
    "            )\n",
    "                \n",
    "            num_components_bis, components_bis = cv2.connectedComponents(component, connectivity=8)\n",
    "            \n",
    "            if num_components_bis > 1:\n",
    "                components_bis = cv2.dilate(\n",
    "                    components_bis.astype(np.uint16), \n",
    "                    kernel=np.ones((k, k), np.uint8), \n",
    "                    iterations=iterations + 5\n",
    "                )\n",
    "                    \n",
    "#                 print(num_components_bis)\n",
    "                plt.figure(figsize=(10, 5))\n",
    "                plt.subplot(1, 3, 1)\n",
    "                plt.imshow(components[box[0]: box[1], box[2]: box[3]])\n",
    "                plt.subplot(1, 3, 2)\n",
    "                plt.imshow(components_bis[box[0]: box[1], box[2]: box[3]])\n",
    "                plt.show()\n",
    "                \n",
    "\n",
    "                components[components == c] = 0\n",
    "                components_bis[components_bis > 0] += current_idx\n",
    "                current_idx += num_components_bis\n",
    "                \n",
    "                components += components_bis.astype(np.uint16)\n",
    "\n",
    "    num_components = len(np.unique(components))\n",
    "        \n",
    "    return num_components, components"
   ]
  },
  {
   "cell_type": "code",
   "execution_count": null,
   "metadata": {},
   "outputs": [],
   "source": [
    "import joblib\n",
    "from numba import jit\n",
    "\n",
    "@jit(nopython=True)\n",
    "def get_component_votes(probs, component, threshold_max, x0, x1, y0, y1):\n",
    "    return [np.max(component[x0: x1, y0: y1] * prob[x0: x1, y0: y1]) > threshold_max for prob in probs]\n",
    "\n",
    "def get_component_vote(prob, component, threshold_max):\n",
    "    return np.max(prob[component]) > threshold_max"
   ]
  },
  {
   "cell_type": "code",
   "execution_count": null,
   "metadata": {},
   "outputs": [],
   "source": [
    "def glomeruli_vote(probs, img, threshold_vote=0.5, threshold_prob=0.4, threshold_max=0.7, plot=True, k=3, iterations=10):\n",
    "\n",
    "    probs = np.array(probs)\n",
    "    \n",
    "    # Get all glomerulis\n",
    "    mask_union = ((probs > threshold_prob).sum(0) > 0).astype(np.uint8)\n",
    "    \n",
    "    num_components, components = get_disjoined_components(\n",
    "        mask_union, k=k, iterations=iterations\n",
    "    )\n",
    "    \n",
    "    x_coords = np.arange(mask_union.shape[0])\n",
    "    y_coords = np.arange(mask_union.shape[1])\n",
    "    \n",
    "    processed_mask = np.zeros(mask_union.shape, np.float32)\n",
    "\n",
    "    for c in tqdm(range(1, num_components)):\n",
    "        component = (components == c)\n",
    "        \n",
    "        x0, x1 = x_coords[component.sum(1) > 0][[0, -1]]\n",
    "        y0, y1 = y_coords[component.sum(0) > 0][[0, -1]]\n",
    "        x1 += 1\n",
    "        y1 += 1\n",
    "        \n",
    "        component_probs = [prob[x0: x1, y0: y1][component[x0: x1, y0: y1]] for prob in probs]\n",
    "        \n",
    "#         votes = [np.percentile(component_prob, 95) > threshold_max for component_prob in component_probs]\n",
    "        votes = [np.max(component_prob) > threshold_max for component_prob in component_probs]\n",
    "        vote = np.sum(votes) >= threshold_vote * len(probs)\n",
    "        \n",
    "        if vote:\n",
    "            if iterations:  # compensate for flaws at the border\n",
    "                component = cv2.dilate(component.astype(np.uint8), kernel=np.ones((k, k), np.uint8), iterations=5)\n",
    "\n",
    "            processed_mask[x0: x1, y0: y1] += component[x0: x1, y0: y1] * np.mean(\n",
    "                [probs[i][x0: x1, y0: y1] for i, v in enumerate(votes) if v], 0\n",
    "            )\n",
    "        \n",
    "        if plot and not c % 50:\n",
    "            x_comp = x_coords[component.sum(1) > 0][[0, -1]]\n",
    "            y_comp = y_coords[component.sum(0) > 0][[0, -1]]\n",
    "            box = (x_comp[0] - 10, x_comp[1] + 10, y_comp[0] - 10, y_comp[1] + 10)\n",
    "            \n",
    "            glom = img[box[0]: box[1], box[2]: box[3]]\n",
    "            glom_orig = mask_union[box[0]: box[1], box[2]: box[3]]\n",
    "            glom_proc = components[box[0]: box[1], box[2]: box[3]] == c\n",
    "            \n",
    "            print(votes, '->', vote)\n",
    "            plt.figure(figsize=(15, 5))\n",
    "            plt.subplot(1, 3, 1)\n",
    "            plt.imshow(glom)\n",
    "            plt.subplot(1, 3, 2)\n",
    "            plt.imshow(glom_orig)\n",
    "            plt.subplot(1, 3, 3)\n",
    "            plt.imshow(glom_proc)\n",
    "            plt.show()\n",
    "\n",
    "    return processed_mask"
   ]
  },
  {
   "cell_type": "code",
   "execution_count": null,
   "metadata": {},
   "outputs": [],
   "source": [
    "log_folders = [\n",
    "    \"../logs/2021-04-01/2/\",\n",
    "    \"../logs/2021-04-02/3/\",\n",
    "    \"../logs/2021-04-05/4/\",\n",
    "    \"../logs/2021-04-04/1/\",\n",
    "    \"../logs/2021-04-08/2/\",\n",
    "#     \"../logs/2021-04-08/5/\",\n",
    "#     \"../logs/2021-04-11/3/\",\n",
    "#     \"../logs/2021-04-14/0/\",\n",
    "]"
   ]
  },
  {
   "cell_type": "code",
   "execution_count": null,
   "metadata": {},
   "outputs": [],
   "source": [
    "THRESHOLD_VOTE = 0.5\n",
    "THRESHOLD_PROB = 0.4\n",
    "THRESHOLD_MAX = 0.5\n",
    "THRESHOLD = 0.4\n",
    "\n",
    "PLOT = False"
   ]
  },
  {
   "cell_type": "code",
   "execution_count": null,
   "metadata": {
    "scrolled": false
   },
   "outputs": [],
   "source": [
    "scores_blend = []\n",
    "scores_vote = []\n",
    "\n",
    "for idx, mask_name in enumerate(df_mask['id']):\n",
    "    print(f'\\n  -> Mask {mask_name}')\n",
    "    \n",
    "    rle = df_mask[df_mask['id'] == mask_name]['encoding']\n",
    "    img = load_image(os.path.join(TIFF_PATH_4, mask_name + \".tiff\"), full_size=False)\n",
    "    mask = enc2mask(rle, (img.shape[1], img.shape[0]))\n",
    "    \n",
    "    probs = [np.load(log_folder + f'pred_{mask_name}.npy').astype(np.float32) for log_folder in log_folders]\n",
    "    pred_blend = (np.mean(probs, 0) > THRESHOLD).astype(np.uint8)\n",
    "\n",
    "    pred_vote = glomeruli_vote(\n",
    "        probs,\n",
    "        img, \n",
    "        threshold_vote=THRESHOLD_VOTE,\n",
    "        threshold_prob=THRESHOLD_PROB,\n",
    "        threshold_max=THRESHOLD_MAX,\n",
    "        plot=PLOT,\n",
    "        iterations=0,\n",
    "        k=3,\n",
    "    )\n",
    "    \n",
    "    scores_blend.append(dice_scores_img(pred_blend, mask))\n",
    "    scores_vote.append(dice_scores_img(pred_vote > THRESHOLD, mask))\n",
    "    \n",
    "    print(f'Score with blending : {scores_blend[-1] :.4f}')\n",
    "    print(f'Score with voting :  {scores_vote[-1] :.4f}')\n",
    "    \n",
    "    \n",
    "#     break"
   ]
  },
  {
   "cell_type": "code",
   "execution_count": null,
   "metadata": {
    "scrolled": true
   },
   "outputs": [],
   "source": [
    "print(f'CV with blending : {np.mean(scores_blend) :.4f}')\n",
    "print(f'CV with voting   :  {np.mean(scores_vote) :.4f}')"
   ]
  },
  {
   "cell_type": "code",
   "execution_count": null,
   "metadata": {
    "scrolled": true
   },
   "outputs": [],
   "source": [
    "print(f'CV with blending : {np.mean(scores_blend) :.4f}')\n",
    "print(f'CV with voting   :  {np.mean(scores_vote) :.4f}')"
   ]
  },
  {
   "cell_type": "code",
   "execution_count": null,
   "metadata": {
    "scrolled": false
   },
   "outputs": [],
   "source": [
    "w = 1000\n",
    "h = int(w *  mask.shape[0] / mask.shape[1])\n",
    "\n",
    "fig = plot_contours_preds(img, pred_blend, pred_vote > THRESHOLD, w=2, downsize=2)\n",
    "\n",
    "fig.update_layout(\n",
    "    autosize=False,\n",
    "    width=w,\n",
    "    height=h,\n",
    ")\n",
    "\n",
    "fig.show()"
   ]
  }
 ],
 "metadata": {
  "kernelspec": {
   "display_name": "venv",
   "language": "python",
   "name": "venv"
  },
  "language_info": {
   "codemirror_mode": {
    "name": "ipython",
    "version": 3
   },
   "file_extension": ".py",
   "mimetype": "text/x-python",
   "name": "python",
   "nbconvert_exporter": "python",
   "pygments_lexer": "ipython3",
   "version": "3.8.5"
  }
 },
 "nbformat": 4,
 "nbformat_minor": 4
}
