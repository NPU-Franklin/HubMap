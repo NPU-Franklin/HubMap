{
 "cells": [
  {
   "cell_type": "code",
   "execution_count": null,
   "metadata": {},
   "outputs": [],
   "source": [
    "# %load_ext nb_black\n",
    "%load_ext autoreload\n",
    "%autoreload 2"
   ]
  },
  {
   "cell_type": "markdown",
   "metadata": {},
   "source": [
    "## Initialization"
   ]
  },
  {
   "cell_type": "markdown",
   "metadata": {},
   "source": [
    "### Imports"
   ]
  },
  {
   "cell_type": "code",
   "execution_count": null,
   "metadata": {},
   "outputs": [],
   "source": [
    "import os\n",
    "import sys\n",
    "import cv2\n",
    "import json\n",
    "import glob\n",
    "import torch\n",
    "import tifffile\n",
    "import skimage.io\n",
    "import numpy as np\n",
    "import pandas as pd\n",
    "import seaborn as sns\n",
    "import plotly.express as px\n",
    "\n",
    "from tqdm.notebook import tqdm\n",
    "from collections import Counter\n",
    "from matplotlib import pyplot as plt\n",
    "from scipy.ndimage import gaussian_filter\n",
    "\n",
    "sys.path.append(\"../code/\")"
   ]
  },
  {
   "cell_type": "code",
   "execution_count": null,
   "metadata": {},
   "outputs": [],
   "source": [
    "from params import *\n",
    "from utils.rle import *\n",
    "\n",
    "from data.dataset import load_image\n",
    "\n",
    "from utils.metrics import dice_scores_img\n",
    "from utils.plots import plot_heatmap_preds, plot_contours_preds"
   ]
  },
  {
   "cell_type": "markdown",
   "metadata": {},
   "source": [
    "### Load"
   ]
  },
  {
   "cell_type": "code",
   "execution_count": null,
   "metadata": {},
   "outputs": [],
   "source": [
    "df_info = pd.read_csv(DATA_PATH + f\"HuBMAP-20-dataset_information.csv\")\n",
    "df_mask = pd.read_csv(DATA_PATH + \"train_2_onlyfc.csv\")\n",
    "# df_mask_old = pd.read_csv(DATA_PATH + \"train_4.csv\")\n",
    "df_mask_new = pd.read_csv(DATA_PATH + \"train_2_fix.csv\")\n",
    "# df = pd.read_csv(OUT_PATH + \"df_images.csv\")"
   ]
  },
  {
   "cell_type": "markdown",
   "metadata": {},
   "source": [
    "### Data"
   ]
  },
  {
   "cell_type": "code",
   "execution_count": null,
   "metadata": {},
   "outputs": [],
   "source": [
    "root = TIFF_PATH_2\n",
    "rle_path = DATA_PATH + \"train_2.csv\"\n",
    "reduce_factor = 1\n",
    "rles = pd.read_csv(rle_path)"
   ]
  },
  {
   "cell_type": "markdown",
   "metadata": {},
   "source": [
    "### Experiment"
   ]
  },
  {
   "cell_type": "code",
   "execution_count": null,
   "metadata": {},
   "outputs": [],
   "source": [
    "log_folder = \"../logs/2021-05-06/1/\"  # b1"
   ]
  },
  {
   "cell_type": "code",
   "execution_count": null,
   "metadata": {},
   "outputs": [],
   "source": [
    "class Config:\n",
    "    def __init__(self, **entries):\n",
    "        self.__dict__.update(entries)\n",
    "\n",
    "config = json.load(open(log_folder + 'config.json', 'r'))\n",
    "config = Config(**config)"
   ]
  },
  {
   "cell_type": "code",
   "execution_count": null,
   "metadata": {},
   "outputs": [],
   "source": [
    "global_threshold = 0.5"
   ]
  },
  {
   "cell_type": "code",
   "execution_count": null,
   "metadata": {},
   "outputs": [],
   "source": [
    "preds = glob.glob(log_folder + \"pred_*.npy\")"
   ]
  },
  {
   "cell_type": "markdown",
   "metadata": {},
   "source": [
    "## Train viz"
   ]
  },
  {
   "cell_type": "code",
   "execution_count": null,
   "metadata": {},
   "outputs": [],
   "source": [
    "THRESHOLD = 0.5"
   ]
  },
  {
   "cell_type": "code",
   "execution_count": null,
   "metadata": {},
   "outputs": [],
   "source": [
    "NAMES = [\n",
    "    \"b9a3865fc\",\n",
    "    \"aaa6a05cc\",\n",
    "    \"e79de561c\",\n",
    "    \"8242609fa\",\n",
    "    \"2f6ecfcdf\",\n",
    "    \"0486052bb\",\n",
    "    \"26dc41664\",\n",
    "    \"afa5e8098\",\n",
    "    \"54f2eec69\",\n",
    "    \"cb2d976f4\",\n",
    "    \"4ef6695ce\",\n",
    "    \"095bf7a1f\",\n",
    "    \"1e2425f28\",\n",
    "    \"c68fe75ea\",\n",
    "    \"b2dc8411c\",\n",
    "]"
   ]
  },
  {
   "cell_type": "code",
   "execution_count": null,
   "metadata": {},
   "outputs": [],
   "source": [
    "# for mask_name in df_mask['id']:\n",
    "#     img = load_image(os.path.join(TIFF_PATH_2, mask_name + \".tiff\"), full_size=False, reduce_factor=2)\n",
    "#     rle = df_mask[df_mask['id'] == mask_name]['encoding']\n",
    "#     mask = enc2mask(rle, (img.shape[1], img.shape[0]))\n",
    "#     rle_new = df_mask_new[df_mask_new['id'] == mask_name]['encoding']\n",
    "#     mask_new = enc2mask(rle_new, (img.shape[1], img.shape[0]))\n",
    "#     score = dice_scores_img(mask_new , mask)\n",
    "#     print(f'Score for downscaled image {mask_name} is {score:.4f}')"
   ]
  },
  {
   "cell_type": "code",
   "execution_count": null,
   "metadata": {},
   "outputs": [],
   "source": [
    "# 2f6ecfcdf , b2dc8411c,\n",
    "mask_name = \"b2dc8411c\" \n",
    "\n",
    "idx = [i for i, path in enumerate(preds) if mask_name in path][0]"
   ]
  },
  {
   "cell_type": "code",
   "execution_count": null,
   "metadata": {},
   "outputs": [],
   "source": [
    "probs = np.load(preds[idx]).astype(np.float32)\n",
    "\n",
    "if len(probs.shape) == 3:\n",
    "    probs = probs.mean(0)\n",
    "\n",
    "pred = (probs > THRESHOLD).astype(np.uint8)"
   ]
  },
  {
   "cell_type": "code",
   "execution_count": null,
   "metadata": {},
   "outputs": [],
   "source": [
    "img = load_image(os.path.join(TIFF_PATH_2, mask_name + \".tiff\"), full_size=False, reduce_factor=2)"
   ]
  },
  {
   "cell_type": "code",
   "execution_count": null,
   "metadata": {},
   "outputs": [],
   "source": [
    "df_mask = pd.read_csv(DATA_PATH + \"train_2.csv\")\n",
    "df_mask_new = pd.read_csv(DATA_PATH + \"train_2_fix.csv\")"
   ]
  },
  {
   "cell_type": "code",
   "execution_count": null,
   "metadata": {},
   "outputs": [],
   "source": [
    "rle = df_mask[df_mask['id'] == mask_name]['encoding']\n",
    "mask = enc2mask(rle, (img.shape[1], img.shape[0]))"
   ]
  },
  {
   "cell_type": "code",
   "execution_count": null,
   "metadata": {},
   "outputs": [],
   "source": [
    "rle_new = df_mask_new[df_mask_new['id'] == mask_name]['encoding']\n",
    "mask_new = enc2mask(rle_new, (img.shape[1], img.shape[0]))"
   ]
  },
  {
   "cell_type": "code",
   "execution_count": null,
   "metadata": {},
   "outputs": [],
   "source": [
    "# rle_old = df_mask_old[df_mask_old['id'] == mask_name]['encoding']\n",
    "# mask_old = enc2mask(rle_old, (img.shape[1], img.shape[0]))"
   ]
  },
  {
   "cell_type": "code",
   "execution_count": null,
   "metadata": {},
   "outputs": [],
   "source": [
    "# score = dice_scores_img(pred , mask)\n",
    "# print(f'Score for downscaled image is {score:.4f}')"
   ]
  },
  {
   "cell_type": "code",
   "execution_count": null,
   "metadata": {
    "scrolled": true
   },
   "outputs": [],
   "source": [
    "# score = dice_scores_img(mask_new , mask)\n",
    "# print(f'Score for downscaled image is {score:.4f}')"
   ]
  },
  {
   "cell_type": "markdown",
   "metadata": {},
   "source": [
    "### Plot"
   ]
  },
  {
   "cell_type": "code",
   "execution_count": null,
   "metadata": {},
   "outputs": [],
   "source": [
    "w = 1000\n",
    "h = int(w *  mask.shape[0] / mask.shape[1])"
   ]
  },
  {
   "cell_type": "code",
   "execution_count": null,
   "metadata": {},
   "outputs": [],
   "source": []
  },
  {
   "cell_type": "code",
   "execution_count": null,
   "metadata": {},
   "outputs": [],
   "source": [
    "skimage.io.imsave(log_folder + f\"viz_{mask_name}.png\", (img * 255).astype(np.uint8))"
   ]
  },
  {
   "cell_type": "code",
   "execution_count": null,
   "metadata": {
    "scrolled": false
   },
   "outputs": [],
   "source": [
    "fig, img = plot_contours_preds(img, pred, mask, w=2, downsize=2)\n",
    "\n",
    "skimage.io.imsave(log_folder + f\"viz_{mask_name}.png\", (img * 255).astype(np.uint8))\n",
    "\n",
    "fig.update_layout(\n",
    "    autosize=False,\n",
    "    width=w,\n",
    "    height=h,\n",
    ")\n",
    "\n",
    "fig.show()"
   ]
  },
  {
   "cell_type": "code",
   "execution_count": null,
   "metadata": {
    "scrolled": false
   },
   "outputs": [],
   "source": [
    "# fig = plot_heatmap_preds(img, probs, mask, w=1, downsize=2)\n",
    "\n",
    "# fig.update_layout(\n",
    "#     autosize=False,\n",
    "#     width=w,\n",
    "#     height=h,\n",
    "# )\n",
    "\n",
    "# fig.show()"
   ]
  },
  {
   "cell_type": "markdown",
   "metadata": {},
   "source": [
    "## Test viz"
   ]
  },
  {
   "cell_type": "markdown",
   "metadata": {},
   "source": [
    "### Load image"
   ]
  },
  {
   "cell_type": "code",
   "execution_count": null,
   "metadata": {},
   "outputs": [],
   "source": [
    "df_test = pd.read_csv(DATA_PATH + \"sample_submission.csv\")\n",
    "\n",
    "list(df_test['id'])"
   ]
  },
  {
   "cell_type": "code",
   "execution_count": null,
   "metadata": {},
   "outputs": [],
   "source": [
    "name = 'aa05346ff'\n",
    "fold = 0\n",
    "\n",
    "img = load_image(f'{DATA_PATH}/test_4/{name}.tiff', full_size=False)"
   ]
  },
  {
   "cell_type": "code",
   "execution_count": null,
   "metadata": {},
   "outputs": [],
   "source": [
    "THRESHOLD = 0.5"
   ]
  },
  {
   "cell_type": "code",
   "execution_count": null,
   "metadata": {},
   "outputs": [],
   "source": [
    "probs = np.load(log_folder + f'pred_{name}_{fold}.npy').astype(np.float32)\n",
    "pred = (probs > THRESHOLD).astype(np.uint8)"
   ]
  },
  {
   "cell_type": "markdown",
   "metadata": {},
   "source": [
    "## From sub"
   ]
  },
  {
   "cell_type": "code",
   "execution_count": null,
   "metadata": {},
   "outputs": [],
   "source": [
    "sub = pd.read_csv(OUT_PATH + \"submission_combine.csv\")\n",
    "sub2 = pd.read_csv(OUT_PATH + \"submission_tta.csv\")\n",
    "\n",
    "for id_ in list(df_test['id']):\n",
    "    shape = df_info[df_info['image_file'] == id_ + '.tiff'][['width_pixels', 'height_pixels']].values[0]\n",
    "    \n",
    "    rle = sub[sub['id'] == id_]['predicted'].values\n",
    "    sub_mask = enc2mask(rle, shape)\n",
    "    \n",
    "    rle_2 = sub2[sub2['id'] == id_]['predicted'].values\n",
    "    sub_mask_2 = enc2mask(rle_2, shape)\n",
    "    \n",
    "    print(f'{id_} :  {dice_scores_img(sub_mask, sub_mask_2) :.3f}')"
   ]
  },
  {
   "cell_type": "code",
   "execution_count": null,
   "metadata": {
    "scrolled": true
   },
   "outputs": [],
   "source": [
    "shape = df_info[df_info['image_file'] == name + '.tiff'][['width_pixels', 'height_pixels']].values[0]"
   ]
  },
  {
   "cell_type": "code",
   "execution_count": null,
   "metadata": {},
   "outputs": [],
   "source": [
    "sub = pd.read_csv(OUT_PATH + \"submission_combine.csv\")\n",
    "rle = sub[sub['id'] == name]['predicted'].values\n",
    "\n",
    "sub_mask = enc2mask(rle, shape)\n",
    "\n",
    "sub_mask = cv2.resize(\n",
    "    sub_mask,\n",
    "    tuple(list(shape // 4)),\n",
    "    interpolation=cv2.INTER_NEAREST,\n",
    ")"
   ]
  },
  {
   "cell_type": "code",
   "execution_count": null,
   "metadata": {},
   "outputs": [],
   "source": [
    "sub = pd.read_csv(OUT_PATH + \"submission_tta.csv\")\n",
    "rle = sub[sub['id'] == name]['predicted'].values\n",
    "\n",
    "sub_mask2 = enc2mask(rle, shape)\n",
    "\n",
    "sub_mask2 = cv2.resize(\n",
    "    sub_mask2,\n",
    "    tuple(list(shape // 4)),\n",
    "    interpolation=cv2.INTER_NEAREST,\n",
    ")"
   ]
  },
  {
   "cell_type": "markdown",
   "metadata": {},
   "source": [
    "### Plot"
   ]
  },
  {
   "cell_type": "code",
   "execution_count": null,
   "metadata": {},
   "outputs": [],
   "source": [
    "w = 1000\n",
    "h = int(w * pred.shape[0] / pred.shape[1])"
   ]
  },
  {
   "cell_type": "code",
   "execution_count": null,
   "metadata": {},
   "outputs": [],
   "source": [
    "fig, _ = plot_contours_preds(img, sub_mask, mask=sub_mask2, w=2, downsize=2)\n",
    "# fig = plot_contours_preds(img, sub_mask, mask=sub_mask2, w=2, downsize=2)\n",
    "\n",
    "fig.update_layout(\n",
    "    autosize=False,\n",
    "    width=w,\n",
    "    height=h,\n",
    ")\n",
    "\n",
    "fig.show()"
   ]
  },
  {
   "cell_type": "markdown",
   "metadata": {},
   "source": [
    "## Extra data"
   ]
  },
  {
   "cell_type": "code",
   "execution_count": null,
   "metadata": {},
   "outputs": [],
   "source": [
    "df_extra = pd.read_csv('../input/train_extra.csv').set_index('id')\n",
    "DATA_PATH_EXTRA = DATA_PATH + \"extra_tiff/\""
   ]
  },
  {
   "cell_type": "code",
   "execution_count": null,
   "metadata": {},
   "outputs": [],
   "source": [
    "name = \"SAS_21908_001\""
   ]
  },
  {
   "cell_type": "code",
   "execution_count": null,
   "metadata": {
    "scrolled": true
   },
   "outputs": [],
   "source": [
    "rle = df_extra.loc[name]"
   ]
  },
  {
   "cell_type": "code",
   "execution_count": null,
   "metadata": {},
   "outputs": [],
   "source": [
    "img = tifffile.imread(DATA_PATH_EXTRA + name + \".tiff\").squeeze()"
   ]
  },
  {
   "cell_type": "code",
   "execution_count": null,
   "metadata": {},
   "outputs": [],
   "source": [
    "mask = enc2mask(rle, img.shape[:2][::-1])"
   ]
  },
  {
   "cell_type": "code",
   "execution_count": null,
   "metadata": {},
   "outputs": [],
   "source": [
    "w = 1000\n",
    "h = int(w * mask.shape[0] / mask.shape[1])\n",
    "\n",
    "fig = plot_contours_preds(img, mask, w=2, downsize=4)\n",
    "\n",
    "fig.update_layout(\n",
    "    autosize=False,\n",
    "    width=w,\n",
    "    height=h,\n",
    ")\n",
    "\n",
    "fig.show()"
   ]
  }
 ],
 "metadata": {
  "kernelspec": {
   "display_name": "venv",
   "language": "python",
   "name": "venv"
  },
  "language_info": {
   "codemirror_mode": {
    "name": "ipython",
    "version": 3
   },
   "file_extension": ".py",
   "mimetype": "text/x-python",
   "name": "python",
   "nbconvert_exporter": "python",
   "pygments_lexer": "ipython3",
   "version": "3.8.5"
  }
 },
 "nbformat": 4,
 "nbformat_minor": 4
}
