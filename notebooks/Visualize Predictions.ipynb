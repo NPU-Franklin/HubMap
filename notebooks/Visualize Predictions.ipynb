{
 "cells": [
  {
   "cell_type": "code",
   "execution_count": null,
   "metadata": {},
   "outputs": [],
   "source": [
    "# %load_ext nb_black\n",
    "%load_ext autoreload\n",
    "%autoreload 2"
   ]
  },
  {
   "cell_type": "markdown",
   "metadata": {},
   "source": [
    "## Initialization"
   ]
  },
  {
   "cell_type": "markdown",
   "metadata": {},
   "source": [
    "### Imports"
   ]
  },
  {
   "cell_type": "code",
   "execution_count": null,
   "metadata": {},
   "outputs": [],
   "source": [
    "import os\n",
    "import sys\n",
    "import cv2\n",
    "import json\n",
    "import glob\n",
    "import torch\n",
    "import numpy as np\n",
    "import pandas as pd\n",
    "import seaborn as sns\n",
    "import plotly.express as px\n",
    "\n",
    "from tqdm.notebook import tqdm\n",
    "from matplotlib import pyplot as plt\n",
    "\n",
    "sys.path.append(\"../code/\")"
   ]
  },
  {
   "cell_type": "code",
   "execution_count": null,
   "metadata": {},
   "outputs": [],
   "source": [
    "from params import *\n",
    "from utils.rle import *\n",
    "\n",
    "from data.dataset import load_image\n",
    "\n",
    "from utils.metrics import dice_scores_img\n",
    "from utils.plots import plot_heatmap_preds, plot_contours_preds"
   ]
  },
  {
   "cell_type": "markdown",
   "metadata": {},
   "source": [
    "### Load"
   ]
  },
  {
   "cell_type": "code",
   "execution_count": null,
   "metadata": {},
   "outputs": [],
   "source": [
    "df_info = pd.read_csv(DATA_PATH + f\"HuBMAP-20-dataset_information.csv\")\n",
    "df_mask = pd.read_csv(DATA_PATH + \"train_4.csv\")\n",
    "# df = pd.read_csv(OUT_PATH + \"df_images.csv\")"
   ]
  },
  {
   "cell_type": "markdown",
   "metadata": {},
   "source": [
    "### Data"
   ]
  },
  {
   "cell_type": "code",
   "execution_count": null,
   "metadata": {},
   "outputs": [],
   "source": [
    "root = TIFF_PATH_4\n",
    "rle_path = DATA_PATH + \"train_4.csv\"\n",
    "reduce_factor = 1\n",
    "rles = pd.read_csv(rle_path)"
   ]
  },
  {
   "cell_type": "markdown",
   "metadata": {},
   "source": [
    "### Experiment"
   ]
  },
  {
   "cell_type": "code",
   "execution_count": null,
   "metadata": {},
   "outputs": [],
   "source": [
    "log_folder = \"../logs/2021-04-05/4/\"  # b1"
   ]
  },
  {
   "cell_type": "code",
   "execution_count": null,
   "metadata": {},
   "outputs": [],
   "source": [
    "class Config:\n",
    "    def __init__(self, **entries):\n",
    "        self.__dict__.update(entries)\n",
    "\n",
    "config = json.load(open(log_folder + 'config.json', 'r'))\n",
    "config = Config(**config)"
   ]
  },
  {
   "cell_type": "code",
   "execution_count": null,
   "metadata": {},
   "outputs": [],
   "source": [
    "global_threshold = 0.4"
   ]
  },
  {
   "cell_type": "code",
   "execution_count": null,
   "metadata": {},
   "outputs": [],
   "source": [
    "preds = glob.glob(log_folder + \"pred_*.npy\")"
   ]
  },
  {
   "cell_type": "code",
   "execution_count": null,
   "metadata": {},
   "outputs": [],
   "source": [
    "preds"
   ]
  },
  {
   "cell_type": "markdown",
   "metadata": {},
   "source": [
    "### Image, truth & pred"
   ]
  },
  {
   "cell_type": "code",
   "execution_count": null,
   "metadata": {},
   "outputs": [],
   "source": [
    "THRESHOLD = 0.4"
   ]
  },
  {
   "cell_type": "code",
   "execution_count": null,
   "metadata": {},
   "outputs": [],
   "source": [
    "NAMES = [\n",
    "    \"b9a3865fc\",\n",
    "    \"aaa6a05cc\",\n",
    "    \"e79de561c\",\n",
    "    \"8242609fa\",\n",
    "    \"2f6ecfcdf\",\n",
    "    \"0486052bb\",\n",
    "    \"26dc41664\",\n",
    "    \"afa5e8098\",\n",
    "    \"54f2eec69\",\n",
    "    \"cb2d976f4\",\n",
    "    \"4ef6695ce\",\n",
    "    \"095bf7a1f\",\n",
    "    \"1e2425f28\",\n",
    "    \"c68fe75ea\",\n",
    "    \"b2dc8411c\",\n",
    "]"
   ]
  },
  {
   "cell_type": "code",
   "execution_count": null,
   "metadata": {},
   "outputs": [],
   "source": [
    "mask_name = \"b9a3865fc\"\n",
    "\n",
    "idx = [i for i, path in enumerate(preds) if mask_name in path][0]"
   ]
  },
  {
   "cell_type": "code",
   "execution_count": null,
   "metadata": {},
   "outputs": [],
   "source": [
    "probs = np.load(preds[idx]).astype(np.float32)\n",
    "pred = (probs > THRESHOLD).astype(np.uint8)"
   ]
  },
  {
   "cell_type": "code",
   "execution_count": null,
   "metadata": {},
   "outputs": [],
   "source": [
    "img = load_image(os.path.join(TIFF_PATH_4, mask_name + \".tiff\"), full_size=False)"
   ]
  },
  {
   "cell_type": "code",
   "execution_count": null,
   "metadata": {},
   "outputs": [],
   "source": [
    "rle = df_mask[df_mask['id'] == mask_name]['encoding']\n",
    "mask = enc2mask(rle, (img.shape[1], img.shape[0]))"
   ]
  },
  {
   "cell_type": "code",
   "execution_count": null,
   "metadata": {},
   "outputs": [],
   "source": [
    "mask.shape, img.shape, pred.shape"
   ]
  },
  {
   "cell_type": "code",
   "execution_count": null,
   "metadata": {},
   "outputs": [],
   "source": [
    "score = dice_scores_img(pred , mask)\n",
    "print(f'Score for downscaled image is {score:.4f}')"
   ]
  },
  {
   "cell_type": "markdown",
   "metadata": {},
   "source": [
    "## Plot"
   ]
  },
  {
   "cell_type": "code",
   "execution_count": null,
   "metadata": {},
   "outputs": [],
   "source": [
    "w = 1000\n",
    "h = int(w *  mask.shape[0] / mask.shape[1])"
   ]
  },
  {
   "cell_type": "code",
   "execution_count": null,
   "metadata": {
    "scrolled": false
   },
   "outputs": [],
   "source": [
    "fig = plot_contours_preds(img, mask, pred, w=2, downsize=4)\n",
    "\n",
    "fig.update_layout(\n",
    "    autosize=False,\n",
    "    width=w,\n",
    "    height=h,\n",
    ")\n",
    "\n",
    "fig.show()"
   ]
  },
  {
   "cell_type": "code",
   "execution_count": null,
   "metadata": {
    "scrolled": false
   },
   "outputs": [],
   "source": [
    "fig = plot_heatmap_preds(img, mask, probs, w=1, downsize=2)\n",
    "\n",
    "fig.update_layout(\n",
    "    autosize=False,\n",
    "    width=w,\n",
    "    height=h,\n",
    ")\n",
    "\n",
    "fig.show()"
   ]
  },
  {
   "cell_type": "markdown",
   "metadata": {},
   "source": [
    "### Post-processing"
   ]
  },
  {
   "cell_type": "code",
   "execution_count": null,
   "metadata": {},
   "outputs": [],
   "source": [
    "def post_process_mask(probs, threshold_max=0.5, threshold_prob=0.4, threshold_comp=0.3, plot=True):\n",
    "    \n",
    "    mask = (probs > threshold_comp).astype(np.uint8)\n",
    "    num_component, components = cv2.connectedComponents(mask, connectivity=8)\n",
    "    \n",
    "    processed_mask = np.zeros(mask.shape, np.uint8)\n",
    "\n",
    "    maxs = []\n",
    "    removed = 0\n",
    "    for c in tqdm(range(1, num_component)):\n",
    "        component = (components == c)\n",
    "        \n",
    "        component_prob = probs[component]\n",
    "        max_prob = component_prob.max()\n",
    "        \n",
    "        maxs.append(max_prob)\n",
    "\n",
    "        if max_prob > threshold_max:  # accept component\n",
    "            processed_mask[component] = component_prob > threshold_prob\n",
    "        else:\n",
    "            removed += 1\n",
    "    \n",
    "    print(f'Removed {removed} components.')\n",
    "\n",
    "    if plot:\n",
    "        plt.figure(figsize=(15, 5))\n",
    "        sns.histplot(maxs, bins=50)\n",
    "        plt.axvline(threshold_max, color=\"salmon\")\n",
    "        plt.show()\n",
    "\n",
    "    return processed_mask"
   ]
  },
  {
   "cell_type": "code",
   "execution_count": null,
   "metadata": {},
   "outputs": [],
   "source": [
    "THRESHOLD_MAX = 0.9\n",
    "THRESHOLD_COMP = 0.4\n",
    "THRESHOLD_PROB = 0.2\n",
    "\n",
    "PLOT = False"
   ]
  },
  {
   "cell_type": "code",
   "execution_count": null,
   "metadata": {
    "scrolled": true
   },
   "outputs": [],
   "source": [
    "scores_before = []\n",
    "scores_after = []\n",
    "\n",
    "for idx, pred in enumerate(preds):\n",
    "    mask_name = pred.split('/')[-1].split('_')[1][:-4]\n",
    "    print(f'\\n  -> Mask {mask_name}')\n",
    "    \n",
    "    rle = df_mask[df_mask['id'] == mask_name]['encoding']\n",
    "    img = load_image(os.path.join(TIFF_PATH_4, mask_name + \".tiff\"), full_size=False)\n",
    "    mask = enc2mask(rle, (img.shape[1], img.shape[0]))\n",
    "    \n",
    "    probs = np.load(pred)\n",
    "    pred_mask = (probs > 0.4).astype(np.uint8)\n",
    "\n",
    "    pred_pp = post_process_mask(\n",
    "        probs, \n",
    "        threshold_comp=THRESHOLD_COMP, \n",
    "        threshold_max=THRESHOLD_MAX, \n",
    "        threshold_prob=THRESHOLD_PROB,\n",
    "        plot=PLOT,\n",
    "    )\n",
    "    \n",
    "    scores_before.append(dice_scores_img(pred_mask, mask))\n",
    "    scores_after.append(dice_scores_img(pred_pp, mask))\n",
    "    \n",
    "    print(f'Score before PP : {scores_before[-1] :.4f}')\n",
    "    print(f'Score after PP :  {scores_after[-1] :.4f}')"
   ]
  },
  {
   "cell_type": "code",
   "execution_count": null,
   "metadata": {},
   "outputs": [],
   "source": [
    "print(f'CV before PP : {np.mean(scores_before) :.4f}')\n",
    "print(f'CV after PP :  {np.mean(scores_after) :.4f}')"
   ]
  }
 ],
 "metadata": {
  "kernelspec": {
   "display_name": "venv",
   "language": "python",
   "name": "venv"
  },
  "language_info": {
   "codemirror_mode": {
    "name": "ipython",
    "version": 3
   },
   "file_extension": ".py",
   "mimetype": "text/x-python",
   "name": "python",
   "nbconvert_exporter": "python",
   "pygments_lexer": "ipython3",
   "version": "3.8.5"
  }
 },
 "nbformat": 4,
 "nbformat_minor": 4
}
