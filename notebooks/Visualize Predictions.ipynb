{
 "cells": [
  {
   "cell_type": "code",
   "execution_count": null,
   "metadata": {},
   "outputs": [],
   "source": [
    "# %load_ext nb_black\n",
    "%load_ext autoreload\n",
    "%autoreload 2"
   ]
  },
  {
   "cell_type": "markdown",
   "metadata": {},
   "source": [
    "## Initialization"
   ]
  },
  {
   "cell_type": "markdown",
   "metadata": {},
   "source": [
    "### Imports"
   ]
  },
  {
   "cell_type": "code",
   "execution_count": null,
   "metadata": {},
   "outputs": [],
   "source": [
    "import os\n",
    "import sys\n",
    "import cv2\n",
    "import json\n",
    "import glob\n",
    "import torch\n",
    "import numpy as np\n",
    "import pandas as pd\n",
    "import seaborn as sns\n",
    "import plotly.express as px\n",
    "\n",
    "from tqdm.notebook import tqdm\n",
    "from matplotlib import pyplot as plt\n",
    "\n",
    "sys.path.append(\"../code/\")"
   ]
  },
  {
   "cell_type": "code",
   "execution_count": null,
   "metadata": {},
   "outputs": [],
   "source": [
    "from params import *\n",
    "from utils.rle import *\n",
    "from inference.main import k_fold_inf\n",
    "\n",
    "from data.dataset import InferenceDataset, load_image\n",
    "from data.transforms import HE_preprocess\n",
    "\n",
    "from utils.metrics import dice_scores_img"
   ]
  },
  {
   "cell_type": "markdown",
   "metadata": {},
   "source": [
    "### Load"
   ]
  },
  {
   "cell_type": "code",
   "execution_count": null,
   "metadata": {},
   "outputs": [],
   "source": [
    "df_info = pd.read_csv(DATA_PATH + f\"HuBMAP-20-dataset_information.csv\")\n",
    "df_mask = pd.read_csv(DATA_PATH + \"train_4.csv\")\n",
    "df = pd.read_csv(OUT_PATH + \"df_images.csv\")"
   ]
  },
  {
   "cell_type": "markdown",
   "metadata": {},
   "source": [
    "### Data"
   ]
  },
  {
   "cell_type": "code",
   "execution_count": null,
   "metadata": {},
   "outputs": [],
   "source": [
    "root = TIFF_PATH_4\n",
    "rle_path = DATA_PATH + \"train_4.csv\"\n",
    "reduce_factor = 1\n",
    "rles = pd.read_csv(rle_path)"
   ]
  },
  {
   "cell_type": "markdown",
   "metadata": {},
   "source": [
    "### Experiment"
   ]
  },
  {
   "cell_type": "code",
   "execution_count": null,
   "metadata": {},
   "outputs": [],
   "source": [
    "log_folder = \"../logs/2021-03-18/0/\"  # b5 new"
   ]
  },
  {
   "cell_type": "code",
   "execution_count": null,
   "metadata": {},
   "outputs": [],
   "source": [
    "class Config:\n",
    "    def __init__(self, **entries):\n",
    "        self.__dict__.update(entries)\n",
    "\n",
    "config = json.load(open(log_folder + 'config.json', 'r'))\n",
    "config = Config(**config)"
   ]
  },
  {
   "cell_type": "code",
   "execution_count": null,
   "metadata": {},
   "outputs": [],
   "source": [
    "global_threshold = 0.4"
   ]
  },
  {
   "cell_type": "code",
   "execution_count": null,
   "metadata": {},
   "outputs": [],
   "source": [
    "preds = glob.glob(log_folder + \"pred_*.npy\")"
   ]
  },
  {
   "cell_type": "code",
   "execution_count": null,
   "metadata": {},
   "outputs": [],
   "source": [
    "preds"
   ]
  },
  {
   "cell_type": "markdown",
   "metadata": {},
   "source": [
    "### Image, truth & pred"
   ]
  },
  {
   "cell_type": "code",
   "execution_count": null,
   "metadata": {},
   "outputs": [],
   "source": [
    "THRESHOLD = 0.4"
   ]
  },
  {
   "cell_type": "code",
   "execution_count": null,
   "metadata": {},
   "outputs": [],
   "source": [
    "mask_name = \"aaa6a05cc\"\n",
    "\n",
    "idx = [i for i, path in enumerate(preds) if mask_name in path][0]"
   ]
  },
  {
   "cell_type": "code",
   "execution_count": null,
   "metadata": {},
   "outputs": [],
   "source": [
    "pred = (np.load(preds[idx]) > THRESHOLD).astype(np.uint8)"
   ]
  },
  {
   "cell_type": "code",
   "execution_count": null,
   "metadata": {},
   "outputs": [],
   "source": [
    "img = load_image(os.path.join(TIFF_PATH_4, mask_name + \".tiff\"), full_size=False)"
   ]
  },
  {
   "cell_type": "code",
   "execution_count": null,
   "metadata": {},
   "outputs": [],
   "source": [
    "rle = df_mask[df_mask['id'] == mask_name]['encoding']\n",
    "mask = enc2mask(rle, (img.shape[1], img.shape[0]))"
   ]
  },
  {
   "cell_type": "code",
   "execution_count": null,
   "metadata": {},
   "outputs": [],
   "source": [
    "mask.shape, img.shape, pred.shape"
   ]
  },
  {
   "cell_type": "markdown",
   "metadata": {},
   "source": [
    "## Plot"
   ]
  },
  {
   "cell_type": "code",
   "execution_count": null,
   "metadata": {},
   "outputs": [],
   "source": [
    "def plot_contours_preds(img, mask, preds, w=1, downsize=1):\n",
    "    \"\"\"\n",
    "    Plots the contours of a given mask.\n",
    "\n",
    "    Args:\n",
    "        img (numpy array [H x W x C]): Image.\n",
    "        mask (numpy array [H x W]): Mask.\n",
    "        w (int, optional): Contour width. Defaults to 1.\n",
    "\n",
    "    Returns:\n",
    "        img (numpy array [H x W x C]): Image with contours.\n",
    "    \"\"\"\n",
    "    img = img.copy()\n",
    "    if img.max() > 1:\n",
    "        img = (img / 255).astype(float)\n",
    "    if mask.max() > 1:\n",
    "        mask = (mask / 255).astype(float)\n",
    "    mask = (mask * 255).astype(np.uint8)\n",
    "    if mask.max() > 1:\n",
    "        preds = (preds / 255).astype(float)\n",
    "    preds = (preds * 255).astype(np.uint8)\n",
    "    \n",
    "    if downsize > 1:\n",
    "        new_shape = (mask.shape[1] // downsize, mask.shape[0] // downsize)\n",
    "        mask = cv2.resize(\n",
    "            mask, new_shape, interpolation=cv2.INTER_NEAREST,\n",
    "        )\n",
    "        img = cv2.resize(\n",
    "            img, new_shape, interpolation=cv2.INTER_LINEAR,\n",
    "        )\n",
    "        preds = cv2.resize(\n",
    "            preds, new_shape, interpolation=cv2.INTER_NEAREST,\n",
    "        )\n",
    "\n",
    "    contours, _ = cv2.findContours(mask, cv2.RETR_LIST, cv2.CHAIN_APPROX_NONE)\n",
    "    contours_preds, _ = cv2.findContours(preds, cv2.RETR_LIST, cv2.CHAIN_APPROX_NONE)\n",
    "    \n",
    "    img_pred = img.copy()\n",
    "    cv2.polylines(img, contours, True, (1., 0., 0.), w)\n",
    "    cv2.polylines(img_pred, contours_preds, True, (0., 1., 0.), w)\n",
    "\n",
    "    img = (img + img_pred) / 2\n",
    "\n",
    "    return px.imshow(img)"
   ]
  },
  {
   "cell_type": "code",
   "execution_count": null,
   "metadata": {},
   "outputs": [],
   "source": [
    "fig = plot_contours_preds(img, mask, pred, w=2, downsize=4)\n",
    "fig.show()"
   ]
  },
  {
   "cell_type": "markdown",
   "metadata": {},
   "source": [
    "### Post-processing"
   ]
  },
  {
   "cell_type": "code",
   "execution_count": null,
   "metadata": {},
   "outputs": [],
   "source": [
    "def post_process_mask(mask, min_size=1000, plot=True):\n",
    "    num_component, components = cv2.connectedComponents(mask, connectivity=8)\n",
    "    \n",
    "    processed_mask = np.zeros(mask.shape, np.uint8)\n",
    "\n",
    "    sizes = []\n",
    "    removed = 0\n",
    "    for c in tqdm(range(1, num_component)):\n",
    "        p = (components == c)\n",
    "        sizes.append(p.sum())\n",
    "        if p.sum() > min_size:\n",
    "            processed_mask[p] = 1\n",
    "        else:\n",
    "            removed += 1\n",
    "    \n",
    "    print(f'Removed {removed} components of size <= {min_size}')\n",
    "\n",
    "    if plot:\n",
    "        plt.figure(figsize=(15, 5))\n",
    "        sns.histplot(sizes, bins=50)\n",
    "        plt.axvline(min_size, color=\"salmon\")\n",
    "        plt.show()\n",
    "\n",
    "    return processed_mask"
   ]
  },
  {
   "cell_type": "code",
   "execution_count": null,
   "metadata": {},
   "outputs": [],
   "source": [
    "MIN_SIZE = 500\n",
    "THRESHOLD = 0.35"
   ]
  },
  {
   "cell_type": "code",
   "execution_count": null,
   "metadata": {
    "scrolled": false
   },
   "outputs": [],
   "source": [
    "scores_before = []\n",
    "scores_after = []\n",
    "\n",
    "for idx, pred in enumerate(preds):\n",
    "    mask_name = pred.split('/')[-1].split('_')[1][:-4]\n",
    "    print(f'\\n  -> Mask {mask_name}')\n",
    "    \n",
    "    rle = df_mask[df_mask['id'] == mask_name]['encoding']\n",
    "    img = load_image(os.path.join(TIFF_PATH_4, mask_name + \".tiff\"), full_size=False)\n",
    "    mask = enc2mask(rle, (img.shape[1], img.shape[0]))\n",
    "    \n",
    "    pred = (np.load(pred) > THRESHOLD).astype(np.uint8)\n",
    "    \n",
    "    pred_pp = post_process_mask(pred, min_size=MIN_SIZE)\n",
    "    \n",
    "    scores_before.append(dice_scores_img(pred, mask))\n",
    "    scores_after.append(dice_scores_img(pred_pp, mask))\n",
    "    \n",
    "    print(f'Score before PP : {scores_before[-1] :.4f}')\n",
    "    print(f'Score after PP :  {scores_after[-1] :.4f}')"
   ]
  },
  {
   "cell_type": "code",
   "execution_count": null,
   "metadata": {},
   "outputs": [],
   "source": [
    "print(f'CV before PP : {np.mean(scores_before) :.4f}')\n",
    "print(f'CV after PP :  {np.mean(scores_after) :.4f}')"
   ]
  }
 ],
 "metadata": {
  "kernelspec": {
   "display_name": "venv",
   "language": "python",
   "name": "venv"
  },
  "language_info": {
   "codemirror_mode": {
    "name": "ipython",
    "version": 3
   },
   "file_extension": ".py",
   "mimetype": "text/x-python",
   "name": "python",
   "nbconvert_exporter": "python",
   "pygments_lexer": "ipython3",
   "version": "3.8.5"
  }
 },
 "nbformat": 4,
 "nbformat_minor": 4
}
