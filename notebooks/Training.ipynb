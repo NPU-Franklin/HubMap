{
 "cells": [
  {
   "cell_type": "markdown",
   "metadata": {},
   "source": [
    "**TODO :**\n",
    "- Recheck Augmentations\n",
    "- Recheck LAB normalization\n",
    "- sampler for faster convergence ?"
   ]
  },
  {
   "cell_type": "code",
   "execution_count": 1,
   "metadata": {},
   "outputs": [],
   "source": [
    "# %load_ext nb_black\n",
    "%load_ext autoreload\n",
    "%autoreload 2"
   ]
  },
  {
   "cell_type": "markdown",
   "metadata": {},
   "source": [
    "## Initialization"
   ]
  },
  {
   "cell_type": "markdown",
   "metadata": {},
   "source": [
    "### Imports"
   ]
  },
  {
   "cell_type": "code",
   "execution_count": 2,
   "metadata": {},
   "outputs": [],
   "source": [
    "import os\n",
    "import sys\n",
    "import torch\n",
    "import zipfile\n",
    "import numpy as np\n",
    "import pandas as pd\n",
    "import plotly.express as px\n",
    "\n",
    "from tqdm.notebook import tqdm\n",
    "from matplotlib import pyplot as plt\n",
    "from torch.utils.data import DataLoader\n",
    "\n",
    "sys.path.append(\"../code/\")"
   ]
  },
  {
   "cell_type": "code",
   "execution_count": 3,
   "metadata": {},
   "outputs": [],
   "source": [
    "from params import *\n",
    "\n",
    "from data.transforms import HE_preprocess\n",
    "from data.dataset import TileDataset\n",
    "\n",
    "from model_zoo.models import define_model\n",
    "\n",
    "from training.main import k_fold\n",
    "from utils.logger import (\n",
    "    prepare_log_folder,\n",
    "    save_config,\n",
    "    create_logger,\n",
    "    update_overall_logs,\n",
    ")\n",
    "\n",
    "from utils.plots import plot_contours\n",
    "\n",
    "from params import *"
   ]
  },
  {
   "cell_type": "markdown",
   "metadata": {},
   "source": [
    "### Load"
   ]
  },
  {
   "cell_type": "code",
   "execution_count": 4,
   "metadata": {},
   "outputs": [],
   "source": [
    "df_info = pd.read_csv(DATA_PATH + f\"HuBMAP-20-dataset_information.csv\")\n",
    "df_mask = pd.read_csv(DATA_PATH + \"train.csv\")\n",
    "df = pd.read_csv(OUT_PATH + f\"df_images_{TILE_SIZE}_{REDUCE_FACTOR}.csv\")"
   ]
  },
  {
   "cell_type": "markdown",
   "metadata": {},
   "source": [
    "## Model"
   ]
  },
  {
   "cell_type": "code",
   "execution_count": 7,
   "metadata": {},
   "outputs": [],
   "source": [
    "def get_tile_weighting(size, sigma=1, alpha=1, eps=1e-6):\n",
    "    half = size // 2\n",
    "    w = np.ones((size, size), np.float32)\n",
    "\n",
    "    x = np.concatenate([np.mgrid[-half:0], np.mgrid[1: half + 1]])[:, None]\n",
    "    x = np.tile(x, (1, size))\n",
    "    x = half + 1 - np.abs(x)\n",
    "    y = x.T\n",
    "\n",
    "    w = np.minimum(x, y)\n",
    "    w = (w / w.max()) ** sigma\n",
    "    w = np.minimum(w, 1)\n",
    "\n",
    "    w = (w - np.min(w) + eps) / (np.max(w) - np.min(w) + eps)\n",
    "\n",
    "    w = np.where(w > alpha, 1, w)\n",
    "    w = w / alpha\n",
    "    w = np.clip(w, 1e-3, 1)\n",
    "\n",
    "    w = np.round(w, 3)\n",
    "    return w.astype(np.float16)"
   ]
  },
  {
   "cell_type": "code",
   "execution_count": 8,
   "metadata": {},
   "outputs": [
    {
     "data": {
      "text/plain": [
       "<matplotlib.colorbar.Colorbar at 0x7fabeb419c70>"
      ]
     },
     "execution_count": 8,
     "metadata": {},
     "output_type": "execute_result"
    },
    {
     "data": {
      "image/png": "[encoded data removed]",
      "text/plain": [
       "<Figure size 288x288 with 2 Axes>"
      ]
     },
     "metadata": {
      "needs_background": "light"
     },
     "output_type": "display_data"
    }
   ],
   "source": [
    "w = get_tile_weighting(256)\n",
    "\n",
    "plt.matshow(w.astype(float))\n",
    "plt.colorbar()"
   ]
  },
  {
   "cell_type": "code",
   "execution_count": 9,
   "metadata": {},
   "outputs": [],
   "source": [
    "from training.lovasz import *"
   ]
  },
  {
   "cell_type": "code",
   "execution_count": 10,
   "metadata": {},
   "outputs": [],
   "source": [
    "dataset = TileDataset(\n",
    "    df,\n",
    "    IMG_PATH,\n",
    "    MASK_PATH,\n",
    "    transforms=HE_preprocess(augment=True, visualize=False),\n",
    ")"
   ]
  },
  {
   "cell_type": "code",
   "execution_count": 11,
   "metadata": {},
   "outputs": [],
   "source": [
    "model = define_model(\"Unet\", \"resnet18\")"
   ]
  },
  {
   "cell_type": "code",
   "execution_count": 12,
   "metadata": {},
   "outputs": [],
   "source": [
    "img, y = dataset[0]"
   ]
  },
  {
   "cell_type": "code",
   "execution_count": 13,
   "metadata": {},
   "outputs": [],
   "source": [
    "pred = model(img.unsqueeze(0))"
   ]
  },
  {
   "cell_type": "code",
   "execution_count": 14,
   "metadata": {},
   "outputs": [
    {
     "data": {
      "text/plain": [
       "tensor([10.0055], grad_fn=<DivBackward0>)"
      ]
     },
     "execution_count": 14,
     "metadata": {},
     "output_type": "execute_result"
    }
   ],
   "source": [
    "symmetric_lovasz(pred, y.unsqueeze(0))"
   ]
  },
  {
   "cell_type": "markdown",
   "metadata": {},
   "source": [
    "## Training"
   ]
  },
  {
   "cell_type": "code",
   "execution_count": 15,
   "metadata": {},
   "outputs": [],
   "source": [
    "BATCH_SIZES = {\n",
    "    \"resnet18\": 64,\n",
    "    \"resnet34\": 32, \n",
    "    \"resnext50_32x4d\": 32, \n",
    "    \"se_resnext50_32x4d\": 32,\n",
    "    \"efficientnet-b1\": 16,\n",
    "    \"efficientnet-b2\": 16,\n",
    "    \"efficientnet-b3\": 16,\n",
    "    \"efficientnet-b4\": 16,\n",
    "    \"efficientnet-b5\": 16,\n",
    "    \"efficientnet-b6\": 8,\n",
    "}"
   ]
  },
  {
   "cell_type": "code",
   "execution_count": 16,
   "metadata": {},
   "outputs": [],
   "source": [
    "class Config:\n",
    "    \"\"\"\n",
    "    Parameters used for training\n",
    "    \"\"\"\n",
    "    \n",
    "    # General\n",
    "    seed = 42\n",
    "    verbose = 1\n",
    "    img_dir = IMG_PATH\n",
    "    mask_dir = MASK_PATH\n",
    "    device = \"cuda\" if torch.cuda.is_available() else \"cpu\"\n",
    "    save_weights = True\n",
    "    iter_per_epoch = 5000 #10000\n",
    "    \n",
    "    # Image size\n",
    "    train_tile_size = 256\n",
    "    reduce_factor = 4\n",
    "    on_spot_sampling = 0.9\n",
    "\n",
    "    # k-fold\n",
    "    cv_column = \"5fold\"\n",
    "    random_state = 0\n",
    "    selected_folds = [0, 1, 2, 3, 4]\n",
    "\n",
    "    # Model\n",
    "    encoder = \"efficientnet-b5\"  # \"resnet18\" \"resnext50_32x4d\", \"resnet34\", \"efficientnet-b5\"\n",
    "    decoder = \"Unet\"  # \"Unet\", \"DeepLabV3Plus\"\n",
    "    encoder_weights = \"imagenet\"\n",
    "    num_classes = 1\n",
    "\n",
    "    # Training\n",
    "    loss = \"BCEWithLogitsLoss\"  # \"SoftDiceLoss\" / \"BCEWithLogitsLoss\"  / \"lovasz\"\n",
    "    activation = \"none\" if loss == \"lovasz\" else \"sigmoid\"\n",
    "\n",
    "    optimizer = \"Adam\"\n",
    "    batch_size = BATCH_SIZES[encoder]\n",
    "    \n",
    "         \n",
    "    if batch_size == 32:\n",
    "        epochs = 40\n",
    "    elif batch_size >= 6:\n",
    "        epochs = 30\n",
    "    elif batch_size == 8:\n",
    "        epochs = 20\n",
    "        \n",
    "    if train_tile_size == 512:\n",
    "        batch_size = int(batch_size/4)\n",
    "\n",
    "    lr = 1e-3\n",
    "    swa_first_epoch = 50\n",
    "\n",
    "    warmup_prop = 0.05\n",
    "    val_bs = batch_size * 2\n",
    "\n",
    "    first_epoch_eval = 0\n",
    "\n",
    "    # Inference\n",
    "    overlap_factor = 2\n"
   ]
  },
  {
   "cell_type": "code",
   "execution_count": 17,
   "metadata": {},
   "outputs": [],
   "source": [
    "DEBUG = True\n",
    "log_folder = None"
   ]
  },
  {
   "cell_type": "code",
   "execution_count": null,
   "metadata": {
    "scrolled": false
   },
   "outputs": [
    {
     "name": "stdout",
     "output_type": "stream",
     "text": [
      "Logging results to ../logs/2021-04-01/1/\n",
      "\n",
      "-------------   Fold 1 / 5  -------------\n",
      "\n",
      "    -> 8371 training images\n",
      "    -> 1831 validation images\n",
      "    -> 20225689 trainable parameters\n",
      "\n",
      "Epoch 01/40 \t lr=5.0e-04\t t=143s\tloss=0.198\tval_loss=0.031 \t dice=0.8795\n",
      "Epoch 02/40 \t lr=1.0e-03\t t=143s\tloss=0.026\tval_loss=0.077 \t dice=0.6752\n",
      "Epoch 03/40 \t lr=9.7e-04\t t=143s\tloss=0.018\tval_loss=0.015 \t dice=0.9009\n",
      "Epoch 04/40 \t lr=9.5e-04\t t=143s\tloss=0.014\tval_loss=0.013 \t dice=0.9138\n",
      "Epoch 05/40 \t lr=9.2e-04\t t=143s\tloss=0.014\tval_loss=0.023 \t dice=0.8568\n",
      "Epoch 06/40 \t lr=8.9e-04\t t=143s\tloss=0.013\tval_loss=0.016 \t dice=0.8756\n",
      "Epoch 07/40 \t lr=8.7e-04\t t=144s\tloss=0.012\tval_loss=0.014 \t dice=0.8831\n",
      "Epoch 08/40 \t lr=8.4e-04\t t=143s\tloss=0.012\tval_loss=0.022 \t dice=0.8720\n",
      "Epoch 09/40 \t lr=8.2e-04\t t=143s\tloss=0.012\tval_loss=0.013 \t dice=0.9180\n",
      "Epoch 10/40 \t lr=7.9e-04\t t=144s\tloss=0.015\tval_loss=0.014 \t dice=0.9136\n",
      "Epoch 11/40 \t lr=7.6e-04\t t=143s\tloss=0.012\tval_loss=0.012 \t dice=0.9120\n",
      "Epoch 12/40 \t lr=7.4e-04\t t=143s\tloss=0.011\tval_loss=0.012 \t dice=0.9146\n",
      "Epoch 13/40 \t lr=7.1e-04\t t=143s\tloss=0.011\tval_loss=0.013 \t dice=0.9200\n",
      "Epoch 14/40 \t lr=6.8e-04\t t=143s\tloss=0.011\tval_loss=0.012 \t dice=0.9139\n",
      "Epoch 15/40 \t lr=6.6e-04\t t=143s\tloss=0.010\tval_loss=0.012 \t dice=0.9260\n",
      "Epoch 16/40 \t lr=6.3e-04\t t=143s\tloss=0.010\tval_loss=0.012 \t dice=0.9036\n",
      "Epoch 17/40 \t lr=6.1e-04\t t=143s\tloss=0.010\tval_loss=0.012 \t dice=0.9252\n",
      "Epoch 18/40 \t lr=5.8e-04\t t=143s\tloss=0.010\tval_loss=0.011 \t dice=0.9184\n",
      "Epoch 19/40 \t lr=5.5e-04\t t=143s\tloss=0.010\tval_loss=0.011 \t dice=0.9245\n",
      "Epoch 20/40 \t lr=5.3e-04\t t=143s\tloss=0.010\tval_loss=0.012 \t dice=0.9192\n",
      "Epoch 21/40 \t lr=5.0e-04\t t=143s\tloss=0.009\tval_loss=0.012 \t dice=0.9237\n",
      "Epoch 22/40 \t lr=4.7e-04\t t=144s\tloss=0.009\tval_loss=0.012 \t dice=0.9231\n",
      "Epoch 23/40 \t lr=4.5e-04\t t=144s\tloss=0.009\tval_loss=0.011 \t dice=0.9228\n",
      "Epoch 24/40 \t lr=4.2e-04\t t=143s\tloss=0.009\tval_loss=0.011 \t dice=0.9235\n",
      "Epoch 25/40 \t lr=3.9e-04\t t=144s\tloss=0.009\tval_loss=0.011 \t dice=0.9266\n",
      "Epoch 26/40 \t lr=3.7e-04\t t=143s\tloss=0.009\tval_loss=0.012 \t dice=0.9276\n",
      "Epoch 27/40 \t lr=3.4e-04\t t=143s\tloss=0.008\tval_loss=0.012 \t dice=0.9235\n",
      "Epoch 28/40 \t lr=3.2e-04\t t=143s\tloss=0.008\tval_loss=0.011 \t dice=0.9322\n",
      "Epoch 29/40 \t lr=2.9e-04\t t=143s\tloss=0.008\tval_loss=0.011 \t dice=0.9270\n",
      "Epoch 30/40 \t lr=2.6e-04\t t=143s\tloss=0.008\tval_loss=0.012 \t dice=0.9267\n",
      "Epoch 31/40 \t lr=2.4e-04\t t=143s\tloss=0.008\tval_loss=0.012 \t dice=0.9283\n",
      "Epoch 32/40 \t lr=2.1e-04\t t=143s\tloss=0.008\tval_loss=0.012 \t dice=0.9267\n",
      "Epoch 33/40 \t lr=1.8e-04\t t=143s\tloss=0.007\tval_loss=0.012 \t dice=0.9262\n",
      "Epoch 34/40 \t lr=1.6e-04\t t=143s\tloss=0.007\tval_loss=0.011 \t dice=0.9268\n",
      "Epoch 35/40 \t lr=1.3e-04\t t=143s\tloss=0.007\tval_loss=0.012 \t dice=0.9273\n",
      "Epoch 36/40 \t lr=1.1e-04\t t=143s\tloss=0.007\tval_loss=0.011 \t dice=0.9278\n"
     ]
    }
   ],
   "source": [
    "if not DEBUG:\n",
    "    log_folder = prepare_log_folder(LOG_PATH)\n",
    "    print(f\"Logging results to {log_folder}\")\n",
    "    config_df = save_config(Config, log_folder + \"config.json\")\n",
    "    df.to_csv(log_folder + \"data.csv\", index=False)\n",
    "    create_logger(directory=log_folder, name=\"logs.txt\")\n",
    "\n",
    "metrics = k_fold(Config, df, log_folder=log_folder)"
   ]
  }
 ],
 "metadata": {
  "kernelspec": {
   "display_name": "venv",
   "language": "python",
   "name": "venv"
  },
  "language_info": {
   "codemirror_mode": {
    "name": "ipython",
    "version": 3
   },
   "file_extension": ".py",
   "mimetype": "text/x-python",
   "name": "python",
   "nbconvert_exporter": "python",
   "pygments_lexer": "ipython3",
   "version": "3.8.5"
  }
 },
 "nbformat": 4,
 "nbformat_minor": 4
}
