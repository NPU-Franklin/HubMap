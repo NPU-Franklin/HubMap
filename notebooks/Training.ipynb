{
 "cells": [
  {
   "cell_type": "markdown",
   "metadata": {},
   "source": [
    "**TODO :**\n",
    "- Bigger img input / bigger mask\n",
    "- mixup\n",
    "- use oof to remove noisy annot"
   ]
  },
  {
   "cell_type": "code",
   "execution_count": 1,
   "metadata": {},
   "outputs": [],
   "source": [
    "# %load_ext nb_black\n",
    "%load_ext autoreload\n",
    "%autoreload 2"
   ]
  },
  {
   "cell_type": "markdown",
   "metadata": {},
   "source": [
    "### Initialization"
   ]
  },
  {
   "cell_type": "markdown",
   "metadata": {},
   "source": [
    "### Imports"
   ]
  },
  {
   "cell_type": "code",
   "execution_count": 2,
   "metadata": {},
   "outputs": [],
   "source": [
    "import os\n",
    "import sys\n",
    "import torch\n",
    "import warnings\n",
    "import numpy as np\n",
    "import pandas as pd\n",
    "\n",
    "from tqdm.notebook import tqdm\n",
    "from matplotlib import pyplot as plt\n",
    "\n",
    "sys.path.append(\"../code/\")\n",
    "# os.environ['CUDA_VISIBLE_DEVICES'] = \"1,0\"\n",
    "warnings.simplefilter(\"ignore\", UserWarning)"
   ]
  },
  {
   "cell_type": "code",
   "execution_count": 3,
   "metadata": {},
   "outputs": [],
   "source": [
    "from training.main import k_fold\n",
    "\n",
    "from utils.logger import (\n",
    "    prepare_log_folder,\n",
    "    save_config,\n",
    "    create_logger,\n",
    "    update_overall_logs,\n",
    ")\n",
    "\n",
    "from params import *"
   ]
  },
  {
   "cell_type": "markdown",
   "metadata": {},
   "source": [
    "### Load"
   ]
  },
  {
   "cell_type": "code",
   "execution_count": 4,
   "metadata": {},
   "outputs": [],
   "source": [
    "df_info = pd.read_csv(DATA_PATH + f\"HuBMAP-20-dataset_information.csv\")\n",
    "df_mask = pd.read_csv(DATA_PATH + \"train.csv\")"
   ]
  },
  {
   "cell_type": "markdown",
   "metadata": {},
   "source": [
    "## Training"
   ]
  },
  {
   "cell_type": "code",
   "execution_count": 5,
   "metadata": {},
   "outputs": [],
   "source": [
    "BATCH_SIZES = {\n",
    "    \"resnet18\": 64,\n",
    "    \"resnet34\": 32,\n",
    "    \"resnext50_32x4d\": 32,\n",
    "    \"se_resnext50_32x4d\": 32,\n",
    "    \"efficientnet-b0\": 32,\n",
    "    \"efficientnet-b1\": 32,\n",
    "    \"efficientnet-b2\": 32,\n",
    "    \"efficientnet-b3\": 16,\n",
    "    \"efficientnet-b4\": 16,\n",
    "    \"efficientnet-b5\": 16,\n",
    "    \"efficientnet-b6\": 8,\n",
    "}"
   ]
  },
  {
   "cell_type": "code",
   "execution_count": 6,
   "metadata": {},
   "outputs": [],
   "source": [
    "class Config:\n",
    "    \"\"\"\n",
    "    Parameters used for training\n",
    "    \"\"\"\n",
    "    # General\n",
    "    seed = 42\n",
    "    verbose = 1\n",
    "\n",
    "    device = \"cuda\" if torch.cuda.is_available() else \"cpu\"\n",
    "    save_weights = True\n",
    "    sampling_mode = 'centered' # chose between 'convhull', 'centered', 'random', 'visible'\n",
    "    \n",
    "    # Images\n",
    "    tile_size = 512\n",
    "    reduce_factor = 2\n",
    "    on_spot_sampling = 0.99\n",
    "    overlap_factor = 1.5\n",
    "\n",
    "    img_dir = DATA_PATH + f\"train_{tile_size}_red_{reduce_factor}\"\n",
    "    mask_dir = DATA_PATH + f\"masks_{tile_size}_red_{reduce_factor}\"\n",
    "\n",
    "    # k-fold\n",
    "    cv_column = \"5fold\"\n",
    "    random_state = 0\n",
    "    selected_folds = [0, 1, 2, 3, 4]\n",
    "\n",
    "    # Model\n",
    "    encoder = \"efficientnet-b1\"  # \"resnet18\" \"resnext50_32x4d\", \"resnet34\", \"efficientnet-b5\"\n",
    "    decoder = \"Unet\"  # \"Unet\", \"DeepLabV3Plus\"\n",
    "    use_bot = False\n",
    "    use_fpn = False\n",
    "    double_model = False\n",
    "    use_mixstyle = False\n",
    "    encoder_weights = \"imagenet\"\n",
    "    num_classes = 1\n",
    "\n",
    "    # Training\n",
    "    loss = \"BCEWithLogitsLoss\"  # \"SoftDiceLoss\" / \"BCEWithLogitsLoss\"  / \"lovasz\"\n",
    "    activation = \"none\" if loss == \"lovasz\" else \"sigmoid\"\n",
    "\n",
    "    optimizer = \"Adam\"\n",
    "    \n",
    "    batch_size = BATCH_SIZES[encoder]\n",
    "    \n",
    "    if tile_size == 512:\n",
    "        batch_size = batch_size // 2\n",
    "        \n",
    "    if batch_size >= 32:\n",
    "        epochs = 50 \n",
    "    elif batch_size >= 16:\n",
    "        epochs = 40\n",
    "    elif batch_size >= 6:\n",
    "        epochs = 30\n",
    "    else:\n",
    "        epochs = 25\n",
    "    \n",
    "    iter_per_epoch = 5000\n",
    "    lr = 1e-3\n",
    "    swa_first_epoch = 50\n",
    "\n",
    "    warmup_prop = 0.05\n",
    "    val_bs = batch_size * 2\n",
    "\n",
    "    first_epoch_eval = 0\n",
    "    \n",
    "    mix_proba = 0\n",
    "    mix_alpha = 0.4\n",
    "    \n",
    "    if mix_proba > 0:\n",
    "        epochs *= 3\n",
    "    \n",
    "    use_fp16 = True\n",
    "    # external features : https://www.kaggle.com/baesiann/glomeruli-hubmap-external-1024x1024\n",
    "    # download this and put folders in input/external_data\n",
    "    # api command for download (requires kaggle api + credentials):\n",
    "    # kaggle datasets download -d baesiann/glomeruli-hubmap-external-1024x1024\n",
    "    use_external = 0.2 # percentage of sampling on external data (training only), None to disable\n",
    "    \n",
    "    oof_folder = None  # \"../logs/2021-04-14/0/\"\n",
    "    loss_oof_weight = 0  # 0.5\n",
    "    \n",
    "    use_pl = 0.25\n",
    "    pl_path = \"../output/submission_0937.csv\"\n",
    "    \n",
    "    if use_pl > 0:\n",
    "        epochs += 10"
   ]
  },
  {
   "cell_type": "code",
   "execution_count": 7,
   "metadata": {},
   "outputs": [],
   "source": [
    "DEBUG = False\n",
    "log_folder = None"
   ]
  },
  {
   "cell_type": "code",
   "execution_count": null,
   "metadata": {
    "scrolled": false
   },
   "outputs": [
    {
     "name": "stdout",
     "output_type": "stream",
     "text": [
      "Logging results to ../logs/2021-04-29/0/\n",
      "Creating in-memory dataset ...\n",
      "Done in 68 seconds.\n",
      "\n",
      "-------------   Fold 1 / 5  -------------\n",
      "\n",
      "    -> 8757105 trainable parameters\n",
      "    -> Validation images : ['2f6ecfcdf', 'b2dc8411c', '4ef6695ce'] \n",
      "\n",
      "Epoch 01/50 \t lr=4.0e-04\t t=246s\tloss=0.223\tval_loss=0.030 \t dice=0.8801\n",
      "Epoch 02/50 \t lr=8.0e-04\t t=243s\tloss=0.054\tval_loss=0.010 \t dice=0.9115\n",
      "Epoch 03/50 \t lr=9.9e-04\t t=256s\tloss=0.041\tval_loss=0.009 \t dice=0.9041\n",
      "Epoch 04/50 \t lr=9.7e-04\t t=254s\tloss=0.037\tval_loss=0.007 \t dice=0.9246\n",
      "Epoch 05/50 \t lr=9.5e-04\t t=246s\tloss=0.035\tval_loss=0.007 \t dice=0.9503\n",
      "Epoch 06/50 \t lr=9.3e-04\t t=245s\tloss=0.033\tval_loss=0.007 \t dice=0.9519\n",
      "Epoch 07/50 \t lr=9.1e-04\t t=242s\tloss=0.032\tval_loss=0.006 \t dice=0.9459\n",
      "Epoch 08/50 \t lr=8.8e-04\t t=247s\tloss=0.030\tval_loss=0.006 \t dice=0.9527\n",
      "Epoch 09/50 \t lr=8.6e-04\t t=253s\tloss=0.029\tval_loss=0.006 \t dice=0.9528\n",
      "Epoch 10/50 \t lr=8.4e-04\t t=248s\tloss=0.029\tval_loss=0.006 \t dice=0.9483\n",
      "Epoch 11/50 \t lr=8.2e-04\t t=248s\tloss=0.027\tval_loss=0.006 \t dice=0.9471\n",
      "Epoch 12/50 \t lr=8.0e-04\t t=246s\tloss=0.028\tval_loss=0.005 \t dice=0.9583\n",
      "Epoch 13/50 \t lr=7.8e-04\t t=247s\tloss=0.027\tval_loss=0.009 \t dice=0.9157\n",
      "Epoch 14/50 \t lr=7.6e-04\t t=251s\tloss=0.028\tval_loss=0.006 \t dice=0.9559\n",
      "Epoch 15/50 \t lr=7.4e-04\t t=243s\tloss=0.026\tval_loss=0.007 \t dice=0.9472\n",
      "Epoch 16/50 \t lr=7.2e-04\t t=246s\tloss=0.027\tval_loss=0.007 \t dice=0.9457\n",
      "Epoch 17/50 \t lr=6.9e-04\t t=241s\tloss=0.026\tval_loss=0.006 \t dice=0.9543\n",
      "Epoch 18/50 \t lr=6.7e-04\t t=249s\tloss=0.026\tval_loss=0.005 \t dice=0.9548\n",
      "Epoch 19/50 \t lr=6.5e-04\t t=238s\tloss=0.024\tval_loss=0.005 \t dice=0.9569\n",
      "Epoch 20/50 \t lr=6.3e-04\t t=243s\tloss=0.025\tval_loss=0.006 \t dice=0.9544\n",
      "Epoch 21/50 \t lr=6.1e-04\t t=246s\tloss=0.024\tval_loss=0.006 \t dice=0.9456\n",
      "Epoch 22/50 \t lr=5.9e-04\t t=247s\tloss=0.024\tval_loss=0.005 \t dice=0.9514\n",
      "Epoch 23/50 \t lr=5.7e-04\t t=249s\tloss=0.025\tval_loss=0.005 \t dice=0.9630\n",
      "Epoch 24/50 \t lr=5.5e-04\t t=254s\tloss=0.024\tval_loss=0.005 \t dice=0.9569\n",
      "Epoch 25/50 \t lr=5.3e-04\t t=247s\tloss=0.023\tval_loss=0.005 \t dice=0.9512\n",
      "Epoch 26/50 \t lr=5.1e-04\t t=238s\tloss=0.023\tval_loss=0.005 \t dice=0.9583\n",
      "Epoch 27/50 \t lr=4.8e-04\t t=249s\tloss=0.023\tval_loss=0.006 \t dice=0.9543\n",
      "Epoch 28/50 \t lr=4.6e-04\t t=251s\tloss=0.022\tval_loss=0.006 \t dice=0.9498\n",
      "Epoch 29/50 \t lr=4.4e-04\t t=245s\tloss=0.022\tval_loss=0.005 \t dice=0.9576\n",
      "Epoch 30/50 \t lr=4.2e-04\t t=241s\tloss=0.022\tval_loss=0.006 \t dice=0.9542\n",
      "Epoch 31/50 \t lr=4.0e-04\t t=251s\tloss=0.022\tval_loss=0.011 \t dice=0.9378\n",
      "Epoch 32/50 \t lr=3.8e-04\t t=247s\tloss=0.022\tval_loss=0.006 \t dice=0.9532\n",
      "Epoch 33/50 \t lr=3.6e-04\t t=256s\tloss=0.021\tval_loss=0.005 \t dice=0.9578\n",
      "Epoch 34/50 \t lr=3.4e-04\t t=242s\tloss=0.021\tval_loss=0.005 \t dice=0.9599\n",
      "Epoch 35/50 \t lr=3.2e-04\t t=242s\tloss=0.021\tval_loss=0.006 \t dice=0.9570\n",
      "Epoch 36/50 \t lr=2.9e-04\t t=246s\tloss=0.021\tval_loss=0.006 \t dice=0.9585\n",
      "Epoch 37/50 \t lr=2.7e-04\t t=258s\tloss=0.021\tval_loss=0.005 \t dice=0.9524\n",
      "Epoch 38/50 \t lr=2.5e-04\t t=255s\tloss=0.021\tval_loss=0.006 \t dice=0.9590\n",
      "Epoch 39/50 \t lr=2.3e-04\t t=244s\tloss=0.020\tval_loss=0.005 \t dice=0.9594\n",
      "Epoch 40/50 \t lr=2.1e-04\t t=250s\tloss=0.020\tval_loss=0.005 \t dice=0.9611\n",
      "Epoch 41/50 \t lr=1.9e-04\t t=250s\tloss=0.020\tval_loss=0.006 \t dice=0.9591\n",
      "Epoch 42/50 \t lr=1.7e-04\t t=245s\tloss=0.020\tval_loss=0.005 \t dice=0.9596\n"
     ]
    }
   ],
   "source": [
    "if not DEBUG:\n",
    "    log_folder = prepare_log_folder(LOG_PATH)\n",
    "    print(f\"Logging results to {log_folder}\")\n",
    "    config_df = save_config(Config, log_folder + \"config.json\")\n",
    "    create_logger(directory=log_folder, name=\"logs.txt\")\n",
    "\n",
    "metrics = k_fold(Config, log_folder=log_folder)"
   ]
  }
 ],
 "metadata": {
  "kernelspec": {
   "display_name": "venv",
   "language": "python",
   "name": "venv"
  },
  "language_info": {
   "codemirror_mode": {
    "name": "ipython",
    "version": 3
   },
   "file_extension": ".py",
   "mimetype": "text/x-python",
   "name": "python",
   "nbconvert_exporter": "python",
   "pygments_lexer": "ipython3",
   "version": "3.8.5"
  }
 },
 "nbformat": 4,
 "nbformat_minor": 4
}
