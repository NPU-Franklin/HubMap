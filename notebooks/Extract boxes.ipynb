{
 "cells": [
  {
   "cell_type": "code",
   "execution_count": 1,
   "metadata": {},
   "outputs": [],
   "source": [
    "# %load_ext nb_black\n",
    "%load_ext autoreload\n",
    "%autoreload 2"
   ]
  },
  {
   "cell_type": "markdown",
   "metadata": {},
   "source": [
    "## Initialization"
   ]
  },
  {
   "cell_type": "markdown",
   "metadata": {},
   "source": [
    "### Imports"
   ]
  },
  {
   "cell_type": "code",
   "execution_count": 2,
   "metadata": {},
   "outputs": [],
   "source": [
    "import os\n",
    "import sys\n",
    "import cv2\n",
    "import json\n",
    "import glob\n",
    "import torch\n",
    "import numpy as np\n",
    "import pandas as pd\n",
    "import seaborn as sns\n",
    "import plotly.express as px\n",
    "\n",
    "from tqdm.notebook import tqdm\n",
    "from matplotlib import pyplot as plt\n",
    "\n",
    "sys.path.append(\"../code/\")"
   ]
  },
  {
   "cell_type": "code",
   "execution_count": 3,
   "metadata": {},
   "outputs": [],
   "source": [
    "from params import *\n",
    "from utils.rle import *\n",
    "\n",
    "from data.dataset import load_image\n",
    "\n",
    "from utils.metrics import dice_scores_img\n",
    "from utils.plots import plot_heatmap_preds, plot_contours_preds"
   ]
  },
  {
   "cell_type": "markdown",
   "metadata": {},
   "source": [
    "### Load"
   ]
  },
  {
   "cell_type": "code",
   "execution_count": 4,
   "metadata": {},
   "outputs": [],
   "source": [
    "df_info = pd.read_csv(DATA_PATH + f\"HuBMAP-20-dataset_information.csv\")\n",
    "df_mask = pd.read_csv(DATA_PATH + \"train_4.csv\")\n",
    "# df = pd.read_csv(OUT_PATH + \"df_images.csv\")"
   ]
  },
  {
   "cell_type": "markdown",
   "metadata": {},
   "source": [
    "### Data"
   ]
  },
  {
   "cell_type": "code",
   "execution_count": 5,
   "metadata": {},
   "outputs": [],
   "source": [
    "root = TIFF_PATH_4\n",
    "rle_path = DATA_PATH + \"train_4.csv\"\n",
    "reduce_factor = 1\n",
    "rles = pd.read_csv(rle_path)"
   ]
  },
  {
   "cell_type": "markdown",
   "metadata": {},
   "source": [
    "### Experiment"
   ]
  },
  {
   "cell_type": "code",
   "execution_count": 6,
   "metadata": {},
   "outputs": [],
   "source": [
    "log_folder = \"../logs/2021-04-05/4/\"  # b1"
   ]
  },
  {
   "cell_type": "code",
   "execution_count": 7,
   "metadata": {},
   "outputs": [],
   "source": [
    "class Config:\n",
    "    def __init__(self, **entries):\n",
    "        self.__dict__.update(entries)\n",
    "\n",
    "config = json.load(open(log_folder + 'config.json', 'r'))\n",
    "config = Config(**config)"
   ]
  },
  {
   "cell_type": "code",
   "execution_count": 8,
   "metadata": {},
   "outputs": [],
   "source": [
    "global_threshold = 0.4"
   ]
  },
  {
   "cell_type": "code",
   "execution_count": 9,
   "metadata": {},
   "outputs": [],
   "source": [
    "preds = glob.glob(log_folder + \"pred_*.npy\")"
   ]
  },
  {
   "cell_type": "code",
   "execution_count": 10,
   "metadata": {},
   "outputs": [
    {
     "data": {
      "text/plain": [
       "['../logs/2021-04-05/4/pred_b9a3865fc.npy',\n",
       " '../logs/2021-04-05/4/pred_aaa6a05cc.npy',\n",
       " '../logs/2021-04-05/4/pred_e79de561c.npy',\n",
       " '../logs/2021-04-05/4/pred_8242609fa.npy',\n",
       " '../logs/2021-04-05/4/pred_2f6ecfcdf.npy',\n",
       " '../logs/2021-04-05/4/pred_0486052bb.npy',\n",
       " '../logs/2021-04-05/4/pred_26dc41664.npy',\n",
       " '../logs/2021-04-05/4/pred_afa5e8098.npy',\n",
       " '../logs/2021-04-05/4/pred_54f2eec69.npy',\n",
       " '../logs/2021-04-05/4/pred_cb2d976f4.npy',\n",
       " '../logs/2021-04-05/4/pred_4ef6695ce.npy',\n",
       " '../logs/2021-04-05/4/pred_095bf7a1f.npy',\n",
       " '../logs/2021-04-05/4/pred_1e2425f28.npy',\n",
       " '../logs/2021-04-05/4/pred_c68fe75ea.npy',\n",
       " '../logs/2021-04-05/4/pred_b2dc8411c.npy']"
      ]
     },
     "execution_count": 10,
     "metadata": {},
     "output_type": "execute_result"
    }
   ],
   "source": [
    "preds"
   ]
  },
  {
   "cell_type": "markdown",
   "metadata": {},
   "source": [
    "### Image, truth & pred"
   ]
  },
  {
   "cell_type": "code",
   "execution_count": 11,
   "metadata": {},
   "outputs": [],
   "source": [
    "THRESHOLD = 0.4"
   ]
  },
  {
   "cell_type": "code",
   "execution_count": 12,
   "metadata": {},
   "outputs": [],
   "source": [
    "NAMES = [\n",
    "    \"b9a3865fc\",\n",
    "    \"aaa6a05cc\",\n",
    "    \"e79de561c\",\n",
    "    \"8242609fa\",\n",
    "    \"2f6ecfcdf\",\n",
    "    \"0486052bb\",\n",
    "    \"26dc41664\",\n",
    "    \"afa5e8098\",\n",
    "    \"54f2eec69\",\n",
    "    \"cb2d976f4\",\n",
    "    \"4ef6695ce\",\n",
    "    \"095bf7a1f\",\n",
    "    \"1e2425f28\",\n",
    "    \"c68fe75ea\",\n",
    "    \"b2dc8411c\",\n",
    "]"
   ]
  },
  {
   "cell_type": "code",
   "execution_count": 13,
   "metadata": {},
   "outputs": [],
   "source": [
    "mask_name = \"b9a3865fc\"\n",
    "\n",
    "idx = [i for i, path in enumerate(preds) if mask_name in path][0]"
   ]
  },
  {
   "cell_type": "code",
   "execution_count": 14,
   "metadata": {},
   "outputs": [],
   "source": [
    "probs = np.load(preds[idx]).astype(np.float32)\n",
    "pred = (probs > THRESHOLD).astype(np.uint8)"
   ]
  },
  {
   "cell_type": "code",
   "execution_count": 15,
   "metadata": {},
   "outputs": [],
   "source": [
    "img = load_image(os.path.join(TIFF_PATH_4, mask_name + \".tiff\"), full_size=False)"
   ]
  },
  {
   "cell_type": "code",
   "execution_count": 16,
   "metadata": {},
   "outputs": [],
   "source": [
    "rle = df_mask[df_mask['id'] == mask_name]['encoding']\n",
    "mask = enc2mask(rle, (img.shape[1], img.shape[0]))"
   ]
  },
  {
   "cell_type": "code",
   "execution_count": 17,
   "metadata": {},
   "outputs": [
    {
     "data": {
      "text/plain": [
       "((7823, 10107), (7823, 10107, 3), (7823, 10107))"
      ]
     },
     "execution_count": 17,
     "metadata": {},
     "output_type": "execute_result"
    }
   ],
   "source": [
    "mask.shape, img.shape, pred.shape"
   ]
  },
  {
   "cell_type": "code",
   "execution_count": 18,
   "metadata": {},
   "outputs": [
    {
     "name": "stdout",
     "output_type": "stream",
     "text": [
      "Score for downscaled image is 0.9424\n"
     ]
    }
   ],
   "source": [
    "score = dice_scores_img(pred , mask)\n",
    "print(f'Score for downscaled image is {score:.4f}')"
   ]
  },
  {
   "cell_type": "markdown",
   "metadata": {},
   "source": [
    "### Post-processing"
   ]
  },
  {
   "cell_type": "code",
   "execution_count": 49,
   "metadata": {},
   "outputs": [],
   "source": [
    "def extract_components(probs, threshold=0.5, plot=True):\n",
    "    x_coords = np.arange(probs.shape[0])\n",
    "    y_coords = np.arange(probs.shape[1])\n",
    "    \n",
    "    mask = (probs > threshold).astype(np.uint8)\n",
    "    num_component, components = cv2.connectedComponents(mask, connectivity=8)\n",
    "    \n",
    "    boxes = []\n",
    "    \n",
    "    for c in tqdm(range(1, num_component)):\n",
    "        component = (components == c)\n",
    "        \n",
    "        x_comp = x_coords[component.sum(1) > 0][[0, -1]]\n",
    "        y_comp = y_coords[component.sum(0) > 0][[0, -1]]\n",
    "        \n",
    "        boxes.append([x_comp[0], x_comp[1] + 1, y_comp[0], y_comp[1] + 1])\n",
    "        \n",
    "        if plot:\n",
    "            plt.figure(figsize=(5, 5))\n",
    "            plt.imshow(components[boxes[-1][0]: boxes[-1][1], boxes[-1][2]: boxes[-1][3]])\n",
    "            plt.show()\n",
    "    \n",
    "    print(f'Found {len(boxes)} candidates')\n",
    "    return boxes"
   ]
  },
  {
   "cell_type": "code",
   "execution_count": 50,
   "metadata": {},
   "outputs": [],
   "source": [
    "THRESHOLD = 0.1\n",
    "PLOT = False"
   ]
  },
  {
   "cell_type": "code",
   "execution_count": 51,
   "metadata": {
    "scrolled": true
   },
   "outputs": [
    {
     "name": "stdout",
     "output_type": "stream",
     "text": [
      "\n",
      "  -> Mask b9a3865fc\n"
     ]
    },
    {
     "data": {
      "application/vnd.jupyter.widget-view+json": {
       "model_id": "04be644b605d490f841d9df444ce15a4",
       "version_major": 2,
       "version_minor": 0
      },
      "text/plain": [
       "HBox(children=(HTML(value=''), FloatProgress(value=0.0, max=490.0), HTML(value='')))"
      ]
     },
     "metadata": {},
     "output_type": "display_data"
    },
    {
     "name": "stdout",
     "output_type": "stream",
     "text": [
      "\n",
      "Found 490 candidates\n",
      "\n",
      "  -> Mask aaa6a05cc\n"
     ]
    },
    {
     "data": {
      "application/vnd.jupyter.widget-view+json": {
       "model_id": "ec94682a1b2e4e938560dfebb681a02d",
       "version_major": 2,
       "version_minor": 0
      },
      "text/plain": [
       "HBox(children=(HTML(value=''), FloatProgress(value=0.0, max=117.0), HTML(value='')))"
      ]
     },
     "metadata": {},
     "output_type": "display_data"
    },
    {
     "name": "stdout",
     "output_type": "stream",
     "text": [
      "\n",
      "Found 117 candidates\n",
      "\n",
      "  -> Mask e79de561c\n"
     ]
    },
    {
     "data": {
      "application/vnd.jupyter.widget-view+json": {
       "model_id": "c4278d3289f543a981b81ee051d3ac29",
       "version_major": 2,
       "version_minor": 0
      },
      "text/plain": [
       "HBox(children=(HTML(value=''), FloatProgress(value=0.0, max=191.0), HTML(value='')))"
      ]
     },
     "metadata": {},
     "output_type": "display_data"
    },
    {
     "name": "stdout",
     "output_type": "stream",
     "text": [
      "\n",
      "Found 191 candidates\n",
      "\n",
      "  -> Mask 8242609fa\n"
     ]
    },
    {
     "data": {
      "application/vnd.jupyter.widget-view+json": {
       "model_id": "18511d06785245ca92a6814002b4a352",
       "version_major": 2,
       "version_minor": 0
      },
      "text/plain": [
       "HBox(children=(HTML(value=''), FloatProgress(value=0.0, max=624.0), HTML(value='')))"
      ]
     },
     "metadata": {},
     "output_type": "display_data"
    },
    {
     "name": "stdout",
     "output_type": "stream",
     "text": [
      "\n",
      "Found 624 candidates\n",
      "\n",
      "  -> Mask 2f6ecfcdf\n"
     ]
    },
    {
     "data": {
      "application/vnd.jupyter.widget-view+json": {
       "model_id": "2d8d988c62de4cc39d829e3984a7fac4",
       "version_major": 2,
       "version_minor": 0
      },
      "text/plain": [
       "HBox(children=(HTML(value=''), FloatProgress(value=0.0, max=174.0), HTML(value='')))"
      ]
     },
     "metadata": {},
     "output_type": "display_data"
    },
    {
     "name": "stdout",
     "output_type": "stream",
     "text": [
      "\n",
      "Found 174 candidates\n",
      "\n",
      "  -> Mask 0486052bb\n"
     ]
    },
    {
     "data": {
      "application/vnd.jupyter.widget-view+json": {
       "model_id": "050b9788151341ee8c5704e3f7cfa0d5",
       "version_major": 2,
       "version_minor": 0
      },
      "text/plain": [
       "HBox(children=(HTML(value=''), FloatProgress(value=0.0, max=135.0), HTML(value='')))"
      ]
     },
     "metadata": {},
     "output_type": "display_data"
    },
    {
     "name": "stdout",
     "output_type": "stream",
     "text": [
      "\n",
      "Found 135 candidates\n",
      "\n",
      "  -> Mask 26dc41664\n"
     ]
    },
    {
     "data": {
      "application/vnd.jupyter.widget-view+json": {
       "model_id": "27c234396ede43e484c14c484e05c8ae",
       "version_major": 2,
       "version_minor": 0
      },
      "text/plain": [
       "HBox(children=(HTML(value=''), FloatProgress(value=0.0, max=255.0), HTML(value='')))"
      ]
     },
     "metadata": {},
     "output_type": "display_data"
    },
    {
     "name": "stdout",
     "output_type": "stream",
     "text": [
      "\n",
      "Found 255 candidates\n",
      "\n",
      "  -> Mask afa5e8098\n"
     ]
    },
    {
     "data": {
      "application/vnd.jupyter.widget-view+json": {
       "model_id": "f0e770642fcb43558341597e148127d6",
       "version_major": 2,
       "version_minor": 0
      },
      "text/plain": [
       "HBox(children=(HTML(value=''), FloatProgress(value=0.0, max=259.0), HTML(value='')))"
      ]
     },
     "metadata": {},
     "output_type": "display_data"
    },
    {
     "name": "stdout",
     "output_type": "stream",
     "text": [
      "\n",
      "Found 259 candidates\n",
      "\n",
      "  -> Mask 54f2eec69\n"
     ]
    },
    {
     "data": {
      "application/vnd.jupyter.widget-view+json": {
       "model_id": "ccbe2e5d96f94a7793bb2e448927ab9e",
       "version_major": 2,
       "version_minor": 0
      },
      "text/plain": [
       "HBox(children=(HTML(value=''), FloatProgress(value=0.0, max=143.0), HTML(value='')))"
      ]
     },
     "metadata": {},
     "output_type": "display_data"
    },
    {
     "name": "stdout",
     "output_type": "stream",
     "text": [
      "\n",
      "Found 143 candidates\n",
      "\n",
      "  -> Mask cb2d976f4\n"
     ]
    },
    {
     "data": {
      "application/vnd.jupyter.widget-view+json": {
       "model_id": "ac159c438f114fd8b8e3b88733fad7f0",
       "version_major": 2,
       "version_minor": 0
      },
      "text/plain": [
       "HBox(children=(HTML(value=''), FloatProgress(value=0.0, max=354.0), HTML(value='')))"
      ]
     },
     "metadata": {},
     "output_type": "display_data"
    },
    {
     "name": "stdout",
     "output_type": "stream",
     "text": [
      "\n",
      "Found 354 candidates\n",
      "\n",
      "  -> Mask 4ef6695ce\n"
     ]
    },
    {
     "data": {
      "application/vnd.jupyter.widget-view+json": {
       "model_id": "8780e3ce939b433f8f93581543b2b05d",
       "version_major": 2,
       "version_minor": 0
      },
      "text/plain": [
       "HBox(children=(HTML(value=''), FloatProgress(value=0.0, max=462.0), HTML(value='')))"
      ]
     },
     "metadata": {},
     "output_type": "display_data"
    },
    {
     "name": "stdout",
     "output_type": "stream",
     "text": [
      "\n",
      "Found 462 candidates\n",
      "\n",
      "  -> Mask 095bf7a1f\n"
     ]
    },
    {
     "data": {
      "application/vnd.jupyter.widget-view+json": {
       "model_id": "2e421882b7744d7e856799bf13735b77",
       "version_major": 2,
       "version_minor": 0
      },
      "text/plain": [
       "HBox(children=(HTML(value=''), FloatProgress(value=0.0, max=352.0), HTML(value='')))"
      ]
     },
     "metadata": {},
     "output_type": "display_data"
    },
    {
     "name": "stdout",
     "output_type": "stream",
     "text": [
      "\n",
      "Found 352 candidates\n",
      "\n",
      "  -> Mask 1e2425f28\n"
     ]
    },
    {
     "data": {
      "application/vnd.jupyter.widget-view+json": {
       "model_id": "a1da13a399c6488bb944dfeeb237f297",
       "version_major": 2,
       "version_minor": 0
      },
      "text/plain": [
       "HBox(children=(HTML(value=''), FloatProgress(value=0.0, max=207.0), HTML(value='')))"
      ]
     },
     "metadata": {},
     "output_type": "display_data"
    },
    {
     "name": "stdout",
     "output_type": "stream",
     "text": [
      "\n",
      "Found 207 candidates\n",
      "\n",
      "  -> Mask c68fe75ea\n"
     ]
    },
    {
     "data": {
      "application/vnd.jupyter.widget-view+json": {
       "model_id": "a21e501d5c724817b7171dbe7b7ddcf8",
       "version_major": 2,
       "version_minor": 0
      },
      "text/plain": [
       "HBox(children=(HTML(value=''), FloatProgress(value=0.0, max=126.0), HTML(value='')))"
      ]
     },
     "metadata": {},
     "output_type": "display_data"
    },
    {
     "name": "stdout",
     "output_type": "stream",
     "text": [
      "\n",
      "Found 126 candidates\n",
      "\n",
      "  -> Mask b2dc8411c\n"
     ]
    },
    {
     "data": {
      "application/vnd.jupyter.widget-view+json": {
       "model_id": "8294d51c049b4cb2a23306e47f0b4713",
       "version_major": 2,
       "version_minor": 0
      },
      "text/plain": [
       "HBox(children=(HTML(value=''), FloatProgress(value=0.0, max=132.0), HTML(value='')))"
      ]
     },
     "metadata": {},
     "output_type": "display_data"
    },
    {
     "name": "stdout",
     "output_type": "stream",
     "text": [
      "\n",
      "Found 132 candidates\n"
     ]
    }
   ],
   "source": [
    "boxes_dic = {}\n",
    "\n",
    "for idx, pred in enumerate(preds):\n",
    "    mask_name = pred.split('/')[-1].split('_')[1][:-4]\n",
    "    print(f'\\n  -> Mask {mask_name}')\n",
    "    \n",
    "#     rle = df_mask[df_mask['id'] == mask_name]['encoding']\n",
    "#     img = load_image(os.path.join(TIFF_PATH_4, mask_name + \".tiff\"), full_size=False)\n",
    "#     mask = enc2mask(rle, (img.shape[1], img.shape[0]))\n",
    "    \n",
    "    probs = np.load(pred)\n",
    "\n",
    "    boxes = extract_components(\n",
    "        probs, \n",
    "        threshold=THRESHOLD,\n",
    "        plot=PLOT,\n",
    "    )\n",
    "    \n",
    "    boxes_dic[mask_name] = boxes"
   ]
  },
  {
   "cell_type": "code",
   "execution_count": 66,
   "metadata": {},
   "outputs": [],
   "source": [
    "for k in boxes_dic.keys():\n",
    "    boxes_dic[k] = np.array(boxes_dic[k]).astype(int).tolist()"
   ]
  },
  {
   "cell_type": "code",
   "execution_count": 71,
   "metadata": {},
   "outputs": [
    {
     "name": "stdout",
     "output_type": "stream",
     "text": [
      "Saved boxes to ../logs/2021-04-05/4/boxes_1.json\n"
     ]
    }
   ],
   "source": [
    "with open(log_folder + f\"boxes_{str(THRESHOLD)[-1]}.json\", \"w\") as f:\n",
    "    json.dump(boxes_dic, f)\n",
    "    \n",
    "print(f'Saved boxes to {log_folder + f\"boxes_{str(THRESHOLD)[-1]}.json\"}')"
   ]
  }
 ],
 "metadata": {
  "kernelspec": {
   "display_name": "venv",
   "language": "python",
   "name": "venv"
  },
  "language_info": {
   "codemirror_mode": {
    "name": "ipython",
    "version": 3
   },
   "file_extension": ".py",
   "mimetype": "text/x-python",
   "name": "python",
   "nbconvert_exporter": "python",
   "pygments_lexer": "ipython3",
   "version": "3.8.5"
  }
 },
 "nbformat": 4,
 "nbformat_minor": 4
}
