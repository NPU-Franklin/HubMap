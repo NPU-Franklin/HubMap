{
 "cells": [
  {
   "cell_type": "code",
   "execution_count": null,
   "metadata": {},
   "outputs": [],
   "source": [
    "# %load_ext nb_black\n",
    "%load_ext autoreload\n",
    "%autoreload 2"
   ]
  },
  {
   "cell_type": "markdown",
   "metadata": {},
   "source": [
    "## Initialization"
   ]
  },
  {
   "cell_type": "markdown",
   "metadata": {},
   "source": [
    "### Imports"
   ]
  },
  {
   "cell_type": "code",
   "execution_count": null,
   "metadata": {},
   "outputs": [],
   "source": [
    "import os\n",
    "import sys\n",
    "import cv2\n",
    "import json\n",
    "import glob\n",
    "import torch\n",
    "import numpy as np\n",
    "import pandas as pd\n",
    "import seaborn as sns\n",
    "import plotly.express as px\n",
    "\n",
    "from tqdm.notebook import tqdm\n",
    "from matplotlib import pyplot as plt\n",
    "\n",
    "sys.path.append(\"../code/\")"
   ]
  },
  {
   "cell_type": "code",
   "execution_count": null,
   "metadata": {},
   "outputs": [],
   "source": [
    "from params import *\n",
    "from utils.rle import *\n",
    "\n",
    "from data.dataset import load_image\n",
    "\n",
    "from utils.metrics import dice_scores_img\n",
    "from utils.plots import plot_heatmap_preds, plot_contours_preds"
   ]
  },
  {
   "cell_type": "markdown",
   "metadata": {},
   "source": [
    "### Load"
   ]
  },
  {
   "cell_type": "code",
   "execution_count": null,
   "metadata": {},
   "outputs": [],
   "source": [
    "df_info = pd.read_csv(DATA_PATH + f\"HuBMAP-20-dataset_information.csv\")\n",
    "df_mask = pd.read_csv(DATA_PATH + \"train_4.csv\")\n",
    "# df = pd.read_csv(OUT_PATH + \"df_images.csv\")"
   ]
  },
  {
   "cell_type": "markdown",
   "metadata": {},
   "source": [
    "### Data"
   ]
  },
  {
   "cell_type": "code",
   "execution_count": null,
   "metadata": {},
   "outputs": [],
   "source": [
    "root = TIFF_PATH_4\n",
    "rle_path = DATA_PATH + \"train_4.csv\"\n",
    "reduce_factor = 1\n",
    "rles = pd.read_csv(rle_path)"
   ]
  },
  {
   "cell_type": "markdown",
   "metadata": {},
   "source": [
    "### Experiment"
   ]
  },
  {
   "cell_type": "code",
   "execution_count": null,
   "metadata": {},
   "outputs": [],
   "source": [
    "log_folder = \"../logs/2021-04-05/4/\"  # b1"
   ]
  },
  {
   "cell_type": "code",
   "execution_count": null,
   "metadata": {},
   "outputs": [],
   "source": [
    "class Config:\n",
    "    def __init__(self, **entries):\n",
    "        self.__dict__.update(entries)\n",
    "\n",
    "config = json.load(open(log_folder + 'config.json', 'r'))\n",
    "config = Config(**config)"
   ]
  },
  {
   "cell_type": "code",
   "execution_count": null,
   "metadata": {},
   "outputs": [],
   "source": [
    "global_threshold = 0.4"
   ]
  },
  {
   "cell_type": "code",
   "execution_count": null,
   "metadata": {},
   "outputs": [],
   "source": [
    "preds = glob.glob(log_folder + \"pred_*.npy\")"
   ]
  },
  {
   "cell_type": "code",
   "execution_count": null,
   "metadata": {},
   "outputs": [],
   "source": [
    "preds"
   ]
  },
  {
   "cell_type": "markdown",
   "metadata": {},
   "source": [
    "### Image, truth & pred"
   ]
  },
  {
   "cell_type": "code",
   "execution_count": null,
   "metadata": {},
   "outputs": [],
   "source": [
    "THRESHOLD = 0.4"
   ]
  },
  {
   "cell_type": "code",
   "execution_count": null,
   "metadata": {},
   "outputs": [],
   "source": [
    "NAMES = [\n",
    "    \"b9a3865fc\",\n",
    "    \"aaa6a05cc\",\n",
    "    \"e79de561c\",\n",
    "    \"8242609fa\",\n",
    "    \"2f6ecfcdf\",\n",
    "    \"0486052bb\",\n",
    "    \"26dc41664\",\n",
    "    \"afa5e8098\",\n",
    "    \"54f2eec69\",\n",
    "    \"cb2d976f4\",\n",
    "    \"4ef6695ce\",\n",
    "    \"095bf7a1f\",\n",
    "    \"1e2425f28\",\n",
    "    \"c68fe75ea\",\n",
    "    \"b2dc8411c\",\n",
    "]"
   ]
  },
  {
   "cell_type": "code",
   "execution_count": null,
   "metadata": {},
   "outputs": [],
   "source": [
    "mask_name = \"b9a3865fc\"\n",
    "\n",
    "idx = [i for i, path in enumerate(preds) if mask_name in path][0]"
   ]
  },
  {
   "cell_type": "code",
   "execution_count": null,
   "metadata": {},
   "outputs": [],
   "source": [
    "probs = np.load(preds[idx]).astype(np.float32)\n",
    "pred = (probs > THRESHOLD).astype(np.uint8)"
   ]
  },
  {
   "cell_type": "code",
   "execution_count": null,
   "metadata": {},
   "outputs": [],
   "source": [
    "img = load_image(os.path.join(TIFF_PATH_4, mask_name + \".tiff\"), full_size=False)"
   ]
  },
  {
   "cell_type": "code",
   "execution_count": null,
   "metadata": {},
   "outputs": [],
   "source": [
    "rle = df_mask[df_mask['id'] == mask_name]['encoding']\n",
    "mask = enc2mask(rle, (img.shape[1], img.shape[0]))"
   ]
  },
  {
   "cell_type": "code",
   "execution_count": null,
   "metadata": {},
   "outputs": [],
   "source": [
    "mask.shape, img.shape, pred.shape"
   ]
  },
  {
   "cell_type": "code",
   "execution_count": null,
   "metadata": {},
   "outputs": [],
   "source": [
    "score = dice_scores_img(pred , mask)\n",
    "print(f'Score for downscaled image is {score:.4f}')"
   ]
  },
  {
   "cell_type": "markdown",
   "metadata": {},
   "source": [
    "### Get bounding boxes"
   ]
  },
  {
   "cell_type": "code",
   "execution_count": null,
   "metadata": {},
   "outputs": [],
   "source": [
    "def extract_components(probs, threshold=0.5, plot=True):\n",
    "    x_coords = np.arange(probs.shape[0])\n",
    "    y_coords = np.arange(probs.shape[1])\n",
    "    \n",
    "    mask = (probs > threshold).astype(np.uint8)\n",
    "    num_component, components = cv2.connectedComponents(mask, connectivity=8)\n",
    "    \n",
    "    boxes = []\n",
    "    \n",
    "    for c in tqdm(range(1, num_component)):\n",
    "        component = (components == c)\n",
    "        \n",
    "        x_comp = x_coords[component.sum(1) > 0][[0, -1]]\n",
    "        y_comp = y_coords[component.sum(0) > 0][[0, -1]]\n",
    "        \n",
    "        boxes.append([x_comp[0], x_comp[1] + 1, y_comp[0], y_comp[1] + 1])\n",
    "        \n",
    "        if plot and not (c % 100):\n",
    "            plt.figure(figsize=(5, 5))\n",
    "            plt.imshow(components[boxes[-1][0]: boxes[-1][1], boxes[-1][2]: boxes[-1][3]])\n",
    "            plt.show()\n",
    "    \n",
    "#         break\n",
    "        \n",
    "    print(f'Found {len(boxes)} candidates')\n",
    "    return boxes"
   ]
  },
  {
   "cell_type": "code",
   "execution_count": null,
   "metadata": {},
   "outputs": [],
   "source": [
    "THRESHOLD = 0.1\n",
    "PLOT = True"
   ]
  },
  {
   "cell_type": "code",
   "execution_count": null,
   "metadata": {
    "scrolled": true
   },
   "outputs": [],
   "source": [
    "boxes_dic = {}\n",
    "\n",
    "for idx, pred in enumerate(preds):\n",
    "    mask_name = pred.split('/')[-1].split('_')[1][:-4]\n",
    "    print(f'\\n  -> Mask {mask_name}')\n",
    "    \n",
    "#     rle = df_mask[df_mask['id'] == mask_name]['encoding']\n",
    "#     img = load_image(os.path.join(TIFF_PATH_4, mask_name + \".tiff\"), full_size=False)\n",
    "#     mask = enc2mask(rle, (img.shape[1], img.shape[0]))\n",
    "    \n",
    "    probs = np.load(pred)\n",
    "\n",
    "    boxes = extract_components(\n",
    "        probs, \n",
    "        threshold=THRESHOLD,\n",
    "        plot=PLOT,\n",
    "    )\n",
    "    \n",
    "    boxes_dic[mask_name] = boxes\n",
    "    \n",
    "    break\n",
    "    "
   ]
  },
  {
   "cell_type": "markdown",
   "metadata": {},
   "source": [
    "### Save as images"
   ]
  },
  {
   "cell_type": "code",
   "execution_count": null,
   "metadata": {},
   "outputs": [],
   "source": [
    "def extend_box(box, size=64):\n",
    "    \"\"\"\n",
    "    Extends a bounding box to be of a chosen size.\n",
    "    Args:\n",
    "        box (numpy array ): Bounding box.\n",
    "        size (int, optional): Target size. Defaults to 64.\n",
    "    Returns:\n",
    "        numpy array: Extended bounding box.\n",
    "    \"\"\"\n",
    "    w = box[1] - box[0]\n",
    "    h = box[3] - box[2]\n",
    "\n",
    "    dw = (size - w) / 2\n",
    "    dh = (size - h) / 2\n",
    "\n",
    "    new_box = [\n",
    "        box[0] - np.floor(dw),\n",
    "        box[1] + np.ceil(dw),\n",
    "        box[2] - np.floor(dh),\n",
    "        box[3] + np.ceil(dh),\n",
    "    ]\n",
    "    return np.array(new_box).astype(int)\n",
    "\n",
    "\n",
    "def adapt_to_shape(box, shape):\n",
    "    \"\"\"\n",
    "    Modifies a bounding box to fit in a given shape.\n",
    "    Args:\n",
    "        box (numpy array): Bounding box.\n",
    "        shape (numpy array): Shape (H, W).\n",
    "    Returns:\n",
    "        numpy array: Adapted bounding box.\n",
    "    \"\"\"\n",
    "    if box[0] < 0:\n",
    "        box[1] -= box[0]\n",
    "        box[0] = 0\n",
    "    elif box[1] >= shape[0]:\n",
    "        diff = box[1] - shape[0]\n",
    "        box[1] -= diff\n",
    "        box[0] -= diff\n",
    "\n",
    "    if box[2] < 0:\n",
    "        box[3] -= box[2]\n",
    "        box[2] = 0\n",
    "\n",
    "    elif box[3] >= shape[1]:\n",
    "        diff = box[3] - shape[1]\n",
    "        box[3] -= diff\n",
    "        box[2] -= diff\n",
    "\n",
    "    return box"
   ]
  },
  {
   "cell_type": "code",
   "execution_count": null,
   "metadata": {},
   "outputs": [],
   "source": [
    "# boxes_dic = json.load(open(log_folder + f\"boxes_{str(THRESHOLD)[-1]}.json\", 'r'))"
   ]
  },
  {
   "cell_type": "code",
   "execution_count": null,
   "metadata": {},
   "outputs": [],
   "source": [
    "SIZE = 192\n",
    "SAVE = False\n",
    "PLOT = True"
   ]
  },
  {
   "cell_type": "code",
   "execution_count": null,
   "metadata": {},
   "outputs": [],
   "source": [
    "SAVE_DIR = log_folder + f\"boxes_{str(THRESHOLD)[-1]}/\"\n",
    "\n",
    "try:\n",
    "    os.mkdir(SAVE_DIR)\n",
    "except FileExistsError:\n",
    "    print('Folder already exists !')"
   ]
  },
  {
   "cell_type": "code",
   "execution_count": null,
   "metadata": {
    "scrolled": false
   },
   "outputs": [],
   "source": [
    "for idx, pred in enumerate(tqdm(preds)):\n",
    "    mask_name = pred.split('/')[-1].split('_')[1][:-4]\n",
    "    print(f'\\n  -> Mask {mask_name}')\n",
    "    \n",
    "    rle = df_mask[df_mask['id'] == mask_name]['encoding']\n",
    "    img = load_image(os.path.join(TIFF_PATH_4, mask_name + \".tiff\"), full_size=False)\n",
    "    mask = enc2mask(rle, (img.shape[1], img.shape[0]))\n",
    "    \n",
    "    probs = np.load(pred)\n",
    "    \n",
    "    for i, box in enumerate(boxes_dic[mask_name]):\n",
    "        \n",
    "        box = extend_box(box, SIZE)\n",
    "        box = adapt_to_shape(box, img.shape)\n",
    "\n",
    "        crop_img = img[box[0] : box[1], box[2]:box[3]]\n",
    "        crop_prob = probs[box[0] : box[1], box[2]:box[3]].astype(np.float32)\n",
    "        crop_mask = mask[box[0] : box[1], box[2]:box[3]]\n",
    "        \n",
    "        crop = np.concatenate([\n",
    "            crop_img.astype(np.float32) / 255,\n",
    "            crop_prob[:, :, None],\n",
    "            crop_mask[:, :, None],\n",
    "        ], -1)\n",
    "        \n",
    "        if SAVE:\n",
    "            np.save(SAVE_DIR + f'{mask_name}_{i}.npy', crop)\n",
    "        \n",
    "        if PLOT and not (i % 100):\n",
    "            plt.figure(figsize=(15,5))\n",
    "            plt.subplot(1, 3, 1)\n",
    "            plt.imshow(crop_img)\n",
    "            plt.subplot(1, 3, 2)\n",
    "            plt.imshow(crop_mask)\n",
    "            plt.subplot(1, 3, 3)\n",
    "            plt.imshow(crop_prob)\n",
    "            plt.show()\n",
    "            break\n",
    "    break"
   ]
  },
  {
   "cell_type": "code",
   "execution_count": null,
   "metadata": {},
   "outputs": [],
   "source": [
    "for k in boxes_dic.keys():\n",
    "    boxes_dic[k] = np.array(boxes_dic[k]).astype(int).tolist()\n",
    "\n",
    "with open(log_folder + f\"boxes_{str(THRESHOLD)[-1]}.json\", \"w\") as f:\n",
    "    json.dump(boxes_dic, f)\n",
    "    \n",
    "print(f'Saved boxes to {log_folder + f\"boxes_{str(THRESHOLD)[-1]}.json\"}')"
   ]
  }
 ],
 "metadata": {
  "kernelspec": {
   "display_name": "venv",
   "language": "python",
   "name": "venv"
  },
  "language_info": {
   "codemirror_mode": {
    "name": "ipython",
    "version": 3
   },
   "file_extension": ".py",
   "mimetype": "text/x-python",
   "name": "python",
   "nbconvert_exporter": "python",
   "pygments_lexer": "ipython3",
   "version": "3.8.5"
  }
 },
 "nbformat": 4,
 "nbformat_minor": 4
}
