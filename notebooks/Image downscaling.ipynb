{
 "cells": [
  {
   "cell_type": "code",
   "execution_count": null,
   "metadata": {},
   "outputs": [],
   "source": [
    "# %load_ext nb_black\n",
    "%load_ext autoreload\n",
    "%autoreload 2"
   ]
  },
  {
   "cell_type": "markdown",
   "metadata": {},
   "source": [
    "### Imports"
   ]
  },
  {
   "cell_type": "code",
   "execution_count": null,
   "metadata": {},
   "outputs": [],
   "source": [
    "import os\n",
    "import gc\n",
    "import cv2\n",
    "import sys\n",
    "import tifffile\n",
    "import numpy as np\n",
    "import pandas as pd\n",
    "\n",
    "from tqdm.notebook import tqdm\n",
    "from collections import Counter\n",
    "from matplotlib import pyplot as plt\n",
    "\n",
    "sys.path.append(\"../code/\")"
   ]
  },
  {
   "cell_type": "code",
   "execution_count": null,
   "metadata": {},
   "outputs": [],
   "source": [
    "from data.dataset import load_image\n",
    "from utils.rle import *\n",
    "from params import *"
   ]
  },
  {
   "cell_type": "markdown",
   "metadata": {},
   "source": [
    "### Preparation"
   ]
  },
  {
   "cell_type": "code",
   "execution_count": null,
   "metadata": {},
   "outputs": [],
   "source": [
    "FACTOR = 4"
   ]
  },
  {
   "cell_type": "code",
   "execution_count": null,
   "metadata": {},
   "outputs": [],
   "source": [
    "out_dir = DATA_PATH + f\"train_{FACTOR}/\""
   ]
  },
  {
   "cell_type": "code",
   "execution_count": null,
   "metadata": {},
   "outputs": [],
   "source": [
    "df_masks = pd.read_csv(DATA_PATH + \"train.csv\").set_index(\"id\")"
   ]
  },
  {
   "cell_type": "code",
   "execution_count": null,
   "metadata": {},
   "outputs": [],
   "source": [
    "if not os.path.exists(out_dir):\n",
    "    os.mkdir(out_dir)"
   ]
  },
  {
   "cell_type": "markdown",
   "metadata": {},
   "source": [
    "### Loop"
   ]
  },
  {
   "cell_type": "code",
   "execution_count": null,
   "metadata": {},
   "outputs": [],
   "source": [
    "masks = {}\n",
    "\n",
    "for index, encs in tqdm(df_masks.iterrows(), total=len(df_masks)):\n",
    "    # read image and generate the mask\n",
    "    img = load_image(os.path.join(TIFF_PATH, index + \".tiff\"))\n",
    "    mask = enc2mask(encs, (img.shape[1], img.shape[0]))\n",
    "\n",
    "    img = cv2.resize(\n",
    "        img,\n",
    "        (img.shape[1] // FACTOR, img.shape[0] // FACTOR),\n",
    "        interpolation=cv2.INTER_AREA,\n",
    "    )\n",
    "\n",
    "    mask = cv2.resize(\n",
    "        mask,\n",
    "        (mask.shape[1] // FACTOR, mask.shape[0] // FACTOR),\n",
    "        interpolation=cv2.INTER_NEAREST,\n",
    "    )\n",
    "    \n",
    "    rle = mask2enc(mask)\n",
    "    \n",
    "    masks[index] = rle\n",
    "    \n",
    "    tifffile.imsave(out_dir + f\"{index}.tiff\", img)"
   ]
  },
  {
   "cell_type": "code",
   "execution_count": null,
   "metadata": {},
   "outputs": [],
   "source": [
    "df_masks = pd.DataFrame.from_dict(masks).T.reset_index().rename(columns={0: \"encoding\", \"index\": \"id\"})"
   ]
  },
  {
   "cell_type": "code",
   "execution_count": 11,
   "metadata": {},
   "outputs": [],
   "source": [
    "from params import DATA_PATH\n",
    "df_masks.to_csv(f\"{DATA_PATH}train_{FACTOR}.csv\", index=False)"
   ]
  },
  {
   "cell_type": "markdown",
   "metadata": {},
   "source": [
    "## LAB Stats"
   ]
  },
  {
   "cell_type": "code",
   "execution_count": 9,
   "metadata": {},
   "outputs": [],
   "source": [
    "from data.transforms import get_lab_stats"
   ]
  },
  {
   "cell_type": "code",
   "execution_count": 10,
   "metadata": {},
   "outputs": [],
   "source": [
    "df_masks = pd.read_csv(f\"../input/train_{FACTOR}.csv\")"
   ]
  },
  {
   "cell_type": "code",
   "execution_count": 12,
   "metadata": {},
   "outputs": [
    {
     "data": {
      "application/vnd.jupyter.widget-view+json": {
       "model_id": "df4d2845bac34627b85c346325a78c24",
       "version_major": 2,
       "version_minor": 0
      },
      "text/plain": [
       "HBox(children=(HTML(value=''), FloatProgress(value=0.0, max=15.0), HTML(value='')))"
      ]
     },
     "metadata": {},
     "output_type": "display_data"
    },
    {
     "name": "stdout",
     "output_type": "stream",
     "text": [
      "\n"
     ]
    }
   ],
   "source": [
    "stats_dic = {}\n",
    "\n",
    "for index, encs in tqdm(df_masks.values):\n",
    "    # read image and generate the mask\n",
    "    img = load_image(os.path.join(out_dir, index + \".tiff\"), full_size=False)\n",
    "    \n",
    "    stats = get_lab_stats(img)\n",
    "    \n",
    "    stats_dic[index] = stats\n",
    "    \n",
    "    del img\n",
    "    gc.collect()"
   ]
  },
  {
   "cell_type": "markdown",
   "metadata": {},
   "source": [
    "# SAVED STATS\n",
    "\n",
    "\n",
    "{'2f6ecfcdf': (array([145.20238231, 137.9992975 , 118.50750566]),\n",
    "  array([89.18389495, 14.00093526, 13.21949608])),\n",
    " '8242609fa': (array([160.79001264, 142.6352168 , 114.00284024]),\n",
    "  array([70.24989634, 15.22372627, 14.4514529 ])),\n",
    " 'aaa6a05cc': (array([160.45423395, 143.03174444, 114.09910137]),\n",
    "  array([74.09723191, 17.26439303, 15.81758684])),\n",
    " 'cb2d976f4': (array([149.31195412, 140.31331355, 117.20462794]),\n",
    "  array([84.94398285, 15.75064753, 13.52656749])),\n",
    " 'b9a3865fc': (array([171.01812023, 143.30085418, 113.43859791]),\n",
    "  array([59.4382794 , 14.68882715, 13.63255176])),\n",
    " 'b2dc8411c': (array([140.90416801, 138.17195697, 118.23776168]),\n",
    "  array([89.70731926, 13.98473528, 13.16651675])),\n",
    " '0486052bb': (array([150.98582581, 137.75751632, 118.39993127]),\n",
    "  array([86.3467948 , 13.35411092, 12.92842957])),\n",
    " 'e79de561c': (array([157.95985203, 146.4938866 , 111.56713176]),\n",
    "  array([54.46774812, 15.66899484, 14.39054206])),\n",
    " '095bf7a1f': (array([129.59920559, 144.70288534, 116.08658614]),\n",
    "  array([79.32734831, 18.45795296, 13.04625025])),\n",
    " '54f2eec69': (array([149.58838888, 143.2456009 , 116.12248584]),\n",
    "  array([73.62551546, 17.1735228 , 13.98801728])),\n",
    " '4ef6695ce': (array([152.16802057, 148.97719682, 112.45433171]),\n",
    "  array([63.19192052, 19.56262307, 14.6277392 ])),\n",
    " '26dc41664': (array([135.29452738, 146.14188243, 114.37756163]),\n",
    "  array([77.62458547, 19.65603636, 14.95319517])),\n",
    " 'c68fe75ea': (array([164.85067316, 147.15755839, 112.1557135 ]),\n",
    "  array([42.72894554, 14.53008223, 12.74913869])),\n",
    " 'afa5e8098': (array([135.90040118, 143.43050015, 114.02753278]),\n",
    "  array([70.04322744, 13.57595383, 12.60366562])),\n",
    " '1e2425f28': (array([133.55795968, 153.76124745, 111.09582196]),\n",
    "  array([66.04495908, 20.47925883, 13.85287878]))}"
   ]
  }
 ],
 "metadata": {
  "kernelspec": {
   "display_name": "Python 3",
   "language": "python",
   "name": "python3"
  },
  "language_info": {
   "codemirror_mode": {
    "name": "ipython",
    "version": 3
   },
   "file_extension": ".py",
   "mimetype": "text/x-python",
   "name": "python",
   "nbconvert_exporter": "python",
   "pygments_lexer": "ipython3",
   "version": "3.7.6"
  }
 },
 "nbformat": 4,
 "nbformat_minor": 4
}
