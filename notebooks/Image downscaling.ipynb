{
 "cells": [
  {
   "cell_type": "code",
   "execution_count": 4,
   "metadata": {},
   "outputs": [
    {
     "name": "stdout",
     "output_type": "stream",
     "text": [
      "The autoreload extension is already loaded. To reload it, use:\n",
      "  %reload_ext autoreload\n"
     ]
    }
   ],
   "source": [
    "# %load_ext nb_black\n",
    "%load_ext autoreload\n",
    "%autoreload 2"
   ]
  },
  {
   "cell_type": "markdown",
   "metadata": {},
   "source": [
    "### Imports"
   ]
  },
  {
   "cell_type": "code",
   "execution_count": 30,
   "metadata": {},
   "outputs": [],
   "source": [
    "import os\n",
    "import cv2\n",
    "import sys\n",
    "import tifffile\n",
    "import numpy as np\n",
    "import pandas as pd\n",
    "\n",
    "from tqdm.notebook import tqdm\n",
    "from collections import Counter\n",
    "from matplotlib import pyplot as plt\n",
    "\n",
    "sys.path.append(\"../code/\")"
   ]
  },
  {
   "cell_type": "code",
   "execution_count": 15,
   "metadata": {},
   "outputs": [],
   "source": [
    "from data.dataset import load_image\n",
    "from utils.rle import *\n",
    "from params import *"
   ]
  },
  {
   "cell_type": "markdown",
   "metadata": {},
   "source": [
    "### Preparation"
   ]
  },
  {
   "cell_type": "code",
   "execution_count": 46,
   "metadata": {},
   "outputs": [],
   "source": [
    "FACTOR = 4"
   ]
  },
  {
   "cell_type": "code",
   "execution_count": 47,
   "metadata": {},
   "outputs": [],
   "source": [
    "out_dir = DATA_PATH + f\"train_{FACTOR}/\""
   ]
  },
  {
   "cell_type": "code",
   "execution_count": 48,
   "metadata": {},
   "outputs": [],
   "source": [
    "df_masks = pd.read_csv(DATA_PATH + \"train.csv\").set_index(\"id\")"
   ]
  },
  {
   "cell_type": "code",
   "execution_count": 49,
   "metadata": {},
   "outputs": [],
   "source": [
    "if not os.path.exists(out_dir):\n",
    "    os.mkdir(out_dir)"
   ]
  },
  {
   "cell_type": "markdown",
   "metadata": {},
   "source": [
    "### Loop"
   ]
  },
  {
   "cell_type": "code",
   "execution_count": 31,
   "metadata": {},
   "outputs": [
    {
     "data": {
      "application/vnd.jupyter.widget-view+json": {
       "model_id": "bf52782f79124c2ab7cbcb9b6acb4974",
       "version_major": 2,
       "version_minor": 0
      },
      "text/plain": [
       "HBox(children=(HTML(value=''), FloatProgress(value=0.0, max=8.0), HTML(value='')))"
      ]
     },
     "metadata": {},
     "output_type": "display_data"
    },
    {
     "name": "stdout",
     "output_type": "stream",
     "text": [
      "\n"
     ]
    }
   ],
   "source": [
    "masks = {}\n",
    "\n",
    "for index, encs in tqdm(df_masks.iterrows(), total=len(df_masks)):\n",
    "    # read image and generate the mask\n",
    "    img = load_image(os.path.join(TIFF_PATH, index + \".tiff\"))\n",
    "    mask = enc2mask(encs, (img.shape[1], img.shape[0]))\n",
    "\n",
    "    img = cv2.resize(\n",
    "        img,\n",
    "        (img.shape[1] // FACTOR, img.shape[0] // FACTOR),\n",
    "        interpolation=cv2.INTER_AREA,\n",
    "    )\n",
    "\n",
    "    mask = cv2.resize(\n",
    "        mask,\n",
    "        (mask.shape[1] // FACTOR, mask.shape[0] // FACTOR),\n",
    "        interpolation=cv2.INTER_NEAREST,\n",
    "    )\n",
    "    \n",
    "    rle = mask2enc(mask)\n",
    "    \n",
    "    masks[index] = rle\n",
    "    \n",
    "#     tifffile.imsave(out_dir + f\"{index}.tiff\", img)"
   ]
  },
  {
   "cell_type": "code",
   "execution_count": 52,
   "metadata": {},
   "outputs": [],
   "source": [
    "df_masks = pd.DataFrame.from_dict(masks).T.reset_index().rename(columns={0: \"encoding\", \"index\": \"id\"})"
   ]
  },
  {
   "cell_type": "code",
   "execution_count": 53,
   "metadata": {
    "scrolled": true
   },
   "outputs": [
    {
     "data": {
      "text/html": [
       "<div>\n",
       "<style scoped>\n",
       "    .dataframe tbody tr th:only-of-type {\n",
       "        vertical-align: middle;\n",
       "    }\n",
       "\n",
       "    .dataframe tbody tr th {\n",
       "        vertical-align: top;\n",
       "    }\n",
       "\n",
       "    .dataframe thead th {\n",
       "        text-align: right;\n",
       "    }\n",
       "</style>\n",
       "<table border=\"1\" class=\"dataframe\">\n",
       "  <thead>\n",
       "    <tr style=\"text-align: right;\">\n",
       "      <th></th>\n",
       "      <th>id</th>\n",
       "      <th>encoding</th>\n",
       "    </tr>\n",
       "  </thead>\n",
       "  <tbody>\n",
       "    <tr>\n",
       "      <th>0</th>\n",
       "      <td>2f6ecfcdf</td>\n",
       "      <td>18509325 4 18509331 6 18517140 20 18524955 28 ...</td>\n",
       "    </tr>\n",
       "    <tr>\n",
       "      <th>1</th>\n",
       "      <td>aaa6a05cc</td>\n",
       "      <td>1938681 15 1943301 19 1947920 24 1952540 28 19...</td>\n",
       "    </tr>\n",
       "    <tr>\n",
       "      <th>2</th>\n",
       "      <td>cb2d976f4</td>\n",
       "      <td>4887497 1 4896226 11 4904955 21 4913684 31 492...</td>\n",
       "    </tr>\n",
       "    <tr>\n",
       "      <th>3</th>\n",
       "      <td>0486052bb</td>\n",
       "      <td>6358179 2 6364624 4 6371069 7 6377513 10 63775...</td>\n",
       "    </tr>\n",
       "    <tr>\n",
       "      <th>4</th>\n",
       "      <td>e79de561c</td>\n",
       "      <td>470499 21 474544 23 478588 25 482632 28 486677...</td>\n",
       "    </tr>\n",
       "    <tr>\n",
       "      <th>5</th>\n",
       "      <td>095bf7a1f</td>\n",
       "      <td>7092936 6 7102474 35 7112013 39 7121551 44 713...</td>\n",
       "    </tr>\n",
       "    <tr>\n",
       "      <th>6</th>\n",
       "      <td>54f2eec69</td>\n",
       "      <td>7795325 37 7802932 41 7810540 44 7818147 49 78...</td>\n",
       "    </tr>\n",
       "    <tr>\n",
       "      <th>7</th>\n",
       "      <td>1e2425f28</td>\n",
       "      <td>3097395 8 3104086 17 3110776 26 3117470 30 312...</td>\n",
       "    </tr>\n",
       "  </tbody>\n",
       "</table>\n",
       "</div>"
      ],
      "text/plain": [
       "          id                                           encoding\n",
       "0  2f6ecfcdf  18509325 4 18509331 6 18517140 20 18524955 28 ...\n",
       "1  aaa6a05cc  1938681 15 1943301 19 1947920 24 1952540 28 19...\n",
       "2  cb2d976f4  4887497 1 4896226 11 4904955 21 4913684 31 492...\n",
       "3  0486052bb  6358179 2 6364624 4 6371069 7 6377513 10 63775...\n",
       "4  e79de561c  470499 21 474544 23 478588 25 482632 28 486677...\n",
       "5  095bf7a1f  7092936 6 7102474 35 7112013 39 7121551 44 713...\n",
       "6  54f2eec69  7795325 37 7802932 41 7810540 44 7818147 49 78...\n",
       "7  1e2425f28  3097395 8 3104086 17 3110776 26 3117470 30 312..."
      ]
     },
     "execution_count": 53,
     "metadata": {},
     "output_type": "execute_result"
    }
   ],
   "source": [
    "df_masks"
   ]
  },
  {
   "cell_type": "code",
   "execution_count": 55,
   "metadata": {},
   "outputs": [],
   "source": [
    "df_masks.to_csv(f\"../input/train_{FACTOR}.csv\", index=False)"
   ]
  }
 ],
 "metadata": {
  "kernelspec": {
   "display_name": "venv",
   "language": "python",
   "name": "venv"
  },
  "language_info": {
   "codemirror_mode": {
    "name": "ipython",
    "version": 3
   },
   "file_extension": ".py",
   "mimetype": "text/x-python",
   "name": "python",
   "nbconvert_exporter": "python",
   "pygments_lexer": "ipython3",
   "version": "3.8.5"
  }
 },
 "nbformat": 4,
 "nbformat_minor": 4
}
