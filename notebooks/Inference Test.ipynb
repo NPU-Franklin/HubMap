{
 "cells": [
  {
   "cell_type": "code",
   "execution_count": 1,
   "metadata": {},
   "outputs": [],
   "source": [
    "# %load_ext nb_black\n",
    "%load_ext autoreload\n",
    "%autoreload 2"
   ]
  },
  {
   "cell_type": "markdown",
   "metadata": {},
   "source": [
    "## Initialization"
   ]
  },
  {
   "cell_type": "markdown",
   "metadata": {},
   "source": [
    "### Imports"
   ]
  },
  {
   "cell_type": "code",
   "execution_count": 2,
   "metadata": {},
   "outputs": [],
   "source": [
    "import os\n",
    "import sys\n",
    "import json\n",
    "import torch\n",
    "import warnings\n",
    "import numpy as np\n",
    "import pandas as pd\n",
    "import seaborn as sns\n",
    "\n",
    "from tqdm.notebook import tqdm\n",
    "from matplotlib import pyplot as plt\n",
    "\n",
    "sys.path.append(\"../code/\")\n",
    "# warnings.simplefilter(\"ignore\", UserWarning)"
   ]
  },
  {
   "cell_type": "code",
   "execution_count": 3,
   "metadata": {},
   "outputs": [],
   "source": [
    "from params import *\n",
    "\n",
    "from inference.main_test import k_fold_inf_test\n",
    "\n",
    "from data.dataset import InferenceDataset\n",
    "from data.transforms import HE_preprocess"
   ]
  },
  {
   "cell_type": "markdown",
   "metadata": {},
   "source": [
    "### Inference"
   ]
  },
  {
   "cell_type": "code",
   "execution_count": 4,
   "metadata": {},
   "outputs": [],
   "source": [
    "# log_folder = \"../logs/2021-03-18/0/\"  # b5\n",
    "# log_folder = \"../logs/2021-03-26/3/\"  # b5 512\n",
    "# log_folder = \"../logs/2021-03-27/1/\"  # seresnext\n",
    "# log_folder = \"../logs/2021-03-28/1/\"  # b6\n",
    "\n",
    "# log_folder = \"../logs/2021-03-29/7/\"  # b5 + 10 ep\n",
    "# log_folder = \"../logs/2021-03-30/0/\"  # b5 + 20 ep\n",
    "\n",
    "# log_folder = \"../logs/2021-03-31/0/\"  # b4 512\n",
    "# log_folder = \"../logs/2021-04-01/2/\"  # bot unext\n",
    "# log_folder = \"../logs/2021-04-02/3/\"  # b6\n",
    "# log_folder = \"../logs/2021-04-04/1/\"  # b0\n",
    "log_folder = \"../logs/2021-04-05/4/\"  # b1\n",
    "# log_folder = \"../logs/2021-04-06/2/\"  # b1 512\n",
    "# log_folder = \"../logs/2021-04-08/2/\"  # b1 lovasz\n",
    "# log_folder = \"../logs/2021-04-08/5/\"  # b2 fp16\n",
    "# log_folder = \"../logs/2021-04-09/0/\"  # b2 fp32 (tbc)\n",
    "# log_folder = \"../logs/2021-04-09/12/\"  # ++b1\n",
    "# log_folder = \"../logs/2021-04-10/1/\"  # b1 fp16\n",
    "# log_folder = \"../logs/2021-04-10/3/\"  # b1 fp32 (repro)\n",
    "# log_folder = \"../logs/2021-04-10/4/\"  # b2 fp32\n",
    "\n",
    "# log_folder = \"../logs/2021-04-11/3/\"  # b1 2 512"
   ]
  },
  {
   "cell_type": "code",
   "execution_count": 5,
   "metadata": {},
   "outputs": [],
   "source": [
    "class Config:\n",
    "    def __init__(self, **entries):\n",
    "        self.__dict__.update(entries)\n",
    "\n",
    "config = json.load(open(log_folder + 'config.json', 'r'))\n",
    "config = Config(**config)"
   ]
  },
  {
   "cell_type": "code",
   "execution_count": 6,
   "metadata": {},
   "outputs": [],
   "source": [
    "# Fields not defined in old configs :\n",
    "try:\n",
    "    _ = config.tile_size\n",
    "except:\n",
    "    config.tile_size = 256\n",
    "    config.reduce_factor = 4\n",
    "    \n",
    "try:\n",
    "    _ = config.use_bot\n",
    "except:\n",
    "    config.use_bot = False\n",
    "    config.use_fpn = False\n",
    "    \n",
    "try:\n",
    "    _ = config.double_model\n",
    "except:\n",
    "    config.double_model = False"
   ]
  },
  {
   "cell_type": "code",
   "execution_count": 7,
   "metadata": {},
   "outputs": [],
   "source": [
    "df = pd.read_csv(DATA_PATH + \"sample_submission.csv\")"
   ]
  },
  {
   "cell_type": "code",
   "execution_count": 8,
   "metadata": {},
   "outputs": [],
   "source": [
    "config.overlap_factor = 1.5\n",
    "use_tta = False\n",
    "global_threshold = 0.4\n",
    "config.selected_folds = [0]\n",
    "save = True"
   ]
  },
  {
   "cell_type": "code",
   "execution_count": 9,
   "metadata": {
    "scrolled": false
   },
   "outputs": [
    {
     "name": "stdout",
     "output_type": "stream",
     "text": [
      "\n",
      "-------------   Fold 1 / 5  -------------\n",
      "\n",
      "\n",
      " -> Loading weights from ../logs/2021-04-05/4/Unet_efficientnet-b1_0.pt\n",
      "\n",
      " - Image 2ec3f1bb9\n",
      " - Image 3589adb90\n",
      " - Image d488c759a\n",
      " - Image aa05346ff\n",
      " - Image 57512b7f1\n",
      "CPU times: user 1min 10s, sys: 10.2 s, total: 1min 20s\n",
      "Wall time: 37.8 s\n"
     ]
    }
   ],
   "source": [
    "%%time\n",
    "scores = k_fold_inf_test(\n",
    "    config,\n",
    "    df,\n",
    "    log_folder=log_folder,\n",
    "    use_full_size=False,\n",
    "    global_threshold=global_threshold,\n",
    "    use_tta=use_tta,\n",
    "    save=save,\n",
    ")"
   ]
  }
 ],
 "metadata": {
  "kernelspec": {
   "display_name": "venv",
   "language": "python",
   "name": "venv"
  },
  "language_info": {
   "codemirror_mode": {
    "name": "ipython",
    "version": 3
   },
   "file_extension": ".py",
   "mimetype": "text/x-python",
   "name": "python",
   "nbconvert_exporter": "python",
   "pygments_lexer": "ipython3",
   "version": "3.8.5"
  }
 },
 "nbformat": 4,
 "nbformat_minor": 4
}
