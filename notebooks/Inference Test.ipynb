{
 "cells": [
  {
   "cell_type": "code",
   "execution_count": 1,
   "metadata": {},
   "outputs": [],
   "source": [
    "# %load_ext nb_black\n",
    "%load_ext autoreload\n",
    "%autoreload 2"
   ]
  },
  {
   "cell_type": "markdown",
   "metadata": {},
   "source": [
    "## Initialization"
   ]
  },
  {
   "cell_type": "markdown",
   "metadata": {},
   "source": [
    "### Imports"
   ]
  },
  {
   "cell_type": "code",
   "execution_count": 2,
   "metadata": {},
   "outputs": [],
   "source": [
    "import os\n",
    "import sys\n",
    "import json\n",
    "import torch\n",
    "import warnings\n",
    "import numpy as np\n",
    "import pandas as pd\n",
    "import seaborn as sns\n",
    "\n",
    "from tqdm.notebook import tqdm\n",
    "from matplotlib import pyplot as plt\n",
    "\n",
    "sys.path.append(\"../code/\")\n",
    "# warnings.simplefilter(\"ignore\", UserWarning)"
   ]
  },
  {
   "cell_type": "code",
   "execution_count": 3,
   "metadata": {},
   "outputs": [],
   "source": [
    "from params import *\n",
    "\n",
    "from inference.main_test import k_fold_inf_test\n",
    "\n",
    "from data.dataset import InferenceDataset\n",
    "from data.transforms import HE_preprocess"
   ]
  },
  {
   "cell_type": "markdown",
   "metadata": {},
   "source": [
    "### Inference"
   ]
  },
  {
   "cell_type": "code",
   "execution_count": 4,
   "metadata": {},
   "outputs": [],
   "source": [
    "log_folder = \"../output/ext_aug_effb2_512_2_094/\"  # 0.932\n",
    "\n",
    "# log_folder = \"../output/eff0_384_2_9401/\"  # smaller model"
   ]
  },
  {
   "cell_type": "code",
   "execution_count": 5,
   "metadata": {},
   "outputs": [],
   "source": [
    "class Config:\n",
    "    def __init__(self, **entries):\n",
    "        self.__dict__.update(entries)\n",
    "\n",
    "config = json.load(open(log_folder + 'config.json', 'r'))\n",
    "config = Config(**config)"
   ]
  },
  {
   "cell_type": "code",
   "execution_count": 6,
   "metadata": {},
   "outputs": [],
   "source": [
    "# Fields not defined in old configs :\n",
    "try:\n",
    "    _ = config.tile_size\n",
    "except:\n",
    "    config.tile_size = 256\n",
    "    config.reduce_factor = 4\n",
    "    \n",
    "try:\n",
    "    _ = config.use_bot\n",
    "except:\n",
    "    config.use_bot = False\n",
    "    config.use_fpn = False\n",
    "    \n",
    "try:\n",
    "    _ = config.double_model\n",
    "except:\n",
    "    config.double_model = False"
   ]
  },
  {
   "cell_type": "code",
   "execution_count": 7,
   "metadata": {},
   "outputs": [],
   "source": [
    "df = pd.read_csv(DATA_PATH + \"sample_submission.csv\")"
   ]
  },
  {
   "cell_type": "code",
   "execution_count": 8,
   "metadata": {},
   "outputs": [],
   "source": [
    "config.overlap_factor = 1.5\n",
    "use_tta = True\n",
    "global_threshold = 0.4\n",
    "config.selected_folds = [0, 1, 2, 3, 4]\n",
    "save = True"
   ]
  },
  {
   "cell_type": "code",
   "execution_count": 9,
   "metadata": {},
   "outputs": [],
   "source": [
    "images = df['id'].values.tolist() + [\"VAN0003-LK-32-21-PAS_registered.ome\", \"VAN0011-RK-3-10-PAS_registered.ome\"]"
   ]
  },
  {
   "cell_type": "code",
   "execution_count": 10,
   "metadata": {
    "scrolled": false
   },
   "outputs": [
    {
     "name": "stdout",
     "output_type": "stream",
     "text": [
      "\n",
      "-------------   Fold 1 / 5  -------------\n",
      "\n",
      "\n",
      " -> Loading weights from ../output/ext_aug_effb2_512_2_094/Unet_efficientnet-b2_0.pt\n",
      "\n",
      " - Image 2ec3f1bb9\n",
      " - Image 3589adb90\n",
      " - Image d488c759a\n",
      " - Image aa05346ff\n",
      " - Image 57512b7f1\n",
      " - Image VAN0003-LK-32-21-PAS_registered.ome\n",
      " - Image VAN0011-RK-3-10-PAS_registered.ome\n",
      "\n",
      "-------------   Fold 2 / 5  -------------\n",
      "\n",
      "\n",
      " -> Loading weights from ../output/ext_aug_effb2_512_2_094/Unet_efficientnet-b2_1.pt\n",
      "\n",
      " - Image 2ec3f1bb9\n",
      " - Image 3589adb90\n",
      " - Image d488c759a\n",
      " - Image aa05346ff\n",
      " - Image 57512b7f1\n",
      " - Image VAN0003-LK-32-21-PAS_registered.ome\n",
      " - Image VAN0011-RK-3-10-PAS_registered.ome\n",
      "\n",
      "-------------   Fold 3 / 5  -------------\n",
      "\n",
      "\n",
      " -> Loading weights from ../output/ext_aug_effb2_512_2_094/Unet_efficientnet-b2_2.pt\n",
      "\n",
      " - Image 2ec3f1bb9\n",
      " - Image 3589adb90\n",
      " - Image d488c759a\n",
      " - Image aa05346ff\n",
      " - Image 57512b7f1\n",
      " - Image VAN0003-LK-32-21-PAS_registered.ome\n",
      " - Image VAN0011-RK-3-10-PAS_registered.ome\n",
      "\n",
      "-------------   Fold 4 / 5  -------------\n",
      "\n",
      "\n",
      " -> Loading weights from ../output/ext_aug_effb2_512_2_094/Unet_efficientnet-b2_3.pt\n",
      "\n",
      " - Image 2ec3f1bb9\n",
      " - Image 3589adb90\n",
      " - Image d488c759a\n",
      " - Image aa05346ff\n",
      " - Image 57512b7f1\n",
      " - Image VAN0003-LK-32-21-PAS_registered.ome\n",
      " - Image VAN0011-RK-3-10-PAS_registered.ome\n",
      "\n",
      "-------------   Fold 5 / 5  -------------\n",
      "\n",
      "\n",
      " -> Loading weights from ../output/ext_aug_effb2_512_2_094/Unet_efficientnet-b2_4.pt\n",
      "\n",
      " - Image 2ec3f1bb9\n",
      " - Image 3589adb90\n",
      " - Image d488c759a\n",
      " - Image aa05346ff\n",
      " - Image 57512b7f1\n",
      " - Image VAN0003-LK-32-21-PAS_registered.ome\n",
      " - Image VAN0011-RK-3-10-PAS_registered.ome\n",
      "CPU times: user 1h 15min 55s, sys: 9min 32s, total: 1h 25min 27s\n",
      "Wall time: 1h 3min 36s\n"
     ]
    }
   ],
   "source": [
    "%%time\n",
    "scores = k_fold_inf_test(\n",
    "    config,\n",
    "    images,\n",
    "    log_folder=log_folder,\n",
    "    use_full_size=False,\n",
    "    global_threshold=global_threshold,\n",
    "    use_tta=use_tta,\n",
    "    save=save,\n",
    ")"
   ]
  }
 ],
 "metadata": {
  "kernelspec": {
   "display_name": "venv",
   "language": "python",
   "name": "venv"
  },
  "language_info": {
   "codemirror_mode": {
    "name": "ipython",
    "version": 3
   },
   "file_extension": ".py",
   "mimetype": "text/x-python",
   "name": "python",
   "nbconvert_exporter": "python",
   "pygments_lexer": "ipython3",
   "version": "3.8.5"
  }
 },
 "nbformat": 4,
 "nbformat_minor": 4
}
