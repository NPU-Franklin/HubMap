{
 "cells": [
  {
   "cell_type": "code",
   "execution_count": null,
   "metadata": {},
   "outputs": [],
   "source": [
    "%load_ext nb_black\n",
    "%load_ext autoreload\n",
    "%autoreload 2"
   ]
  },
  {
   "cell_type": "code",
   "execution_count": null,
   "metadata": {},
   "outputs": [],
   "source": [
    "import os\n",
    "import numpy as np\n",
    "import pandas as pd\n",
    "\n",
    "from torch.utils.data import Dataset, DataLoader\n",
    "\n",
    "import sys\n",
    "\n",
    "sys.path.append(\"../code/\")\n",
    "import glob\n",
    "from data.dataset import InMemoryTrainDataset\n",
    "\n",
    "from matplotlib import pyplot as plt"
   ]
  },
  {
   "cell_type": "code",
   "execution_count": null,
   "metadata": {
    "scrolled": true
   },
   "outputs": [],
   "source": [
    "TRAIN_SIZE = 256\n",
    "REDUCE_FACTOR = 4\n",
    "\n",
    "df_rle = pd.read_csv(f\"../input/train_{REDUCE_FACTOR}.csv\")"
   ]
  },
  {
   "cell_type": "code",
   "execution_count": null,
   "metadata": {},
   "outputs": [],
   "source": [
    "train_img_names = df_rle.id.unique()"
   ]
  },
  {
   "cell_type": "code",
   "execution_count": null,
   "metadata": {},
   "outputs": [],
   "source": [
    "from data.transforms import HE_preprocess\n",
    "\n",
    "viz_ds = InMemoryTrainDataset(\n",
    "    train_img_names[:5],\n",
    "    df_rle,\n",
    "    train_tile_size=TRAIN_SIZE,\n",
    "    reduce_factor=REDUCE_FACTOR,\n",
    "    train_transfo=HE_preprocess(augment=True, visualize=True, size=TRAIN_SIZE),\n",
    "    valid_transfo=HE_preprocess(augment=False, visualize=True, size=TRAIN_SIZE),\n",
    "    train_path=f\"../input/train_{REDUCE_FACTOR}/\",\n",
    "    iter_per_epoch=100,\n",
    "    sampling_mode=\"centered\",  # TODO 'convhull',\n",
    "    use_external=0.2,  # None, #0.2,\n",
    "    on_spot_sampling=1,  # 0.99\n",
    "    oof_folder=\"../logs/2021-04-05/4/\",\n",
    ")"
   ]
  },
  {
   "cell_type": "code",
   "execution_count": null,
   "metadata": {},
   "outputs": [],
   "source": [
    "img, mask, oof_pred = viz_ds[10]\n",
    "\n",
    "plt.figure(figsize=(15, 5))\n",
    "plt.subplot(1, 2, 1)\n",
    "plt.imshow(mask)\n",
    "plt.subplot(1, 2, 2)\n",
    "plt.imshow(oof_pred)\n",
    "\n",
    "plt.show()"
   ]
  },
  {
   "cell_type": "code",
   "execution_count": null,
   "metadata": {},
   "outputs": [],
   "source": [
    "# viz_ds.iter_per_epoch = 1000\n",
    "# viz_ds.on_spot_sampling = 0.2\n",
    "# viz_ds.sampling_mode='centered' # 'visible'\n",
    "# viz_ds.train_tile_size=512\n",
    "# viz_ds.train_transfo = HE_preprocess(augment=True, visualize=True, size=512)\n",
    "# viz_ds.valid_transfo = HE_preprocess(augment=False, visualize=True, size=512)\n",
    "# viz_ds.train(True)"
   ]
  },
  {
   "cell_type": "code",
   "execution_count": null,
   "metadata": {},
   "outputs": [],
   "source": [
    "from utils.plots import plot_contours\n",
    "\n",
    "viz_dl = DataLoader(viz_ds, batch_size=64, shuffle=True)\n",
    "imgs, masks, oof = next(iter(viz_dl))\n",
    "\n",
    "plt.figure(figsize=(16, 16))\n",
    "for i, (img, mask) in enumerate(zip(imgs, masks)):\n",
    "    img = img.permute(1, 2, 0).numpy()  # .astype(np.uint8)\n",
    "    plt.subplot(8, 8, i + 1)\n",
    "\n",
    "    plot_contours(img.copy(), mask.numpy(), w=2)\n",
    "    plt.axis(\"off\")\n",
    "    plt.subplots_adjust(wspace=None, hspace=None)"
   ]
  },
  {
   "cell_type": "code",
   "execution_count": null,
   "metadata": {},
   "outputs": [],
   "source": [
    "viz_ds.train(False)"
   ]
  },
  {
   "cell_type": "code",
   "execution_count": null,
   "metadata": {
    "scrolled": false
   },
   "outputs": [],
   "source": [
    "from utils.plots import plot_contours\n",
    "\n",
    "viz_dl = DataLoader(viz_ds, batch_size=64, shuffle=True)\n",
    "imgs, masks, _ = next(iter(viz_dl))\n",
    "\n",
    "plt.figure(figsize=(16, 16))\n",
    "for i, (img, mask) in enumerate(zip(imgs, masks)):\n",
    "    img = img.permute(1, 2, 0).numpy()  # .astype(np.uint8)\n",
    "    plt.subplot(8, 8, i + 1)\n",
    "\n",
    "    plot_contours(img.copy(), mask.numpy(), w=2)\n",
    "    plt.axis(\"off\")\n",
    "    plt.subplots_adjust(wspace=None, hspace=None)\n",
    "print(img.shape)"
   ]
  },
  {
   "cell_type": "code",
   "execution_count": null,
   "metadata": {},
   "outputs": [],
   "source": []
  }
 ],
 "metadata": {
  "kernelspec": {
   "display_name": "venv",
   "language": "python",
   "name": "venv"
  },
  "language_info": {
   "codemirror_mode": {
    "name": "ipython",
    "version": 3
   },
   "file_extension": ".py",
   "mimetype": "text/x-python",
   "name": "python",
   "nbconvert_exporter": "python",
   "pygments_lexer": "ipython3",
   "version": "3.8.5"
  }
 },
 "nbformat": 4,
 "nbformat_minor": 4
}
