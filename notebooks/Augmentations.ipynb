{
 "cells": [
  {
   "cell_type": "code",
   "execution_count": null,
   "metadata": {},
   "outputs": [],
   "source": [
    "import os\n",
    "import numpy as np\n",
    "import pandas as pd\n",
    "\n",
    "from torch.utils.data import Dataset, DataLoader\n",
    "\n",
    "import sys\n",
    "sys.path.append('../code/')\n",
    "import glob\n",
    "from data.dataset import InMemoryTrainDataset\n",
    "\n",
    "from matplotlib import pyplot as plt"
   ]
  },
  {
   "cell_type": "code",
   "execution_count": null,
   "metadata": {
    "scrolled": true
   },
   "outputs": [],
   "source": [
    "df_rle = pd.read_csv('../input/train.csv')"
   ]
  },
  {
   "cell_type": "code",
   "execution_count": null,
   "metadata": {},
   "outputs": [],
   "source": [
    "train_img_names = df_rle.id.unique()"
   ]
  },
  {
   "cell_type": "code",
   "execution_count": null,
   "metadata": {},
   "outputs": [],
   "source": [
    "from data.transforms import HE_preprocess\n",
    "TRAIN_SIZE = 256\n",
    "viz_ds = InMemoryTrainDataset(train_img_names[:5],\n",
    "                              df_rle,\n",
    "                              train_tile_size=TRAIN_SIZE,\n",
    "                              reduce_factor=4,\n",
    "                              train_transfo=HE_preprocess(augment=True, visualize=True, size=TRAIN_SIZE),\n",
    "                              valid_transfo=HE_preprocess(augment=False, visualize=True, size=TRAIN_SIZE),\n",
    "                              train_path=\"../input/train/\",\n",
    "                              iter_per_epoch=100,\n",
    "                              sampling_mode='centered',\n",
    "                              use_external=None, #None, #0.2,\n",
    "                              on_spot_sampling=0.99)"
   ]
  },
  {
   "cell_type": "code",
   "execution_count": null,
   "metadata": {},
   "outputs": [],
   "source": [
    "# viz_ds.iter_per_epoch = 1000\n",
    "# viz_ds.on_spot_sampling = 0.2\n",
    "# viz_ds.sampling_mode='centered' # 'visible'\n",
    "# viz_ds.train_tile_size=512\n",
    "# viz_ds.train_transfo = HE_preprocess(augment=True, visualize=True, size=512)\n",
    "# viz_ds.valid_transfo = HE_preprocess(augment=False, visualize=True, size=512)\n",
    "# viz_ds.train(True)"
   ]
  },
  {
   "cell_type": "code",
   "execution_count": null,
   "metadata": {
    "scrolled": false
   },
   "outputs": [],
   "source": [
    "from utils.plots import plot_contours\n",
    "\n",
    "viz_dl = DataLoader(viz_ds, batch_size=64, shuffle=True)\n",
    "imgs, masks = next(iter(viz_dl))\n",
    "\n",
    "plt.figure(figsize=(16, 16))\n",
    "for i, (img, mask) in enumerate(zip(imgs, masks)):\n",
    "    img = img.permute(1, 2, 0).numpy()  # .astype(np.uint8)\n",
    "    plt.subplot(8, 8, i + 1)\n",
    "    \n",
    "    plot_contours(img.copy(), mask.numpy(), w=2)\n",
    "    plt.axis(\"off\")\n",
    "    plt.subplots_adjust(wspace=None, hspace=None)\n",
    "print(img.shape)"
   ]
  },
  {
   "cell_type": "code",
   "execution_count": null,
   "metadata": {},
   "outputs": [],
   "source": [
    "viz_ds.train(False)"
   ]
  },
  {
   "cell_type": "code",
   "execution_count": null,
   "metadata": {
    "scrolled": false
   },
   "outputs": [],
   "source": [
    "from utils.plots import plot_contours\n",
    "\n",
    "viz_dl = DataLoader(viz_ds, batch_size=64, shuffle=True)\n",
    "imgs, masks = next(iter(viz_dl))\n",
    "\n",
    "plt.figure(figsize=(16, 16))\n",
    "for i, (img, mask) in enumerate(zip(imgs, masks)):\n",
    "    img = img.permute(1, 2, 0).numpy()  # .astype(np.uint8)\n",
    "    plt.subplot(8, 8, i + 1)\n",
    "    \n",
    "    plot_contours(img.copy(), mask.numpy(), w=2)\n",
    "    plt.axis(\"off\")\n",
    "    plt.subplots_adjust(wspace=None, hspace=None)\n",
    "print(img.shape)"
   ]
  }
 ],
 "metadata": {
  "kernelspec": {
   "display_name": "Python 3",
   "language": "python",
   "name": "python3"
  },
  "language_info": {
   "codemirror_mode": {
    "name": "ipython",
    "version": 3
   },
   "file_extension": ".py",
   "mimetype": "text/x-python",
   "name": "python",
   "nbconvert_exporter": "python",
   "pygments_lexer": "ipython3",
   "version": "3.7.6"
  }
 },
 "nbformat": 4,
 "nbformat_minor": 4
}
