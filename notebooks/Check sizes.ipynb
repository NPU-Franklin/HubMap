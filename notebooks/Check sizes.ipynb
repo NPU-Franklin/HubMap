{
 "cells": [
  {
   "cell_type": "code",
   "execution_count": null,
   "metadata": {},
   "outputs": [],
   "source": [
    "# %load_ext nb_black\n",
    "%load_ext autoreload\n",
    "%autoreload 2"
   ]
  },
  {
   "cell_type": "markdown",
   "metadata": {},
   "source": [
    "## Initialization"
   ]
  },
  {
   "cell_type": "markdown",
   "metadata": {},
   "source": [
    "### Imports"
   ]
  },
  {
   "cell_type": "code",
   "execution_count": null,
   "metadata": {},
   "outputs": [],
   "source": [
    "import os\n",
    "import sys\n",
    "import cv2\n",
    "import json\n",
    "import glob\n",
    "import torch\n",
    "import tifffile\n",
    "import numpy as np\n",
    "import pandas as pd\n",
    "import seaborn as sns\n",
    "import plotly.express as px\n",
    "\n",
    "from tqdm.notebook import tqdm\n",
    "from collections import Counter\n",
    "from matplotlib import pyplot as plt\n",
    "from scipy.ndimage import gaussian_filter\n",
    "\n",
    "sys.path.append(\"../code/\")"
   ]
  },
  {
   "cell_type": "code",
   "execution_count": null,
   "metadata": {},
   "outputs": [],
   "source": [
    "from params import *\n",
    "from utils.rle import *\n",
    "\n",
    "from data.dataset import load_image\n",
    "\n",
    "from utils.metrics import dice_scores_img\n",
    "from utils.plots import plot_heatmap_preds, plot_contours_preds"
   ]
  },
  {
   "cell_type": "markdown",
   "metadata": {},
   "source": [
    "### Load"
   ]
  },
  {
   "cell_type": "code",
   "execution_count": null,
   "metadata": {},
   "outputs": [],
   "source": [
    "df_info = pd.read_csv(DATA_PATH + f\"HuBMAP-20-dataset_information.csv\")"
   ]
  },
  {
   "cell_type": "markdown",
   "metadata": {},
   "source": [
    "### Data"
   ]
  },
  {
   "cell_type": "code",
   "execution_count": null,
   "metadata": {},
   "outputs": [],
   "source": [
    "DATA_PATH"
   ]
  },
  {
   "cell_type": "code",
   "execution_count": null,
   "metadata": {},
   "outputs": [],
   "source": [
    "root = TIFF_PATH\n",
    "rle_path = DATA_PATH + \"train_2_fix.csv\"\n",
    "reduce_factor = 2\n",
    "df_mask = pd.read_csv(rle_path)"
   ]
  },
  {
   "cell_type": "markdown",
   "metadata": {},
   "source": [
    "## Train viz"
   ]
  },
  {
   "cell_type": "code",
   "execution_count": null,
   "metadata": {},
   "outputs": [],
   "source": [
    "THRESHOLD = 0.5"
   ]
  },
  {
   "cell_type": "code",
   "execution_count": null,
   "metadata": {},
   "outputs": [],
   "source": [
    "mask_name = \"afa5e8098\" "
   ]
  },
  {
   "cell_type": "code",
   "execution_count": null,
   "metadata": {},
   "outputs": [],
   "source": [
    "img = load_image(os.path.join(TIFF_PATH_2, mask_name + \".tiff\"), full_size=False, reduce_factor=2)"
   ]
  },
  {
   "cell_type": "code",
   "execution_count": null,
   "metadata": {},
   "outputs": [],
   "source": [
    "rle = df_mask[df_mask['id'] == mask_name]['encoding']\n",
    "mask = enc2mask(rle, (img.shape[1], img.shape[0]))"
   ]
  },
  {
   "cell_type": "code",
   "execution_count": null,
   "metadata": {},
   "outputs": [],
   "source": [
    "plt.figure(figsize=(15, 15))\n",
    "plt.imshow(img[3000: 5000, 3000: 5000])\n",
    "plt.show()"
   ]
  },
  {
   "cell_type": "markdown",
   "metadata": {},
   "source": [
    "## Extra data"
   ]
  },
  {
   "cell_type": "code",
   "execution_count": null,
   "metadata": {},
   "outputs": [],
   "source": [
    "df_extra = pd.read_csv('../input/train_extra.csv').set_index('id')\n",
    "DATA_PATH_EXTRA = DATA_PATH + \"extra_tiff/\""
   ]
  },
  {
   "cell_type": "code",
   "execution_count": null,
   "metadata": {},
   "outputs": [],
   "source": [
    "name = \"SAS_21908_001\""
   ]
  },
  {
   "cell_type": "code",
   "execution_count": null,
   "metadata": {
    "scrolled": true
   },
   "outputs": [],
   "source": [
    "rle = df_extra.loc[name]"
   ]
  },
  {
   "cell_type": "code",
   "execution_count": null,
   "metadata": {},
   "outputs": [],
   "source": [
    "img = tifffile.imread(DATA_PATH_EXTRA + name + \".tiff\").squeeze()"
   ]
  },
  {
   "cell_type": "code",
   "execution_count": null,
   "metadata": {},
   "outputs": [],
   "source": [
    "mask = enc2mask(rle, img.shape[:2][::-1])"
   ]
  },
  {
   "cell_type": "code",
   "execution_count": null,
   "metadata": {},
   "outputs": [],
   "source": [
    "img.shape"
   ]
  },
  {
   "cell_type": "code",
   "execution_count": null,
   "metadata": {},
   "outputs": [],
   "source": [
    "plt.figure(figsize=(15, 15))\n",
    "plt.imshow(img[8000: 10000, 1000: 3000])\n",
    "plt.show()"
   ]
  },
  {
   "cell_type": "markdown",
   "metadata": {},
   "source": [
    "## New extra data"
   ]
  },
  {
   "cell_type": "code",
   "execution_count": null,
   "metadata": {},
   "outputs": [],
   "source": [
    "ZENODO_PATH = \"../input/zenodo/\"\n",
    "FACTOR = 2\n",
    "ANNOT_PATH = DATA_PATH + \"annotation_v3/\""
   ]
  },
  {
   "cell_type": "code",
   "execution_count": null,
   "metadata": {},
   "outputs": [],
   "source": [
    "imgs = [p[:-4] for p in os.listdir(ZENODO_PATH) if p.endswith(\".png\") and \"mask\" not in p]"
   ]
  },
  {
   "cell_type": "code",
   "execution_count": null,
   "metadata": {},
   "outputs": [],
   "source": [
    "SAVE = True\n",
    "\n",
    "out_dir = \"../input/zenodo_2/\"\n",
    "if not os.path.exists(out_dir):\n",
    "    os.mkdir(out_dir)"
   ]
  },
  {
   "cell_type": "code",
   "execution_count": null,
   "metadata": {
    "scrolled": true
   },
   "outputs": [],
   "source": [
    "for img_name in tqdm(imgs):\n",
    "    print(f' -> {img_name}')\n",
    "    \n",
    "    img = cv2.imread(ZENODO_PATH + img_name + \".png\")\n",
    "    img = cv2.cvtColor(img, cv2.COLOR_BGR2RGB)\n",
    "\n",
    "    mask = cv2.imread(ZENODO_PATH + img_name + \"_mask.png\")    \n",
    "    \n",
    "\n",
    "    if img_name + \".json\" in os.listdir(ANNOT_PATH):        \n",
    "        mask_add_fc = np.zeros(mask.shape[:2], dtype=np.uint8)\n",
    "        mask_add_g = np.zeros(mask.shape[:2], dtype=np.uint8)\n",
    "        annot = json.load(open(ANNOT_PATH + img_name + \".json\", 'r'))\n",
    "        added = 0\n",
    "        \n",
    "        for info in annot:\n",
    "            try:\n",
    "                label = info['properties']['classification']['name']\n",
    "            except:\n",
    "                print('Label missing')  # was a FC\n",
    "                label = \"FC\"\n",
    "            poly = info['geometry']['coordinates']\n",
    "            \n",
    "            if label == \"FC\":\n",
    "                try:\n",
    "                    mask_add_fc = cv2.fillPoly(mask_add_fc, np.int32([poly]), True)\n",
    "                except ValueError:\n",
    "                    poly = np.concatenate([np.array(poly[i]).squeeze() for i in range(len(poly))])\n",
    "                    mask_add_fc = cv2.fillPoly(mask_add_fc, np.int32([poly]), True)\n",
    "            else:\n",
    "                try:\n",
    "                    mask_add_g = cv2.fillPoly(mask_add_g, np.int32([poly]), True)\n",
    "                except ValueError:\n",
    "                    poly = np.concatenate([np.array(poly[i]).squeeze() for i in range(len(poly))])\n",
    "                    mask_add_g = cv2.fillPoly(mask_add_g, np.int32([poly]), True)\n",
    "            \n",
    "\n",
    "            added += 1\n",
    "            \n",
    "#         plt.figure(figsize=(15, 15))\n",
    "#         plt.imshow(mask_add_g)\n",
    "#         plt.show()\n",
    "\n",
    "        mask[:, :, 1] += mask_add_g * 255\n",
    "        mask[:, :, 2] += mask_add_fc * 255\n",
    "    \n",
    "        print(f\"Added {added} glomerulis\")\n",
    "    \n",
    "    img = cv2.resize(\n",
    "        img,\n",
    "        (img.shape[1] // FACTOR, img.shape[0] // FACTOR),\n",
    "        interpolation=cv2.INTER_AREA,\n",
    "    )\n",
    "    mask = cv2.resize(\n",
    "        mask,\n",
    "        (mask.shape[1] // FACTOR, mask.shape[0] // FACTOR),\n",
    "        interpolation=cv2.INTER_NEAREST,\n",
    "    )\n",
    "    \n",
    "    mask = (mask[:, :, 1] // 255 + mask[:, :, 2] // 255 * 2).astype(np.uint8)\n",
    "    \n",
    "    if SAVE:\n",
    "        cv2.imwrite(out_dir + img_name + \".png\", img)\n",
    "        np.save(out_dir + img_name + \"_mask.npy\", mask)\n",
    "    \n",
    "    contours_preds, _ = cv2.findContours(mask, cv2.RETR_LIST, cv2.CHAIN_APPROX_NONE)\n",
    "    cv2.polylines(img, contours_preds, True, (0.0, 255, 0.0), 2)\n",
    "    \n",
    "    plt.figure(figsize=(15, 15))\n",
    "    plt.imshow(img)\n",
    "    plt.show()\n",
    "\n",
    "#     break\n",
    "    "
   ]
  },
  {
   "cell_type": "code",
   "execution_count": null,
   "metadata": {},
   "outputs": [],
   "source": [
    "ZENODO_PATH = \"../input/zenodo_2/\"\n",
    "imgs = [p[:-4] for p in os.listdir(ZENODO_PATH) if p.endswith(\".png\") and \"mask\" not in p]"
   ]
  },
  {
   "cell_type": "code",
   "execution_count": null,
   "metadata": {
    "scrolled": true
   },
   "outputs": [],
   "source": [
    "for img_name in tqdm(imgs):\n",
    "    print(f' -> {img_name}')\n",
    "    \n",
    "    img = cv2.imread(ZENODO_PATH + img_name + \".png\")\n",
    "    mask = np.load(ZENODO_PATH + img_name + \"_mask.npy\")\n",
    "\n",
    "    contours_preds, _ = cv2.findContours((mask == 1).astype(np.uint8), cv2.RETR_LIST, cv2.CHAIN_APPROX_NONE)\n",
    "    cv2.polylines(img, contours_preds, True, (0.0, 255, 0.0), 2)\n",
    "    contours_preds, _ = cv2.findContours((mask == 2).astype(np.uint8), cv2.RETR_LIST, cv2.CHAIN_APPROX_NONE)\n",
    "    cv2.polylines(img, contours_preds, True, (0.0, 0,255), 2)\n",
    "    \n",
    "    \n",
    "    plt.figure(figsize=(15, 15))\n",
    "    plt.imshow(img)\n",
    "    plt.show()\n",
    "    \n",
    "#     break"
   ]
  }
 ],
 "metadata": {
  "kernelspec": {
   "display_name": "venv",
   "language": "python",
   "name": "venv"
  },
  "language_info": {
   "codemirror_mode": {
    "name": "ipython",
    "version": 3
   },
   "file_extension": ".py",
   "mimetype": "text/x-python",
   "name": "python",
   "nbconvert_exporter": "python",
   "pygments_lexer": "ipython3",
   "version": "3.8.5"
  }
 },
 "nbformat": 4,
 "nbformat_minor": 4
}
