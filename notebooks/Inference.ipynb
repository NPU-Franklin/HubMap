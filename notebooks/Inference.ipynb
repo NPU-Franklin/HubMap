{
 "cells": [
  {
   "cell_type": "code",
   "execution_count": null,
   "metadata": {},
   "outputs": [],
   "source": [
    "# %load_ext nb_black\n",
    "%load_ext autoreload\n",
    "%autoreload 2"
   ]
  },
  {
   "cell_type": "markdown",
   "metadata": {},
   "source": [
    "## Initialization"
   ]
  },
  {
   "cell_type": "markdown",
   "metadata": {},
   "source": [
    "### Imports"
   ]
  },
  {
   "cell_type": "code",
   "execution_count": null,
   "metadata": {},
   "outputs": [],
   "source": [
    "import os\n",
    "import sys\n",
    "import json\n",
    "import torch\n",
    "import warnings\n",
    "import numpy as np\n",
    "import pandas as pd\n",
    "\n",
    "from tqdm.notebook import tqdm\n",
    "from matplotlib import pyplot as plt\n",
    "\n",
    "sys.path.append(\"../code/\")\n",
    "# warnings.simplefilter(\"ignore\", UserWarning)"
   ]
  },
  {
   "cell_type": "code",
   "execution_count": null,
   "metadata": {},
   "outputs": [],
   "source": [
    "from params import *\n",
    "\n",
    "from inference.main import k_fold_inf\n",
    "\n",
    "from data.dataset import InferenceDataset\n",
    "from data.transforms import HE_preprocess"
   ]
  },
  {
   "cell_type": "markdown",
   "metadata": {},
   "source": [
    "### Load"
   ]
  },
  {
   "cell_type": "code",
   "execution_count": null,
   "metadata": {},
   "outputs": [],
   "source": [
    "df_info = pd.read_csv(DATA_PATH + f\"HuBMAP-20-dataset_information.csv\")\n",
    "df_mask = pd.read_csv(DATA_PATH + \"train.csv\")\n",
    "\n",
    "\n",
    "df = pd.read_csv(OUT_PATH + f\"df_images_{256}_{4}.csv\")"
   ]
  },
  {
   "cell_type": "code",
   "execution_count": null,
   "metadata": {},
   "outputs": [],
   "source": [
    "folds = df[\"5fold\"].unique()\n",
    "\n",
    "for i, fold in enumerate(folds):\n",
    "    df_val = df[df[\"5fold\"] == fold].reset_index()\n",
    "    val_images = df_val[\"tile_name\"].apply(lambda x: x.split(\"_\")[0]).unique()\n",
    "    print(val_images)"
   ]
  },
  {
   "cell_type": "markdown",
   "metadata": {},
   "source": [
    "### Data"
   ]
  },
  {
   "cell_type": "code",
   "execution_count": null,
   "metadata": {},
   "outputs": [],
   "source": [
    "root = TIFF_PATH_4\n",
    "rle_path = DATA_PATH + \"train_4.csv\"\n",
    "reduce_factor = 1\n",
    "rles = pd.read_csv(rle_path)"
   ]
  },
  {
   "cell_type": "code",
   "execution_count": null,
   "metadata": {},
   "outputs": [],
   "source": [
    "img = \"2f6ecfcdf\" # \"aaa6a05cc\""
   ]
  },
  {
   "cell_type": "code",
   "execution_count": null,
   "metadata": {},
   "outputs": [],
   "source": [
    "dataset = InferenceDataset(\n",
    "    f\"{root}/{img}.tiff\",\n",
    "    rle=rles[rles['id'] == img][\"encoding\"],\n",
    "    overlap_factor=2,\n",
    "    reduce_factor=reduce_factor,\n",
    "    tile_size=256,\n",
    "    transforms=HE_preprocess(augment=False, visualize=True),\n",
    ")"
   ]
  },
  {
   "cell_type": "code",
   "execution_count": null,
   "metadata": {},
   "outputs": [],
   "source": [
    "img, pos = dataset[len(dataset) // 3]\n",
    "\n",
    "plt.imshow(img.numpy().transpose(1, 2, 0))\n",
    "plt.show()"
   ]
  },
  {
   "cell_type": "markdown",
   "metadata": {},
   "source": [
    "### Inference"
   ]
  },
  {
   "cell_type": "code",
   "execution_count": null,
   "metadata": {},
   "outputs": [],
   "source": [
    "# log_folder = \"../logs/2021-03-18/0/\"  # b5\n",
    "# log_folder = \"../logs/2021-03-26/3/\"  # b5 512\n",
    "# log_folder = \"../logs/2021-03-27/1/\"  # seresnext\n",
    "# log_folder = \"../logs/2021-03-28/1/\"  # b6\n",
    "\n",
    "# log_folder = \"../logs/2021-03-29/7/\"  # b5 + 10 ep\n",
    "# log_folder = \"../logs/2021-03-30/0/\"  # b5 + 20 ep\n",
    "\n",
    "# log_folder = \"../logs/2021-03-31/0/\"  # b4 512\n",
    "# log_folder = \"../logs/2021-04-01/2/\"  # bot unext\n",
    "# log_folder = \"../logs/2021-04-02/3/\"  # b6\n",
    "log_folder = \"../logs/2021-04-04/1/\"  # b0\n",
    "log_folder = \"../logs/2021-04-05/4/\"  # b1"
   ]
  },
  {
   "cell_type": "code",
   "execution_count": null,
   "metadata": {},
   "outputs": [],
   "source": [
    "class Config:\n",
    "    def __init__(self, **entries):\n",
    "        self.__dict__.update(entries)\n",
    "\n",
    "config = json.load(open(log_folder + 'config.json', 'r'))\n",
    "config = Config(**config)"
   ]
  },
  {
   "cell_type": "code",
   "execution_count": null,
   "metadata": {},
   "outputs": [],
   "source": [
    "# Fields not defined in old configs :\n",
    "try:\n",
    "    _ = config.tile_size\n",
    "except:\n",
    "    config.tile_size = 256\n",
    "    config.reduce_factor = 4\n",
    "    \n",
    "try:\n",
    "    _ = config.use_bot\n",
    "except:\n",
    "    config.use_bot = False\n",
    "    config.use_fpn = False\n",
    "    \n",
    "try:\n",
    "    _ = config.double_model\n",
    "except:\n",
    "    config.double_model = False"
   ]
  },
  {
   "cell_type": "code",
   "execution_count": null,
   "metadata": {
    "scrolled": true
   },
   "outputs": [],
   "source": [
    "df = pd.read_csv(OUT_PATH + f\"df_images_{config.tile_size}_{config.reduce_factor}.csv\")"
   ]
  },
  {
   "cell_type": "code",
   "execution_count": null,
   "metadata": {},
   "outputs": [],
   "source": [
    "config.overlap_factor = 1.5\n",
    "use_tta = False\n",
    "global_threshold = 0.4"
   ]
  },
  {
   "cell_type": "code",
   "execution_count": null,
   "metadata": {
    "scrolled": false
   },
   "outputs": [],
   "source": [
    "%%time\n",
    "scores = k_fold_inf(\n",
    "    config,\n",
    "    df,\n",
    "    log_folder=log_folder,\n",
    "    use_full_size=False,\n",
    "    global_threshold=global_threshold,\n",
    "    use_tta=use_tta,\n",
    "    save=False,\n",
    ")"
   ]
  },
  {
   "cell_type": "code",
   "execution_count": null,
   "metadata": {
    "scrolled": false
   },
   "outputs": [],
   "source": [
    "print(f'Local CV score is {np.mean(scores):.4f} for threshold {global_threshold}')   # 1.5 tta"
   ]
  },
  {
   "cell_type": "code",
   "execution_count": null,
   "metadata": {
    "scrolled": false
   },
   "outputs": [],
   "source": [
    "print(f'Local CV score is {np.mean(scores):.4f} for threshold {global_threshold}')   # 1.5"
   ]
  }
 ],
 "metadata": {
  "kernelspec": {
   "display_name": "venv",
   "language": "python",
   "name": "venv"
  },
  "language_info": {
   "codemirror_mode": {
    "name": "ipython",
    "version": 3
   },
   "file_extension": ".py",
   "mimetype": "text/x-python",
   "name": "python",
   "nbconvert_exporter": "python",
   "pygments_lexer": "ipython3",
   "version": "3.8.5"
  }
 },
 "nbformat": 4,
 "nbformat_minor": 4
}
