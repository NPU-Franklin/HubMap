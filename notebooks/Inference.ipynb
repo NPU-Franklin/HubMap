{
 "cells": [
  {
   "cell_type": "code",
   "execution_count": 2,
   "metadata": {},
   "outputs": [],
   "source": [
    "# %load_ext nb_black\n",
    "%load_ext autoreload\n",
    "%autoreload 2"
   ]
  },
  {
   "cell_type": "markdown",
   "metadata": {},
   "source": [
    "## Initialization"
   ]
  },
  {
   "cell_type": "markdown",
   "metadata": {},
   "source": [
    "### Imports"
   ]
  },
  {
   "cell_type": "code",
   "execution_count": 3,
   "metadata": {},
   "outputs": [],
   "source": [
    "import os\n",
    "import sys\n",
    "import cv2\n",
    "import json\n",
    "import torch\n",
    "import zipfile\n",
    "import numpy as np\n",
    "import pandas as pd\n",
    "import plotly.express as px\n",
    "\n",
    "from tqdm.notebook import tqdm\n",
    "from matplotlib import pyplot as plt\n",
    "from torch.utils.data import DataLoader\n",
    "\n",
    "sys.path.append(\"../code/\")"
   ]
  },
  {
   "cell_type": "code",
   "execution_count": 11,
   "metadata": {},
   "outputs": [],
   "source": [
    "from params import *\n",
    "\n",
    "from training.main import validate\n",
    "from model_zoo.models import define_model\n",
    "from utils.torch import load_model_weights"
   ]
  },
  {
   "cell_type": "markdown",
   "metadata": {},
   "source": [
    "### Load"
   ]
  },
  {
   "cell_type": "code",
   "execution_count": 5,
   "metadata": {},
   "outputs": [],
   "source": [
    "df_info = pd.read_csv(DATA_PATH + f\"HuBMAP-20-dataset_information.csv\")\n",
    "df_mask = pd.read_csv(DATA_PATH + \"train.csv\")\n",
    "df = pd.read_csv(OUT_PATH + \"df_images.csv\")"
   ]
  },
  {
   "cell_type": "code",
   "execution_count": 7,
   "metadata": {},
   "outputs": [],
   "source": [
    "def k_fold_inf(config, df, log_folder=None, use_full_size=True):\n",
    "    \"\"\"\n",
    "    Performs a patient grouped k-fold cross validation.\n",
    "    The following things are saved to the log folder : val predictions, val indices, histories\n",
    "\n",
    "    Args:\n",
    "        config (Config): Parameters.\n",
    "        df (pandas dataframe): Metadata.\n",
    "        log_folder (None or str, optional): Folder to logs results to. Defaults to None.\n",
    "    \"\"\"\n",
    "    folds = df[config.cv_column].unique()\n",
    "    cvs = []\n",
    "\n",
    "    for i, fold in enumerate(folds):\n",
    "        if i in config.selected_folds:\n",
    "            print(f\"\\n-------------   Fold {i + 1} / {len(folds)}  -------------\\n\")\n",
    "            df_val = df[df[config.cv_column] == fold].reset_index()\n",
    "            \n",
    "            val_images = df_val[\"tile_name\"].apply(lambda x: x.split(\"_\")[0]).unique()\n",
    "\n",
    "            model = define_model(\n",
    "                config.decoder,\n",
    "                config.encoder,\n",
    "                num_classes=config.num_classes,\n",
    "                encoder_weights=config.encoder_weights,\n",
    "            ).to(config.device)\n",
    "            model.zero_grad()\n",
    "            \n",
    "            load_model_weights(model, log_folder + f\"{config.decoder}_{config.encoder}_{i}.pt\")\n",
    "            \n",
    "            scores, thresholds = validate(\n",
    "                model,\n",
    "                config,\n",
    "                val_images,\n",
    "                log_folder=log_folder,\n",
    "                use_full_size=use_full_size,\n",
    "            )"
   ]
  },
  {
   "cell_type": "code",
   "execution_count": 8,
   "metadata": {},
   "outputs": [],
   "source": [
    "# log_folder = \"../logs/2020-12-21/3/\"  # se_resnext50\n",
    "# log_folder = \"../logs/2020-12-22/9/\"  # b4\n",
    "log_folder = \"../logs/2020-12-22/10/\"  # b5 \n",
    "# log_folder = \"../logs/2020-12-23/2/\"  # b6"
   ]
  },
  {
   "cell_type": "code",
   "execution_count": 9,
   "metadata": {},
   "outputs": [],
   "source": [
    "class Config:\n",
    "    def __init__(self, **entries):\n",
    "        self.__dict__.update(entries)\n",
    "\n",
    "config = json.load(open(log_folder + 'config.json', 'r'))\n",
    "config = Config(**config)"
   ]
  },
  {
   "cell_type": "code",
   "execution_count": 12,
   "metadata": {
    "scrolled": false
   },
   "outputs": [
    {
     "name": "stdout",
     "output_type": "stream",
     "text": [
      "\n",
      "-------------   Fold 1 / 4  -------------\n",
      "\n",
      "\n",
      " -> Loading weights from ../logs/2020-12-23/2/Unet_efficientnet-b6_0.pt\n",
      "\n",
      "\n",
      "    -> Validating \n",
      "\n",
      " - Scored 0.9233 for image 2f6ecfcdf with threshold 0.35\n",
      " - Scored 0.8907 for image aaa6a05cc with threshold 0.40\n"
     ]
    }
   ],
   "source": [
    "metrics = k_fold_inf(config, df, log_folder=log_folder, use_full_size=False)"
   ]
  }
 ],
 "metadata": {
  "kernelspec": {
   "display_name": "venv",
   "language": "python",
   "name": "venv"
  },
  "language_info": {
   "codemirror_mode": {
    "name": "ipython",
    "version": 3
   },
   "file_extension": ".py",
   "mimetype": "text/x-python",
   "name": "python",
   "nbconvert_exporter": "python",
   "pygments_lexer": "ipython3",
   "version": "3.8.5"
  }
 },
 "nbformat": 4,
 "nbformat_minor": 4
}
