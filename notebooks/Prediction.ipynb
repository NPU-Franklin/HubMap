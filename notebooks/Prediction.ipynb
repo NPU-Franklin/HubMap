{
 "cells": [
  {
   "cell_type": "code",
   "execution_count": 1,
   "metadata": {
    "scrolled": true
   },
   "outputs": [
    {
     "data": {
      "application/javascript": [
       "\n",
       "            setTimeout(function() {\n",
       "                var nbb_cell_id = 1;\n",
       "                var nbb_unformatted_code = \"%load_ext nb_black\\n%load_ext autoreload\\n%autoreload 2\";\n",
       "                var nbb_formatted_code = \"%load_ext nb_black\\n%load_ext autoreload\\n%autoreload 2\";\n",
       "                var nbb_cells = Jupyter.notebook.get_cells();\n",
       "                for (var i = 0; i < nbb_cells.length; ++i) {\n",
       "                    if (nbb_cells[i].input_prompt_number == nbb_cell_id) {\n",
       "                        if (nbb_cells[i].get_text() == nbb_unformatted_code) {\n",
       "                             nbb_cells[i].set_text(nbb_formatted_code);\n",
       "                        }\n",
       "                        break;\n",
       "                    }\n",
       "                }\n",
       "            }, 500);\n",
       "            "
      ],
      "text/plain": [
       "<IPython.core.display.Javascript object>"
      ]
     },
     "metadata": {},
     "output_type": "display_data"
    }
   ],
   "source": [
    "%load_ext nb_black\n",
    "%load_ext autoreload\n",
    "%autoreload 2"
   ]
  },
  {
   "cell_type": "markdown",
   "metadata": {},
   "source": [
    "## Initalization"
   ]
  },
  {
   "cell_type": "markdown",
   "metadata": {},
   "source": [
    "### Imports"
   ]
  },
  {
   "cell_type": "code",
   "execution_count": 2,
   "metadata": {},
   "outputs": [
    {
     "data": {
      "application/javascript": [
       "\n",
       "            setTimeout(function() {\n",
       "                var nbb_cell_id = 2;\n",
       "                var nbb_unformatted_code = \"import os\\nimport sys\\nimport torch\\nimport zipfile\\nimport numpy as np\\nimport pandas as pd\\nimport plotly.express as px\\n\\nfrom matplotlib import pyplot as plt\\nfrom torch.utils.data import Dataset, DataLoader\\n\\nsys.path.append(\\\"../code/\\\")\";\n",
       "                var nbb_formatted_code = \"import os\\nimport sys\\nimport torch\\nimport zipfile\\nimport numpy as np\\nimport pandas as pd\\nimport plotly.express as px\\n\\nfrom matplotlib import pyplot as plt\\nfrom torch.utils.data import Dataset, DataLoader\\n\\nsys.path.append(\\\"../code/\\\")\";\n",
       "                var nbb_cells = Jupyter.notebook.get_cells();\n",
       "                for (var i = 0; i < nbb_cells.length; ++i) {\n",
       "                    if (nbb_cells[i].input_prompt_number == nbb_cell_id) {\n",
       "                        if (nbb_cells[i].get_text() == nbb_unformatted_code) {\n",
       "                             nbb_cells[i].set_text(nbb_formatted_code);\n",
       "                        }\n",
       "                        break;\n",
       "                    }\n",
       "                }\n",
       "            }, 500);\n",
       "            "
      ],
      "text/plain": [
       "<IPython.core.display.Javascript object>"
      ]
     },
     "metadata": {},
     "output_type": "display_data"
    }
   ],
   "source": [
    "import os\n",
    "import sys\n",
    "import torch\n",
    "import zipfile\n",
    "import numpy as np\n",
    "import pandas as pd\n",
    "import plotly.express as px\n",
    "\n",
    "from matplotlib import pyplot as plt\n",
    "from torch.utils.data import Dataset, DataLoader\n",
    "\n",
    "sys.path.append(\"../code/\")"
   ]
  },
  {
   "cell_type": "code",
   "execution_count": 5,
   "metadata": {},
   "outputs": [
    {
     "data": {
      "application/javascript": [
       "\n",
       "            setTimeout(function() {\n",
       "                var nbb_cell_id = 5;\n",
       "                var nbb_unformatted_code = \"from params import *\\n\\nfrom data.dataset import InferenceDataset\\nfrom data.transforms import HE_preprocess\\nfrom model_zoo.models import define_model\\nfrom utils.metrics import dice_scores_img\\nfrom utils.plots import plot_global_pred, plot_thresh_scores\\nfrom training.predict import predict_entire_mask\";\n",
       "                var nbb_formatted_code = \"from params import *\\n\\nfrom data.dataset import InferenceDataset\\nfrom data.transforms import HE_preprocess\\nfrom model_zoo.models import define_model\\nfrom utils.metrics import dice_scores_img\\nfrom utils.plots import plot_global_pred, plot_thresh_scores\\nfrom training.predict import predict_entire_mask\";\n",
       "                var nbb_cells = Jupyter.notebook.get_cells();\n",
       "                for (var i = 0; i < nbb_cells.length; ++i) {\n",
       "                    if (nbb_cells[i].input_prompt_number == nbb_cell_id) {\n",
       "                        if (nbb_cells[i].get_text() == nbb_unformatted_code) {\n",
       "                             nbb_cells[i].set_text(nbb_formatted_code);\n",
       "                        }\n",
       "                        break;\n",
       "                    }\n",
       "                }\n",
       "            }, 500);\n",
       "            "
      ],
      "text/plain": [
       "<IPython.core.display.Javascript object>"
      ]
     },
     "metadata": {},
     "output_type": "display_data"
    }
   ],
   "source": [
    "from params import *\n",
    "\n",
    "from data.dataset import InferenceDataset\n",
    "from data.transforms import HE_preprocess\n",
    "from model_zoo.models import define_model\n",
    "from utils.metrics import dice_scores_img\n",
    "from utils.plots import plot_global_pred, plot_thresh_scores\n",
    "from training.predict import predict_entire_mask"
   ]
  },
  {
   "cell_type": "markdown",
   "metadata": {},
   "source": [
    "### Load"
   ]
  },
  {
   "cell_type": "code",
   "execution_count": 17,
   "metadata": {},
   "outputs": [
    {
     "data": {
      "application/javascript": [
       "\n",
       "            setTimeout(function() {\n",
       "                var nbb_cell_id = 17;\n",
       "                var nbb_unformatted_code = \"ZIP_TRAIN = DATA_PATH + f\\\"train_{TILE_SIZE}_red_{REDUCE_FAC}.zip\\\"\\nZIP_MASKS = DATA_PATH + f\\\"masks_{TILE_SIZE}_red_{REDUCE_FAC}.zip\\\"\\n\\nIMG_FOLDER = DATA_PATH + f\\\"train_{TILE_SIZE}_red_{REDUCE_FAC}/\\\"\\nMSK_FOLDER = DATA_PATH + f\\\"masks_{TILE_SIZE}_red_{REDUCE_FAC}/\\\"\\n\\ndf_info = pd.read_csv(DATA_PATH + f\\\"HuBMAP-20-dataset_information.csv\\\")\\ndf_mask = pd.read_csv(DATA_PATH + \\\"train.csv\\\")\";\n",
       "                var nbb_formatted_code = \"ZIP_TRAIN = DATA_PATH + f\\\"train_{TILE_SIZE}_red_{REDUCE_FAC}.zip\\\"\\nZIP_MASKS = DATA_PATH + f\\\"masks_{TILE_SIZE}_red_{REDUCE_FAC}.zip\\\"\\n\\nIMG_FOLDER = DATA_PATH + f\\\"train_{TILE_SIZE}_red_{REDUCE_FAC}/\\\"\\nMSK_FOLDER = DATA_PATH + f\\\"masks_{TILE_SIZE}_red_{REDUCE_FAC}/\\\"\\n\\ndf_info = pd.read_csv(DATA_PATH + f\\\"HuBMAP-20-dataset_information.csv\\\")\\ndf_mask = pd.read_csv(DATA_PATH + \\\"train.csv\\\")\";\n",
       "                var nbb_cells = Jupyter.notebook.get_cells();\n",
       "                for (var i = 0; i < nbb_cells.length; ++i) {\n",
       "                    if (nbb_cells[i].input_prompt_number == nbb_cell_id) {\n",
       "                        if (nbb_cells[i].get_text() == nbb_unformatted_code) {\n",
       "                             nbb_cells[i].set_text(nbb_formatted_code);\n",
       "                        }\n",
       "                        break;\n",
       "                    }\n",
       "                }\n",
       "            }, 500);\n",
       "            "
      ],
      "text/plain": [
       "<IPython.core.display.Javascript object>"
      ]
     },
     "metadata": {},
     "output_type": "display_data"
    }
   ],
   "source": [
    "df_info = pd.read_csv(DATA_PATH + f\"HuBMAP-20-dataset_information.csv\")\n",
    "df_mask = pd.read_csv(DATA_PATH + \"train.csv\")\n",
    "df_images = pd.read_csv(OUT_PATH + \"df_images.csv\")"
   ]
  },
  {
   "cell_type": "markdown",
   "metadata": {},
   "source": [
    "## Viz"
   ]
  },
  {
   "cell_type": "code",
   "execution_count": null,
   "metadata": {},
   "outputs": [],
   "source": [
    "# Load pretrained models\n",
    "cv_column = \"4fold\" #fold\n",
    "encoder = \"se_resnext50_32x4d\" #\"resnet101\"\n",
    "decoder = \"Unet\"\n",
    "tile_size = 256   #the size of tiles\n",
    "reduce_fac = 4 #reduce the original images by 4 times"
   ]
  },
  {
   "cell_type": "code",
   "execution_count": null,
   "metadata": {},
   "outputs": [],
   "source": [
    "all_scores = []\n",
    "for fold_nb in df_images[cv_column].unique():\n",
    "    model_name = f\"{encoder}_{decoder}_{tile_size}_{reduce_fac}_fold{fold_nb}\"\n",
    "    model = torch.jit.load(f'../models/{model_name}.jit').to(\"cuda\")\n",
    "    # Here use validation images to visualize fair predictions\n",
    "    mask_names = df_images[df_images[cv_column]==fold_nb].tile_name.apply(lambda x: x.split(\"_\")[0]).unique()\n",
    "    for maskname in mask_names:\n",
    "        print(maskname)\n",
    "        predict_dataset = PredictFromImgDataset(f'../input/hubmap-kidney-segmentation/train/{maskname}.tiff',\n",
    "                                                mask_name=maskname,\n",
    "                                                overlap_factor=4,\n",
    "                                                reduce_factor=reduce_fac,\n",
    "                                                transforms=HE_preprocess(augment=False, visualize=False))\n",
    "\n",
    "        threshold = None\n",
    "        global_pred = predict_entire_mask(predict_dataset,\n",
    "                                          model,\n",
    "                                          batch_size=16,\n",
    "                                          threshold=threshold)\n",
    "\n",
    "        plot_global_pred(mask=predict_dataset.mask, pred=global_pred>0)\n",
    "        if threshold is None:\n",
    "            thresholds, scores = plot_thresh_scores(mask=predict_dataset.mask, pred=global_pred)\n",
    "            all_scores.append(scores)"
   ]
  },
  {
   "cell_type": "code",
   "execution_count": null,
   "metadata": {},
   "outputs": [],
   "source": [
    "encoded_mask = rle_encode_less_memory(global_pred)"
   ]
  },
  {
   "cell_type": "code",
   "execution_count": 19,
   "metadata": {},
   "outputs": [
    {
     "data": {
      "application/javascript": [
       "\n",
       "            setTimeout(function() {\n",
       "                var nbb_cell_id = 19;\n",
       "                var nbb_unformatted_code = \"df_images = pd.read_csv(OUT_PATH + 'df_images.csv')\";\n",
       "                var nbb_formatted_code = \"df_images = pd.read_csv(OUT_PATH + \\\"df_images.csv\\\")\";\n",
       "                var nbb_cells = Jupyter.notebook.get_cells();\n",
       "                for (var i = 0; i < nbb_cells.length; ++i) {\n",
       "                    if (nbb_cells[i].input_prompt_number == nbb_cell_id) {\n",
       "                        if (nbb_cells[i].get_text() == nbb_unformatted_code) {\n",
       "                             nbb_cells[i].set_text(nbb_formatted_code);\n",
       "                        }\n",
       "                        break;\n",
       "                    }\n",
       "                }\n",
       "            }, 500);\n",
       "            "
      ],
      "text/plain": [
       "<IPython.core.display.Javascript object>"
      ]
     },
     "metadata": {},
     "output_type": "display_data"
    }
   ],
   "source": []
  },
  {
   "cell_type": "markdown",
   "metadata": {},
   "source": [
    "# Visualize some results (raw results - not averaged)"
   ]
  },
  {
   "cell_type": "code",
   "execution_count": null,
   "metadata": {},
   "outputs": [],
   "source": [
    "model.eval()\n",
    "\n",
    "BS = 16\n",
    "val_df = df_images[df_images.fold==0].reset_index()\n",
    "val_dataset = TileDataset(val_df,\n",
    "                          IMG_FOLDER, MSK_FOLDER,\n",
    "                          transforms=HE_preprocess(augment=False, visualize=False))\n",
    "\n",
    "preds_dl = DataLoader(val_dataset, batch_size=BS,shuffle=True,num_workers=1)\n",
    "\n",
    "imgs,masks = next(iter(preds_dl))\n",
    "\n",
    "fig = plt.figure(figsize=(8,4*BS))\n",
    "for i,(img,mask) in enumerate(zip(imgs,masks)):\n",
    "    raw_pred = model(img.unsqueeze(0).to('cuda'))\n",
    "    pred = torch.sigmoid(raw_pred) > 0.5\n",
    "    pred = pred.detach().cpu().squeeze().numpy()\n",
    "    plt.subplot(BS, 2, 2*i+1)\n",
    "    img = img.permute(1,2,0).numpy()#.astype(np.uint8)\n",
    "    plt.imshow(img,vmin=0,vmax=255\n",
    "              )\n",
    "    plt.imshow(pred, alpha=0.5)\n",
    "    plt.axis('off')\n",
    "    plt.subplot(BS, 2 ,2*i+2)\n",
    "    plt.imshow(img,vmin=0,vmax=255\n",
    "              )\n",
    "    plt.imshow(mask.squeeze().numpy(), alpha=0.5)\n",
    "    plt.axis('off')\n",
    "    plt.subplots_adjust(wspace=None, hspace=None)"
   ]
  }
 ],
 "metadata": {
  "kernelspec": {
   "display_name": "Python 3",
   "language": "python",
   "name": "python3"
  },
  "language_info": {
   "codemirror_mode": {
    "name": "ipython",
    "version": 3
   },
   "file_extension": ".py",
   "mimetype": "text/x-python",
   "name": "python",
   "nbconvert_exporter": "python",
   "pygments_lexer": "ipython3",
   "version": "3.8.5"
  }
 },
 "nbformat": 4,
 "nbformat_minor": 4
}
